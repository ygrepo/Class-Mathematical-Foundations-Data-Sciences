{
 "cells": [
  {
   "cell_type": "code",
   "execution_count": 1,
   "metadata": {},
   "outputs": [],
   "source": [
    "import os\n",
    "import sounddevice as sd\n",
    "import numpy as np\n",
    "import soundfile as sf\n",
    "import matplotlib.pyplot as plt\n",
    "import pandas as pd\n",
    "import math\n",
    "from collections import Counter\n",
    "from sklearn.linear_model import LogisticRegression"
   ]
  },
  {
   "cell_type": "code",
   "execution_count": 2,
   "metadata": {},
   "outputs": [],
   "source": [
    "from music_tools import *"
   ]
  },
  {
   "cell_type": "code",
   "execution_count": 3,
   "metadata": {},
   "outputs": [],
   "source": [
    "df_train, df_test = load_df()"
   ]
  },
  {
   "cell_type": "code",
   "execution_count": 4,
   "metadata": {},
   "outputs": [
    {
     "data": {
      "text/html": [
       "<div>\n",
       "<style scoped>\n",
       "    .dataframe tbody tr th:only-of-type {\n",
       "        vertical-align: middle;\n",
       "    }\n",
       "\n",
       "    .dataframe tbody tr th {\n",
       "        vertical-align: top;\n",
       "    }\n",
       "\n",
       "    .dataframe thead th {\n",
       "        text-align: right;\n",
       "    }\n",
       "</style>\n",
       "<table border=\"1\" class=\"dataframe\">\n",
       "  <thead>\n",
       "    <tr style=\"text-align: right;\">\n",
       "      <th></th>\n",
       "      <th>filename</th>\n",
       "      <th>frequency</th>\n",
       "      <th>instrument_family</th>\n",
       "      <th>instrument_family_str</th>\n",
       "      <th>pitch</th>\n",
       "      <th>sample_rate</th>\n",
       "    </tr>\n",
       "  </thead>\n",
       "  <tbody>\n",
       "    <tr>\n",
       "      <td>0</td>\n",
       "      <td>string_acoustic_014-064-127</td>\n",
       "      <td>329.627557</td>\n",
       "      <td>8</td>\n",
       "      <td>string</td>\n",
       "      <td>64</td>\n",
       "      <td>16000</td>\n",
       "    </tr>\n",
       "    <tr>\n",
       "      <td>1</td>\n",
       "      <td>keyboard_electronic_001-065-127</td>\n",
       "      <td>349.228231</td>\n",
       "      <td>4</td>\n",
       "      <td>keyboard</td>\n",
       "      <td>65</td>\n",
       "      <td>16000</td>\n",
       "    </tr>\n",
       "    <tr>\n",
       "      <td>2</td>\n",
       "      <td>bass_synthetic_034-065-127</td>\n",
       "      <td>349.228231</td>\n",
       "      <td>0</td>\n",
       "      <td>bass</td>\n",
       "      <td>65</td>\n",
       "      <td>16000</td>\n",
       "    </tr>\n",
       "    <tr>\n",
       "      <td>3</td>\n",
       "      <td>guitar_acoustic_010-064-100</td>\n",
       "      <td>329.627557</td>\n",
       "      <td>3</td>\n",
       "      <td>guitar</td>\n",
       "      <td>64</td>\n",
       "      <td>16000</td>\n",
       "    </tr>\n",
       "    <tr>\n",
       "      <td>4</td>\n",
       "      <td>keyboard_electronic_001-060-075</td>\n",
       "      <td>261.625565</td>\n",
       "      <td>4</td>\n",
       "      <td>keyboard</td>\n",
       "      <td>60</td>\n",
       "      <td>16000</td>\n",
       "    </tr>\n",
       "  </tbody>\n",
       "</table>\n",
       "</div>"
      ],
      "text/plain": [
       "                          filename   frequency  instrument_family  \\\n",
       "0      string_acoustic_014-064-127  329.627557                  8   \n",
       "1  keyboard_electronic_001-065-127  349.228231                  4   \n",
       "2       bass_synthetic_034-065-127  349.228231                  0   \n",
       "3      guitar_acoustic_010-064-100  329.627557                  3   \n",
       "4  keyboard_electronic_001-060-075  261.625565                  4   \n",
       "\n",
       "  instrument_family_str  pitch  sample_rate  \n",
       "0                string     64        16000  \n",
       "1              keyboard     65        16000  \n",
       "2                  bass     65        16000  \n",
       "3                guitar     64        16000  \n",
       "4              keyboard     60        16000  "
      ]
     },
     "execution_count": 4,
     "metadata": {},
     "output_type": "execute_result"
    }
   ],
   "source": [
    "df_train.head()"
   ]
  },
  {
   "cell_type": "code",
   "execution_count": 5,
   "metadata": {},
   "outputs": [
    {
     "data": {
      "text/plain": [
       "filename                  object\n",
       "frequency                float64\n",
       "instrument_family          int64\n",
       "instrument_family_str     object\n",
       "pitch                      int64\n",
       "sample_rate                int64\n",
       "dtype: object"
      ]
     },
     "execution_count": 5,
     "metadata": {},
     "output_type": "execute_result"
    }
   ],
   "source": [
    "df_train.dtypes"
   ]
  },
  {
   "cell_type": "code",
   "execution_count": 6,
   "metadata": {},
   "outputs": [],
   "source": [
    "first_signal_df = df_train.iloc[0, :]\n",
    "first_signal, sampling_rate_first_signal = load_signal(first_signal_df[\"filename\"])\n",
    "play_signal(first_signal, sampling_rate_first_signal)"
   ]
  },
  {
   "cell_type": "code",
   "execution_count": 7,
   "metadata": {},
   "outputs": [
    {
     "data": {
      "text/plain": [
       "filename                 vocal_synthetic_003-067-025\n",
       "frequency                                    391.995\n",
       "instrument_family                                 10\n",
       "instrument_family_str                          vocal\n",
       "pitch                                             67\n",
       "Name: 19, dtype: object"
      ]
     },
     "execution_count": 7,
     "metadata": {},
     "output_type": "execute_result"
    }
   ],
   "source": [
    "vocal_signals = df_train [df_train[\"instrument_family_str\"] == \"vocal\"] \n",
    "first_vocal_signal_df = vocal_signals.iloc[0, :]\n",
    "first_vocal_signal_df.head()"
   ]
  },
  {
   "cell_type": "code",
   "execution_count": 8,
   "metadata": {},
   "outputs": [],
   "source": [
    "first_vocal_signal, sampling_rate_vocal_signal = load_signal(first_vocal_signal_df[\"filename\"])\n",
    "play_signal(first_vocal_signal, sampling_rate_vocal_signal)"
   ]
  },
  {
   "cell_type": "code",
   "execution_count": 9,
   "metadata": {},
   "outputs": [
    {
     "data": {
      "image/png": "[encoded data removed]",
      "text/plain": [
       "<Figure size 864x864 with 2 Axes>"
      ]
     },
     "metadata": {
      "needs_background": "light"
     },
     "output_type": "display_data"
    }
   ],
   "source": [
    "figure = plt.figure(figsize=(12, 12))\n",
    "\n",
    "plot_a = plt.subplot(211)\n",
    "time = np.linspace(0, len(first_signal) / sampling_rate_first_signal, num=len(first_signal))\n",
    "plot_a.plot(time, first_signal)\n",
    "plot_a.set_xlabel(\"time[s]\", fontsize=15, labelpad=10)\n",
    "plot_a.set_ylabel(\"signal value\", fontsize=15, labelpad=10)\n",
    "plt.setp(plot_a.get_xticklabels(), fontsize=18)\n",
    "plt.setp(plot_a.get_yticklabels(), fontsize=18)\n",
    "plot_a.set_xlim(xmin=0)\n",
    "\n",
    "#     plt.legend(fontsize=18)\n",
    "plot_a.set_title(\"instrument family: \" + first_signal_df[\"instrument_family_str\"] + \", frequency[Hz]: \" + \n",
    "                 str(round(first_signal_df[\"frequency\"], 3)), fontsize=18)\n",
    "\n",
    "plot_b = plt.subplot(212)\n",
    "time = np.linspace(0, len(first_vocal_signal) / sampling_rate_vocal_signal, num=len(first_vocal_signal))\n",
    "plot_b.plot(time, first_vocal_signal)\n",
    "plot_b.set_xlabel(\"time[s]\", fontsize=15, labelpad=10)\n",
    "plot_b.set_ylabel(\"signal value\", fontsize=15, labelpad=10)\n",
    "plot_b.set_title(\"instrument family: \" + first_vocal_signal_df[\"instrument_family_str\"] + \", frequency[Hz]: \" + \n",
    "                 str(round(first_vocal_signal_df[\"frequency\"], 3)), fontsize=18)\n",
    "plt.setp(plot_b.get_xticklabels(), fontsize=18)\n",
    "plt.setp(plot_b.get_yticklabels(), fontsize=18)\n",
    "plot_b.set_xlim(xmin=0)\n",
    "\n",
    "plt.gcf().subplots_adjust(bottom=0.3)\n",
    "plt.gcf().subplots_adjust(left=0.3)\n",
    "figure.tight_layout(pad=3.0)\n",
    "\n",
    "plt.savefig(\"signals.pdf\")\n",
    "plt.show()"
   ]
  },
  {
   "cell_type": "code",
   "execution_count": 10,
   "metadata": {},
   "outputs": [
    {
     "data": {
      "text/plain": [
       "array([8.+0.j, 0.+0.j, 0.-4.j, 0.+0.j, 0.+0.j, 0.+0.j, 0.+4.j, 0.+0.j])"
      ]
     },
     "execution_count": 10,
     "metadata": {},
     "output_type": "execute_result"
    }
   ],
   "source": [
    "W = np.fft.fft([1,2,1,0,1,2,1,0])\n",
    "W"
   ]
  },
  {
   "cell_type": "code",
   "execution_count": 11,
   "metadata": {},
   "outputs": [],
   "source": [
    "comp_f = list()\n",
    "for i in range(len(W)):\n",
    "    f = np.angle(W[i])/ (2 * np.pi)\n",
    "    comp_f.append(f)"
   ]
  },
  {
   "cell_type": "code",
   "execution_count": 12,
   "metadata": {},
   "outputs": [
    {
     "data": {
      "text/plain": [
       "[0.0, 0.0, -0.25, 0.0, 0.0, 0.0, 0.25, 0.0]"
      ]
     },
     "execution_count": 12,
     "metadata": {},
     "output_type": "execute_result"
    }
   ],
   "source": [
    "comp_f"
   ]
  },
  {
   "cell_type": "code",
   "execution_count": 13,
   "metadata": {},
   "outputs": [],
   "source": [
    "F = np.fft.fftfreq(len(W))"
   ]
  },
  {
   "cell_type": "code",
   "execution_count": 14,
   "metadata": {},
   "outputs": [
    {
     "data": {
      "text/plain": [
       "array([ 0.   ,  0.125,  0.25 ,  0.375, -0.5  , -0.375, -0.25 , -0.125])"
      ]
     },
     "execution_count": 14,
     "metadata": {},
     "output_type": "execute_result"
    }
   ],
   "source": [
    "F"
   ]
  },
  {
   "cell_type": "code",
   "execution_count": 15,
   "metadata": {},
   "outputs": [],
   "source": [
    "#df_test_small = df_test.iloc[:3,:]\n",
    "# df_test_small = df_test\n",
    "# signals = load_signals(df_test_small) \n",
    "# for i in range(len(df_test_small)):\n",
    "#     row = df_test_small.iloc[i, :]\n",
    "#     k = row[\"frequency\"]\n",
    "#     frate = row[\"sample_rate\"]\n",
    "#     signal = signals[i,:]\n",
    "#     imax = np.argmax(np.abs(signal))\n",
    "#     N = len(signal)\n",
    "#     freq =(k * imax) / N\n",
    "#     freq *= frate\n",
    "#     if row[\"pitch\"] == freq2pitch(freq):\n",
    "#         print(\"Got it\")\n",
    "#         print(i, imax, freq, freq2pitch(freq), row[\"pitch\"])"
   ]
  },
  {
   "cell_type": "code",
   "execution_count": 16,
   "metadata": {},
   "outputs": [
    {
     "data": {
      "text/plain": [
       "instrument_family\n",
       "0     55\n",
       "1     36\n",
       "2     12\n",
       "3     36\n",
       "4     61\n",
       "5     13\n",
       "6     31\n",
       "7     18\n",
       "8     12\n",
       "10     9\n",
       "Name: instrument_family, dtype: int64"
      ]
     },
     "execution_count": 16,
     "metadata": {},
     "output_type": "execute_result"
    }
   ],
   "source": [
    "instrument_family_total = df_test.groupby(\"instrument_family\")[\"instrument_family\"].count()\n",
    "instrument_family_total"
   ]
  },
  {
   "cell_type": "code",
   "execution_count": 17,
   "metadata": {},
   "outputs": [
    {
     "data": {
      "text/plain": [
       "array(['guitar', 'keyboard', 'reed', 'string', 'bass', 'brass', 'organ',\n",
       "       'flute', 'vocal', 'mallet'], dtype=object)"
      ]
     },
     "execution_count": 17,
     "metadata": {},
     "output_type": "execute_result"
    }
   ],
   "source": [
    "instrument_family_str  = df_test[\"instrument_family_str\"].unique()\n",
    "instrument_family_str"
   ]
  },
  {
   "cell_type": "code",
   "execution_count": 18,
   "metadata": {},
   "outputs": [
    {
     "name": "stdout",
     "output_type": "stream",
     "text": [
      "Invalid freq., i:278, freq:0.0\n"
     ]
    }
   ],
   "source": [
    "signals = load_signals(df_test) \n",
    "predicted_pitches = list()\n",
    "bad_prediction_count = 1\n",
    "uncorrect_predicted_signals = list()\n",
    "c = Counter()\n",
    "for i in range(len(df_test)):\n",
    "    row = df_test.iloc[i, :]\n",
    "    k = row[\"frequency\"]\n",
    "    frate = row[\"sample_rate\"]\n",
    "    instrument_family = row[\"instrument_family\"]\n",
    "    signal = signals[i,:]\n",
    "    w = np.fft.fft(signal)\n",
    "    freqs = np.fft.fftfreq(len(w), 1/frate)    \n",
    "    imax = np.argmax(np.abs(w))\n",
    "    freq = freqs[imax]\n",
    "    #freq_in_hertz = freq * frate\n",
    "    if freq ==0:\n",
    "        print(f\"Invalid freq., i:{i}, freq:{freq}\")\n",
    "        continue\n",
    "    if row[\"pitch\"] == freq2pitch(freq):\n",
    "        predicted_pitches.append(freq2pitch(freq))\n",
    "        #print(\"Good: {}, {}, {}, {}, {}\".format(i, row[\"pitch\"], row[\"frequency\"], freq, freq2pitch(freq)))\n",
    "    else:\n",
    "        c[instrument_family] += 1\n",
    "        uncorrect_predicted_signals.append((freq, signal))\n",
    "        #print(i, row[\"pitch\"], row[\"frequency\"], freq, freq2pitch(freq))"
   ]
  },
  {
   "cell_type": "code",
   "execution_count": 19,
   "metadata": {},
   "outputs": [
    {
     "data": {
      "text/plain": [
       "0.7208480565371025"
      ]
     },
     "execution_count": 19,
     "metadata": {},
     "output_type": "execute_result"
    }
   ],
   "source": [
    "len(predicted_pitches)/len(df_test)"
   ]
  },
  {
   "cell_type": "code",
   "execution_count": 20,
   "metadata": {},
   "outputs": [
    {
     "name": "stdout",
     "output_type": "stream",
     "text": [
      "Counter({0: 22, 1: 16, 4: 13, 7: 10, 6: 7, 10: 6, 3: 2, 8: 1, 5: 1})\n"
     ]
    }
   ],
   "source": [
    "print(c)"
   ]
  },
  {
   "cell_type": "code",
   "execution_count": 21,
   "metadata": {},
   "outputs": [
    {
     "name": "stdout",
     "output_type": "stream",
     "text": [
      "family:0, total:55, misclassified:22, incorrect prediction ratio:0.4\n",
      "family:1, total:36, misclassified:16, incorrect prediction ratio:0.4444444444444444\n",
      "family:2, total:12, misclassified:0, incorrect prediction ratio:0.0\n",
      "family:3, total:36, misclassified:2, incorrect prediction ratio:0.05555555555555555\n",
      "family:4, total:61, misclassified:13, incorrect prediction ratio:0.21311475409836064\n",
      "family:5, total:13, misclassified:1, incorrect prediction ratio:0.07692307692307693\n",
      "family:6, total:31, misclassified:7, incorrect prediction ratio:0.22580645161290322\n",
      "family:7, total:18, misclassified:10, incorrect prediction ratio:0.5555555555555556\n",
      "family:8, total:12, misclassified:1, incorrect prediction ratio:0.08333333333333333\n",
      "family:10, total:9, misclassified:6, incorrect prediction ratio:0.6666666666666666\n"
     ]
    }
   ],
   "source": [
    "ratios = list()\n",
    "for index, value in instrument_family_total.items():\n",
    "    print(f\"family:{index}, total:{value}, misclassified:{c[index]}, incorrect prediction ratio:{c[index]/value}\")\n",
    "    ratios.append(c[index]/value)"
   ]
  },
  {
   "cell_type": "code",
   "execution_count": 22,
   "metadata": {},
   "outputs": [
    {
     "data": {
      "text/plain": [
       "[0.6666666666666666,\n",
       " 0.5555555555555556,\n",
       " 0.4444444444444444,\n",
       " 0.4,\n",
       " 0.22580645161290322,\n",
       " 0.21311475409836064,\n",
       " 0.08333333333333333,\n",
       " 0.07692307692307693,\n",
       " 0.05555555555555555,\n",
       " 0.0]"
      ]
     },
     "execution_count": 22,
     "metadata": {},
     "output_type": "execute_result"
    }
   ],
   "source": [
    "ratios.sort(reverse=True)\n",
    "ratios"
   ]
  },
  {
   "cell_type": "code",
   "execution_count": 23,
   "metadata": {},
   "outputs": [],
   "source": [
    "instr_family_10 = df_test[df_test[\"instrument_family\"] == 10]"
   ]
  },
  {
   "cell_type": "code",
   "execution_count": 24,
   "metadata": {},
   "outputs": [
    {
     "data": {
      "text/html": [
       "<div>\n",
       "<style scoped>\n",
       "    .dataframe tbody tr th:only-of-type {\n",
       "        vertical-align: middle;\n",
       "    }\n",
       "\n",
       "    .dataframe tbody tr th {\n",
       "        vertical-align: top;\n",
       "    }\n",
       "\n",
       "    .dataframe thead th {\n",
       "        text-align: right;\n",
       "    }\n",
       "</style>\n",
       "<table border=\"1\" class=\"dataframe\">\n",
       "  <thead>\n",
       "    <tr style=\"text-align: right;\">\n",
       "      <th></th>\n",
       "      <th>filename</th>\n",
       "      <th>frequency</th>\n",
       "      <th>instrument_family</th>\n",
       "      <th>instrument_family_str</th>\n",
       "      <th>pitch</th>\n",
       "      <th>sample_rate</th>\n",
       "    </tr>\n",
       "  </thead>\n",
       "  <tbody>\n",
       "    <tr>\n",
       "      <td>1026</td>\n",
       "      <td>vocal_synthetic_003-060-050</td>\n",
       "      <td>261.625565</td>\n",
       "      <td>10</td>\n",
       "      <td>vocal</td>\n",
       "      <td>60</td>\n",
       "      <td>16000</td>\n",
       "    </tr>\n",
       "    <tr>\n",
       "      <td>1071</td>\n",
       "      <td>vocal_synthetic_003-067-050</td>\n",
       "      <td>391.995436</td>\n",
       "      <td>10</td>\n",
       "      <td>vocal</td>\n",
       "      <td>67</td>\n",
       "      <td>16000</td>\n",
       "    </tr>\n",
       "    <tr>\n",
       "      <td>1160</td>\n",
       "      <td>vocal_acoustic_000-062-050</td>\n",
       "      <td>293.664768</td>\n",
       "      <td>10</td>\n",
       "      <td>vocal</td>\n",
       "      <td>62</td>\n",
       "      <td>16000</td>\n",
       "    </tr>\n",
       "    <tr>\n",
       "      <td>1168</td>\n",
       "      <td>vocal_synthetic_003-064-100</td>\n",
       "      <td>329.627557</td>\n",
       "      <td>10</td>\n",
       "      <td>vocal</td>\n",
       "      <td>64</td>\n",
       "      <td>16000</td>\n",
       "    </tr>\n",
       "    <tr>\n",
       "      <td>1192</td>\n",
       "      <td>vocal_synthetic_003-069-100</td>\n",
       "      <td>440.000000</td>\n",
       "      <td>10</td>\n",
       "      <td>vocal</td>\n",
       "      <td>69</td>\n",
       "      <td>16000</td>\n",
       "    </tr>\n",
       "    <tr>\n",
       "      <td>1216</td>\n",
       "      <td>vocal_synthetic_003-064-075</td>\n",
       "      <td>329.627557</td>\n",
       "      <td>10</td>\n",
       "      <td>vocal</td>\n",
       "      <td>64</td>\n",
       "      <td>16000</td>\n",
       "    </tr>\n",
       "    <tr>\n",
       "      <td>1248</td>\n",
       "      <td>vocal_synthetic_003-065-025</td>\n",
       "      <td>349.228231</td>\n",
       "      <td>10</td>\n",
       "      <td>vocal</td>\n",
       "      <td>65</td>\n",
       "      <td>16000</td>\n",
       "    </tr>\n",
       "    <tr>\n",
       "      <td>1249</td>\n",
       "      <td>vocal_synthetic_003-069-127</td>\n",
       "      <td>440.000000</td>\n",
       "      <td>10</td>\n",
       "      <td>vocal</td>\n",
       "      <td>69</td>\n",
       "      <td>16000</td>\n",
       "    </tr>\n",
       "    <tr>\n",
       "      <td>1278</td>\n",
       "      <td>vocal_synthetic_003-072-127</td>\n",
       "      <td>523.251131</td>\n",
       "      <td>10</td>\n",
       "      <td>vocal</td>\n",
       "      <td>72</td>\n",
       "      <td>16000</td>\n",
       "    </tr>\n",
       "  </tbody>\n",
       "</table>\n",
       "</div>"
      ],
      "text/plain": [
       "                         filename   frequency  instrument_family  \\\n",
       "1026  vocal_synthetic_003-060-050  261.625565                 10   \n",
       "1071  vocal_synthetic_003-067-050  391.995436                 10   \n",
       "1160   vocal_acoustic_000-062-050  293.664768                 10   \n",
       "1168  vocal_synthetic_003-064-100  329.627557                 10   \n",
       "1192  vocal_synthetic_003-069-100  440.000000                 10   \n",
       "1216  vocal_synthetic_003-064-075  329.627557                 10   \n",
       "1248  vocal_synthetic_003-065-025  349.228231                 10   \n",
       "1249  vocal_synthetic_003-069-127  440.000000                 10   \n",
       "1278  vocal_synthetic_003-072-127  523.251131                 10   \n",
       "\n",
       "     instrument_family_str  pitch  sample_rate  \n",
       "1026                 vocal     60        16000  \n",
       "1071                 vocal     67        16000  \n",
       "1160                 vocal     62        16000  \n",
       "1168                 vocal     64        16000  \n",
       "1192                 vocal     69        16000  \n",
       "1216                 vocal     64        16000  \n",
       "1248                 vocal     65        16000  \n",
       "1249                 vocal     69        16000  \n",
       "1278                 vocal     72        16000  "
      ]
     },
     "execution_count": 24,
     "metadata": {},
     "output_type": "execute_result"
    }
   ],
   "source": [
    "instr_family_10.head(10)"
   ]
  },
  {
   "cell_type": "code",
   "execution_count": 25,
   "metadata": {},
   "outputs": [],
   "source": [
    "# df_test_small = df_test\n",
    "# signals = load_signals(df_test_small) \n",
    "# predicted_pitches = list()\n",
    "# for i in range(len(df_test_small)):\n",
    "#     row = df_test_small.iloc[i, :]\n",
    "#     k = row[\"frequency\"]\n",
    "#     frate = row[\"sample_rate\"]\n",
    "#     signal = signals[i,:]\n",
    "#     w = np.fft.fft(signal)    \n",
    "#     imax = np.argmax(np.abs(w))\n",
    "#     w_max = w[imax]\n",
    "#     freq = np.angle(w_max)\n",
    "#     freq /= 2 * np.pi\n",
    "#     freq_in_hertz = abs(freq * frate)\n",
    "#     if freq_in_hertz <1:\n",
    "#         print(freq)\n",
    "#         continue\n",
    "#     if row[\"pitch\"] == freq2pitch(freq_in_hertz):\n",
    "#         predicted_pitches.append(freq2pitch(freq_in_hertz))\n",
    "#     else:\n",
    "#         pass"
   ]
  },
  {
   "cell_type": "code",
   "execution_count": 26,
   "metadata": {},
   "outputs": [],
   "source": [
    "def get_coefficients_freqs(index_signal: int, uncorrect_predicted_signals, data: pd.DataFrame, index_data: int, ):\n",
    "    signal = uncorrect_predicted_signals[index_signal][1]\n",
    "    w = np.fft.fft(signal)\n",
    "    row = data.iloc[index_data, :]\n",
    "    frate = row[\"sample_rate\"]\n",
    "    freqs = np.fft.fftfreq(len(w), 1/frate)   \n",
    "    return w, freqs"
   ]
  },
  {
   "cell_type": "code",
   "execution_count": 27,
   "metadata": {},
   "outputs": [],
   "source": [
    "# signal_a = uncorrect_predicted_signals[0]\n",
    "# row_a = df_test.iloc[1, :]\n",
    "# frate_a = row_a[\"sample_rate\"]\n",
    "# w_a = np.fft.fft(signal_a)\n",
    "# freqs_a = np.fft.fftfreq(len(w_a), 1/frate_a)    \n",
    "#print(w, freqs)"
   ]
  },
  {
   "cell_type": "code",
   "execution_count": 28,
   "metadata": {},
   "outputs": [],
   "source": [
    "# signal_b = uncorrect_predicted_signals[1]\n",
    "# row_b = df_test.iloc[2, :]\n",
    "# frate_b = row_b[\"sample_rate\"]\n",
    "# w_b = np.fft.fft(signal_b)\n",
    "# freqs_b = np.fft.fftfreq(len(w_b), 1/frate_b)    "
   ]
  },
  {
   "cell_type": "code",
   "execution_count": 29,
   "metadata": {},
   "outputs": [],
   "source": [
    "# from scipy import fftpack\n",
    "# W = fftpack.fft(first_non_predicted_signal)\n",
    "# Freqs = fftpack.fftfreq(len(first_non_predicted_signal)) * frate\n",
    "# print(W, Freqs)"
   ]
  },
  {
   "cell_type": "code",
   "execution_count": 30,
   "metadata": {},
   "outputs": [],
   "source": [
    "def plot_signals(uncorrect_predicted_signals, data: pd.DataFrame):\n",
    "    figure = plt.figure(figsize=(12, 12))\n",
    "\n",
    "    plot_a = plt.subplot(211)\n",
    "    signal_a_index = 1\n",
    "    w_a, freqs_a = get_coefficients_freqs(0, uncorrect_predicted_signals, data, signal_a_index)\n",
    "    plot_a.plot(freqs_a, np.abs(w_a))\n",
    "    plot_a.set_xlabel(\"Frequency in Hertz [Hz]\", fontsize=15, labelpad=10)\n",
    "    plot_a.set_ylabel(\"Magnitude\", fontsize=15, labelpad=10)\n",
    "    plt.setp(plot_a.get_xticklabels(), fontsize=18)\n",
    "    plt.setp(plot_a.get_yticklabels(), fontsize=18)\n",
    "    frate_a = data.iloc[signal_a_index, :][\"sample_rate\"]\n",
    "    plot_a.set_xlim(-frate_a / 2, frate_a / 2)\n",
    "    #plot_a.set_xlim(xmin=0)\n",
    "    first_signal_df = data.iloc[signal_a_index, :]\n",
    "    plot_a.set_title(\"Instrument family: \" + first_signal_df[\"instrument_family_str\"] + \"\\n true frequency[Hz]: \" + \n",
    "                     str(round(first_signal_df[\"frequency\"], 3)) + \", predicted frequency[Hz]: \" + \n",
    "                     str(round(uncorrect_predicted_signals[0][0], 3)), fontsize=18, horizontalalignment=\"center\")\n",
    "\n",
    "    plot_b = plt.subplot(212)\n",
    "    signal_b_index = 1\n",
    "    w_b, freqs_b = get_coefficients_freqs(1, uncorrect_predicted_signals, data, signal_b_index)\n",
    "    plot_b.plot(freqs_b, np.abs(w_b))\n",
    "    plot_b.set_xlabel(\"Frequency in Hertz [Hz]\", fontsize=15, labelpad=10)\n",
    "    plot_b.set_ylabel(\"Absolute value DFT coefficients\", fontsize=15, labelpad=10)\n",
    "    plt.setp(plot_b.get_xticklabels(), fontsize=18)\n",
    "    plt.setp(plot_b.get_yticklabels(), fontsize=18)\n",
    "    frate_b = data.iloc[signal_b_index, :][\"sample_rate\"]\n",
    "    plot_b.set_xlim(-frate_b / 2, frate_b / 2)\n",
    "    second_signal_df = data.iloc[signal_b_index, :]\n",
    "    plot_b.set_title(\"Instrument family: \" + second_signal_df[\"instrument_family_str\"] + \"\\n true frequency[Hz]: \" + \n",
    "                     str(round(second_signal_df[\"frequency\"], 3)) + \", predicted frequency[Hz]: \" + \n",
    "                     str(round(uncorrect_predicted_signals[1][0], 3)), fontsize=18, horizontalalignment=\"center\")\n",
    "\n",
    "    plt.gcf().subplots_adjust(bottom=0.3)\n",
    "    plt.gcf().subplots_adjust(left=0.3)\n",
    "    figure.tight_layout(pad=3.0)\n",
    "\n",
    "    plt.savefig(\"misclassified_signals.pdf\")\n",
    "    plt.show()"
   ]
  },
  {
   "cell_type": "code",
   "execution_count": 31,
   "metadata": {},
   "outputs": [
    {
     "data": {
      "image/png": "[encoded data removed]",
      "text/plain": [
       "<Figure size 864x864 with 2 Axes>"
      ]
     },
     "metadata": {
      "needs_background": "light"
     },
     "output_type": "display_data"
    }
   ],
   "source": [
    "plot_signals(uncorrect_predicted_signals, df_test)"
   ]
  },
  {
   "cell_type": "code",
   "execution_count": 32,
   "metadata": {},
   "outputs": [],
   "source": [
    "model = LogisticRegression(multi_class=\"multinomial\", solver=\"lbfgs\", fit_intercept=False)"
   ]
  },
  {
   "cell_type": "code",
   "execution_count": 33,
   "metadata": {},
   "outputs": [],
   "source": [
    "def load_data(data):\n",
    "    pitches = list()\n",
    "    signals = load_signals(data) \n",
    "    X = list()\n",
    "    y = list()\n",
    "    for i in range(len(data)):\n",
    "        row = data.iloc[i, :]\n",
    "        pitch = row[\"pitch\"]\n",
    "        pitches.append(pitch)\n",
    "        y.append(pitch)\n",
    "        signal = signals[i,:]\n",
    "        w = np.fft.fft(signal)\n",
    "        X.append(np.abs(w))\n",
    "    X = np.array(X)\n",
    "    y = np.array(y)\n",
    "    print(X.shape, y.shape) \n",
    "    return X, y, pitches"
   ]
  },
  {
   "cell_type": "code",
   "execution_count": 34,
   "metadata": {},
   "outputs": [
    {
     "name": "stdout",
     "output_type": "stream",
     "text": [
      "(1000, 64000) (1000,)\n"
     ]
    }
   ],
   "source": [
    "X_train, y_train, _ = load_data(df_train)"
   ]
  },
  {
   "cell_type": "code",
   "execution_count": 35,
   "metadata": {},
   "outputs": [
    {
     "ename": "NameError",
     "evalue": "name 'X' is not defined",
     "output_type": "error",
     "traceback": [
      "\u001b[0;31m---------------------------------------------------------------------------\u001b[0m",
      "\u001b[0;31mNameError\u001b[0m                                 Traceback (most recent call last)",
      "\u001b[0;32m<ipython-input-35-6d10fe8973eb>\u001b[0m in \u001b[0;36m<module>\u001b[0;34m\u001b[0m\n\u001b[0;32m----> 1\u001b[0;31m \u001b[0mmodel\u001b[0m\u001b[0;34m.\u001b[0m\u001b[0mfit\u001b[0m\u001b[0;34m(\u001b[0m\u001b[0mX\u001b[0m\u001b[0;34m,\u001b[0m \u001b[0my\u001b[0m\u001b[0;34m)\u001b[0m\u001b[0;34m\u001b[0m\u001b[0;34m\u001b[0m\u001b[0m\n\u001b[0m",
      "\u001b[0;31mNameError\u001b[0m: name 'X' is not defined"
     ]
    }
   ],
   "source": [
    "model.fit(X, y)"
   ]
  },
  {
   "cell_type": "code",
   "execution_count": null,
   "metadata": {},
   "outputs": [],
   "source": [
    "X_test, y_test, pitches = load_data(df_test)"
   ]
  },
  {
   "cell_type": "code",
   "execution_count": null,
   "metadata": {},
   "outputs": [],
   "source": [
    "y_predict = model.predict(X_test)"
   ]
  },
  {
   "cell_type": "code",
   "execution_count": null,
   "metadata": {},
   "outputs": [],
   "source": [
    "score = model.score(X_test, y_test)\n",
    "print(score)"
   ]
  },
  {
   "cell_type": "code",
   "execution_count": null,
   "metadata": {},
   "outputs": [],
   "source": [
    "model_coeff = model.coef_"
   ]
  },
  {
   "cell_type": "code",
   "execution_count": null,
   "metadata": {},
   "outputs": [],
   "source": [
    "#pitches[:20]"
   ]
  },
  {
   "cell_type": "code",
   "execution_count": null,
   "metadata": {},
   "outputs": [],
   "source": [
    "model_coeff[0,:]"
   ]
  },
  {
   "cell_type": "code",
   "execution_count": null,
   "metadata": {},
   "outputs": [],
   "source": [
    "test_pitches  = df_test[\"pitch\"].unique()\n",
    "test_pitches"
   ]
  },
  {
   "cell_type": "code",
   "execution_count": null,
   "metadata": {},
   "outputs": [],
   "source": [
    "def get_freqs(index_pitch: int, model_coeff, pitches):\n",
    "    pitch = pitches[index_pitch]\n",
    "    print(f\"Pitch:{pitch}\")\n",
    "    w = model_coeff[index_pitch, :]\n",
    "    frate = pitch2freq(pitch)\n",
    "    print(f\"frate:{frate}\")\n",
    "    freqs = np.fft.fftfreq(len(w), 1/frate)   \n",
    "    return w, freqs, frate"
   ]
  },
  {
   "cell_type": "code",
   "execution_count": null,
   "metadata": {},
   "outputs": [],
   "source": [
    "w_a, freqs_a = get_freqs(3,model_coeff,  test_pitches)"
   ]
  },
  {
   "cell_type": "code",
   "execution_count": null,
   "metadata": {},
   "outputs": [],
   "source": [
    "def plot_classification(model, data: pd.DataFrame):\n",
    "    figure = plt.figure(figsize=(12, 20))\n",
    "\n",
    "    model_coeff = model.coef_\n",
    "    test_pitches  = df_test[\"pitch\"].unique()\n",
    "\n",
    "    plot_a = plt.subplot(311)\n",
    "    pitch_index_60 = 3\n",
    "    w_a, freqs_a, frate_a = get_freqs(pitch_index_60, model_coeff, test_pitches)\n",
    "    plot_a.plot(freqs_a, np.abs(w_a))\n",
    "    plot_a.set_xlabel(\"Frequency in Hertz [Hz]\", fontsize=15, labelpad=10)\n",
    "    plot_a.set_ylabel(\"Magnitude\", fontsize=15, labelpad=10)\n",
    "    plt.setp(plot_a.get_xticklabels(), fontsize=18)\n",
    "    plt.setp(plot_a.get_yticklabels(), fontsize=18)\n",
    "    plot_a.set_xlim(-frate_a / 2, frate_a / 2)\n",
    "    plot_a.set_title(f\"Pitch:{test_pitches[pitch_index_60]}\")\n",
    "\n",
    "    plot_b = plt.subplot(312)\n",
    "    pitch_index_65 = 6\n",
    "    w_b, freqs_b, frate_b = get_freqs(pitch_index_65, model_coeff, test_pitches)\n",
    "    plot_b.plot(freqs_b, np.abs(w_b))\n",
    "    plot_b.set_xlabel(\"Frequency in Hertz [Hz]\", fontsize=15, labelpad=10)\n",
    "    plot_b.set_ylabel(\"Magnitude\", fontsize=15, labelpad=10)\n",
    "    plt.setp(plot_b.get_xticklabels(), fontsize=18)\n",
    "    plt.setp(plot_b.get_yticklabels(), fontsize=18)\n",
    "    plot_b.set_xlim(-frate_b / 2, frate_b / 2)\n",
    "    plot_b.set_title(f\"Pitch:{test_pitches[pitch_index_65]}\")\n",
    "\n",
    "    plot_c = plt.subplot(313)\n",
    "    pitch_index_72 = 2\n",
    "    w_c, freqs_c, frate_c = get_freqs(pitch_index_72, model_coeff, test_pitches)\n",
    "    plot_c.plot(freqs_c, np.abs(w_c))\n",
    "    plot_c.set_xlabel(\"Frequency in Hertz [Hz]\", fontsize=15, labelpad=10)\n",
    "    plot_c.set_ylabel(\"Magnitude\", fontsize=15, labelpad=10)\n",
    "    plt.setp(plot_c.get_xticklabels(), fontsize=18)\n",
    "    plt.setp(plot_c.get_yticklabels(), fontsize=18)\n",
    "    plot_c.set_xlim(-frate_c / 2, frate_c / 2)\n",
    "    plot_c.set_title(f\"Pitch:{test_pitches[pitch_index_72]}\")\n",
    "\n",
    " \n",
    "    plt.gcf().subplots_adjust(bottom=0.3)\n",
    "    plt.gcf().subplots_adjust(left=0.3)\n",
    "    figure.tight_layout(pad=3.0)\n",
    "\n",
    "    plt.savefig(\"pitch_classification.pdf\")\n",
    "    plt.show()"
   ]
  },
  {
   "cell_type": "code",
   "execution_count": null,
   "metadata": {},
   "outputs": [],
   "source": [
    "plot_classification(model, df_test)"
   ]
  },
  {
   "cell_type": "code",
   "execution_count": null,
   "metadata": {},
   "outputs": [],
   "source": []
  }
 ],
 "metadata": {
  "kernelspec": {
   "display_name": "mathds",
   "language": "python",
   "name": "mathds"
  },
  "language_info": {
   "codemirror_mode": {
    "name": "ipython",
    "version": 3
   },
   "file_extension": ".py",
   "mimetype": "text/x-python",
   "name": "python",
   "nbconvert_exporter": "python",
   "pygments_lexer": "ipython3",
   "version": "3.7.3"
  }
 },
 "nbformat": 4,
 "nbformat_minor": 4
}
