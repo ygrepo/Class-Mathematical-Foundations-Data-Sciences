{
 "cells": [
  {
   "cell_type": "code",
   "execution_count": null,
   "metadata": {},
   "outputs": [],
   "source": [
    "import pandas as pd\n",
    "import numpy as np\n",
    "import matplotlib.pyplot as plt\n",
    "from scipy import stats\n",
    "import seaborn as sns\n",
    "sns.set()"
   ]
  },
  {
   "cell_type": "code",
   "execution_count": null,
   "metadata": {},
   "outputs": [],
   "source": [
    "data = pd.read_csv('Folds5x2_pp.csv')"
   ]
  },
  {
   "cell_type": "code",
   "execution_count": null,
   "metadata": {},
   "outputs": [],
   "source": [
    "data = data.apply(pd.to_numeric, errors='coerce')"
   ]
  },
  {
   "cell_type": "code",
   "execution_count": null,
   "metadata": {},
   "outputs": [],
   "source": [
    "data = data.dropna()"
   ]
  },
  {
   "cell_type": "code",
   "execution_count": null,
   "metadata": {},
   "outputs": [],
   "source": [
    "X = np.array(data[ ['AT', 'V']])"
   ]
  },
  {
   "cell_type": "code",
   "execution_count": null,
   "metadata": {},
   "outputs": [],
   "source": [
    "y = np.array(data['PE'])"
   ]
  },
  {
   "cell_type": "code",
   "execution_count": null,
   "metadata": {},
   "outputs": [],
   "source": [
    "def return_beta(X, y):\n",
    "    ``` fit y = X \\beta + \\beta_0.\n",
    "    return \\beta ```\n",
    "\n",
    "    \n",
    "    return beta"
   ]
  },
  {
   "cell_type": "markdown",
   "metadata": {},
   "source": [
    "### Calculate Bootstrap Betas"
   ]
  },
  {
   "cell_type": "code",
   "execution_count": null,
   "metadata": {},
   "outputs": [],
   "source": [
    "beta_array = []\n",
    "\n",
    "for _ in range(500):\n",
    "    idx = np.random.choice(np.arange(X.shape[0]), 100, False);\n",
    "    beta_array.append( return_beta(X[idx], y[idx]))"
   ]
  },
  {
   "cell_type": "code",
   "execution_count": null,
   "metadata": {},
   "outputs": [],
   "source": [
    "beta_array = np.array(beta_array)"
   ]
  },
  {
   "cell_type": "markdown",
   "metadata": {},
   "source": [
    "### 4(a) Look at distribution of marginals"
   ]
  },
  {
   "cell_type": "code",
   "execution_count": null,
   "metadata": {},
   "outputs": [],
   "source": [
    "sns.distplot(beta_array[:, 0], bins = 30, kde=False, fit=stats.norm)\n",
    "plt.title(r'$\\beta_1$')\n",
    "plt.savefig('marginal_beta_1.pdf',bbox_inches='tight' )"
   ]
  },
  {
   "cell_type": "code",
   "execution_count": null,
   "metadata": {},
   "outputs": [],
   "source": [
    "sns.distplot(beta_array[:, 1], bins = 30, kde=False, fit=stats.norm)\n",
    "plt.title(r'$\\beta_2$')\n",
    "plt.savefig('marginal_beta_2.pdf',bbox_inches='tight' )"
   ]
  },
  {
   "cell_type": "code",
   "execution_count": null,
   "metadata": {},
   "outputs": [],
   "source": [
    "beta_mean = ## empricial mean of all betas from boostrap"
   ]
  },
  {
   "cell_type": "markdown",
   "metadata": {},
   "source": [
    "### 4(b) Principal Directions"
   ]
  },
  {
   "cell_type": "code",
   "execution_count": null,
   "metadata": {},
   "outputs": [],
   "source": [
    "beta_u = #matrix with principal directions of beta cloud as columns\n",
    "x_u = #matrix with principal directions of the X as columns"
   ]
  },
  {
   "cell_type": "code",
   "execution_count": null,
   "metadata": {},
   "outputs": [],
   "source": [
    "scaling = 0.15 ## a variable to make adjust the length of the arrows"
   ]
  },
  {
   "cell_type": "code",
   "execution_count": null,
   "metadata": {},
   "outputs": [],
   "source": [
    "plt.scatter(beta_array[:, 0], beta_array[:, 1])\n",
    "\n",
    "plt.plot(beta_mean[0], beta_mean[1], '*', color='black')\n",
    "\n",
    "### plot principle direction of the covariance matrix of X\n",
    "plt.arrow(beta_mean[0], beta_mean[1], scaling*x_u[1, 0], scaling*x_u[1, 1], head_width=0.02, \n",
    "         head_length=0.03, fc='red', ec='red',length_includes_head=True,lw=2)\n",
    "plt.arrow(-1.703, -0.326,  scaling*x_u[0, 0], scaling*x_u[0, 1], head_width=0.02, \n",
    "         head_length=0.03, fc='red', ec='red',length_includes_head=True,lw=2)\n",
    "\n",
    "\n",
    "### plot principle direction of the covariance matrix of betas\n",
    "plt.arrow(beta_mean[0], beta_mean[1],  scaling*beta_u[0, 0], scaling*beta_u[0, 1], head_width=0.02, \n",
    "         head_length=0.03, fc='purple', ec='purple',length_includes_head=True,lw=2)\n",
    "plt.arrow(beta_mean[0], beta_mean[1], scaling*beta_u[1, 0], scaling*beta_u[1, 1], head_width=0.02, \n",
    "         head_length=0.03, fc='purple', ec='purple',length_includes_head=True,lw=2)\n",
    "\n",
    "plt.plot()\n",
    "\n",
    "plt.savefig('scatter_plot.pdf',bbox_inches='tight' )"
   ]
  },
  {
   "cell_type": "markdown",
   "metadata": {},
   "source": [
    "4(c) Do the principal directions of $X$ datapoints and $\\beta^k$ datapoints align? Give a condition on the data generation process under which these principal directions will align. \n"
   ]
  },
  {
   "cell_type": "code",
   "execution_count": null,
   "metadata": {},
   "outputs": [],
   "source": []
  }
 ],
 "metadata": {
  "kernelspec": {
   "display_name": "Python 3",
   "language": "python",
   "name": "python3"
  },
  "language_info": {
   "codemirror_mode": {
    "name": "ipython",
    "version": 3
   },
   "file_extension": ".py",
   "mimetype": "text/x-python",
   "name": "python",
   "nbconvert_exporter": "python",
   "pygments_lexer": "ipython3",
   "version": "3.7.3"
  }
 },
 "nbformat": 4,
 "nbformat_minor": 2
}
