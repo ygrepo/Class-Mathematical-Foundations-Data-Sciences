{
 "cells": [
  {
   "cell_type": "code",
   "execution_count": 162,
   "metadata": {},
   "outputs": [],
   "source": [
    "import os.path\n",
    "import math\n",
    "import matplotlib.pyplot as plt\n",
    "import numpy as np\n",
    "from matplotlib.artist import setp\n",
    "from sklearn.model_selection import train_test_split\n",
    "import numpy as np\n",
    "from sklearn.linear_model import LinearRegression\n",
    "from sklearn.metrics import mean_squared_error"
   ]
  },
  {
   "cell_type": "code",
   "execution_count": 163,
   "metadata": {},
   "outputs": [],
   "source": [
    "dataset = np.loadtxt(\"oxford_temperatures.txt\")\n",
    "\n",
    "max_temp = np.array(dataset[:,2])\n",
    "rain = np.array(dataset[:,5])\n",
    "\n",
    "max_temp_train, max_temp_test, rain_train, rain_test = train_test_split(max_temp, rain, test_size=0.30, random_state=42)\n",
    "max_temp_val, max_temp_test, rain_val, rain_test = train_test_split(max_temp_test, rain_test, test_size=0.50, random_state=42)\n",
    "\n",
    "width_bin = 0.5\n",
    "max_val = np.max(max_temp)\n",
    "grid = np.arange(0, max_val + 1,width_bin)\n",
    "\n",
    "# for a in np.arange(4, 25, 4):\n",
    "#     split_and_plot(a, max_temp_train, rain_train, max_temp_val, rain_val)"
   ]
  },
  {
   "cell_type": "code",
   "execution_count": 164,
   "metadata": {},
   "outputs": [
    {
     "name": "stdout",
     "output_type": "stream",
     "text": [
      "(1360,) (1360,) (292,) (292,)\n"
     ]
    }
   ],
   "source": [
    "print(max_temp_train.shape, rain_train.shape, max_temp_val.shape, rain_val.shape)"
   ]
  },
  {
   "cell_type": "code",
   "execution_count": 168,
   "metadata": {},
   "outputs": [],
   "source": [
    "max_temp_train_less_a = max_temp_train[np.where(max_temp_train < a)].reshape(-1, 1)\n",
    "n_sample_set_less_a = max_temp_train_less_a.shape[0]\n",
    "rain_train_less_a = rain_train[np.where(max_temp_train < a)]\n",
    "max_temp_train_greater_a = max_temp_train[np.where(max_temp_train >= a)].reshape(-1, 1)\n",
    "n_sample_greater_a = max_temp_train_less_a.shape[0]\n",
    "rain_train_greater_a = rain_train[np.where(max_temp_train >= a)]\n",
    "max_temp_val_less_a = max_temp_val[np.where(max_temp_val < a)].reshape(-1, 1)\n",
    "rain_val_less_a = rain_val[np.where(max_temp_val < a)]\n",
    "max_temp_val_greater_a = max_temp_val[np.where(max_temp_val >= a)].reshape(-1, 1)\n",
    "rain_val_greater_a = rain_val[np.where(max_temp_val >= a)].reshape(-1, 1)"
   ]
  },
  {
   "cell_type": "code",
   "execution_count": 169,
   "metadata": {},
   "outputs": [
    {
     "name": "stdout",
     "output_type": "stream",
     "text": [
      "(32, 1) (1328,) (3, 1) (289, 1)\n"
     ]
    }
   ],
   "source": [
    "print(max_temp_train_less_a.shape, max_temp_greater_a.shape, max_temp_val_less_a.shape, max_temp_val_greater_a.shape)"
   ]
  },
  {
   "cell_type": "code",
   "execution_count": 170,
   "metadata": {},
   "outputs": [],
   "source": [
    "less_a_weights = np.array(1./n_sample_set_less_a)"
   ]
  },
  {
   "cell_type": "code",
   "execution_count": 171,
   "metadata": {},
   "outputs": [],
   "source": [
    "less_a_weights = np.repeat(less_a_weights, rain_train_less_a.shape[0])"
   ]
  },
  {
   "cell_type": "code",
   "execution_count": 173,
   "metadata": {},
   "outputs": [
    {
     "data": {
      "text/plain": [
       "array([0.03125, 0.03125, 0.03125, 0.03125, 0.03125, 0.03125, 0.03125,\n",
       "       0.03125, 0.03125, 0.03125, 0.03125, 0.03125, 0.03125, 0.03125,\n",
       "       0.03125, 0.03125, 0.03125, 0.03125, 0.03125, 0.03125, 0.03125,\n",
       "       0.03125, 0.03125, 0.03125, 0.03125, 0.03125, 0.03125, 0.03125,\n",
       "       0.03125, 0.03125, 0.03125, 0.03125])"
      ]
     },
     "execution_count": 173,
     "metadata": {},
     "output_type": "execute_result"
    }
   ],
   "source": [
    "less_a_weights"
   ]
  },
  {
   "cell_type": "code",
   "execution_count": 150,
   "metadata": {},
   "outputs": [],
   "source": [
    "y_true = np.array([0.5, 1, 2])\n",
    "#y_true = np.array([[0.5, 1],[-1, 1],[7, -6]])"
   ]
  },
  {
   "cell_type": "code",
   "execution_count": 151,
   "metadata": {},
   "outputs": [],
   "source": [
    "y_pred = np.array([0, 2, 4])\n",
    "#y_pred = np.array([[0, 2],[-1, 2],[8, -5]])"
   ]
  },
  {
   "cell_type": "code",
   "execution_count": 174,
   "metadata": {},
   "outputs": [],
   "source": [
    "sample_weight= np.array([0.5, 0.5, 0.2])"
   ]
  },
  {
   "cell_type": "code",
   "execution_count": 175,
   "metadata": {},
   "outputs": [
    {
     "data": {
      "text/plain": [
       "1.1875"
      ]
     },
     "execution_count": 175,
     "metadata": {},
     "output_type": "execute_result"
    }
   ],
   "source": [
    " mean_squared_error(y_true, y_pred, sample_weight=sample_weight)"
   ]
  },
  {
   "cell_type": "code",
   "execution_count": 154,
   "metadata": {},
   "outputs": [],
   "source": [
    "sample_weight= np.array([0.5, 0.5, 0.2])"
   ]
  },
  {
   "cell_type": "code",
   "execution_count": 155,
   "metadata": {},
   "outputs": [],
   "source": [
    "output_errors = np.average((y_true - y_pred) ** 2, axis=0, weights=sample_weight)"
   ]
  },
  {
   "cell_type": "code",
   "execution_count": 156,
   "metadata": {},
   "outputs": [
    {
     "data": {
      "text/plain": [
       "1.1875"
      ]
     },
     "execution_count": 156,
     "metadata": {},
     "output_type": "execute_result"
    }
   ],
   "source": [
    "output_errors"
   ]
  },
  {
   "cell_type": "code",
   "execution_count": 158,
   "metadata": {},
   "outputs": [],
   "source": [
    "#mse = np.average(output_errors, weights=sample_weight)"
   ]
  },
  {
   "cell_type": "code",
   "execution_count": 145,
   "metadata": {},
   "outputs": [
    {
     "data": {
      "text/plain": [
       "0.625"
      ]
     },
     "execution_count": 145,
     "metadata": {},
     "output_type": "execute_result"
    }
   ],
   "source": [
    "mse"
   ]
  },
  {
   "cell_type": "code",
   "execution_count": 146,
   "metadata": {},
   "outputs": [
    {
     "data": {
      "text/plain": [
       "array([0.5, 1. ])"
      ]
     },
     "execution_count": 146,
     "metadata": {},
     "output_type": "execute_result"
    }
   ],
   "source": [
    "y_true"
   ]
  },
  {
   "cell_type": "code",
   "execution_count": 161,
   "metadata": {},
   "outputs": [
    {
     "data": {
      "text/plain": [
       "1.1875"
      ]
     },
     "execution_count": 161,
     "metadata": {},
     "output_type": "execute_result"
    }
   ],
   "source": [
    "((0.5)**2 * 0.5 + 0.5 + 4 * 0.2) /(1.2)"
   ]
  },
  {
   "cell_type": "code",
   "execution_count": 177,
   "metadata": {},
   "outputs": [
    {
     "data": {
      "text/plain": [
       "tuple"
      ]
     },
     "execution_count": 177,
     "metadata": {},
     "output_type": "execute_result"
    }
   ],
   "source": [
    "y_true.shape)"
   ]
  },
  {
   "cell_type": "code",
   "execution_count": 178,
   "metadata": {},
   "outputs": [
    {
     "data": {
      "text/plain": [
       "array([0.5, 1. , 2. , 0. , 2. , 4. ])"
      ]
     },
     "execution_count": 178,
     "metadata": {},
     "output_type": "execute_result"
    }
   ],
   "source": [
    "np.hstack((y_true, y_pred))"
   ]
  },
  {
   "cell_type": "code",
   "execution_count": null,
   "metadata": {},
   "outputs": [],
   "source": []
  }
 ],
 "metadata": {
  "kernelspec": {
   "display_name": "Python [conda env:mathds] *",
   "language": "python",
   "name": "conda-env-mathds-py"
  },
  "language_info": {
   "codemirror_mode": {
    "name": "ipython",
    "version": 3
   },
   "file_extension": ".py",
   "mimetype": "text/x-python",
   "name": "python",
   "nbconvert_exporter": "python",
   "pygments_lexer": "ipython3",
   "version": "3.7.3"
  }
 },
 "nbformat": 4,
 "nbformat_minor": 4
}
