{
 "cells": [
  {
   "cell_type": "code",
   "execution_count": 2,
   "metadata": {},
   "outputs": [],
   "source": [
    "import os.path\n",
    "import math\n",
    "import matplotlib.pyplot as plt\n",
    "import numpy as np\n",
    "from matplotlib.artist import setp\n",
    "from sklearn.model_selection import train_test_split\n",
    "import numpy as np\n",
    "from sklearn.linear_model import LinearRegression"
   ]
  },
  {
   "cell_type": "code",
   "execution_count": 75,
   "metadata": {},
   "outputs": [],
   "source": [
    "dataset = np.loadtxt(\"oxford_temperatures.txt\")\n",
    "\n",
    "max_temp = np.array(dataset[:,2])\n",
    "rain = np.array(dataset[:,5])\n",
    "\n",
    "max_temp_train, max_temp_test, rain_train, rain_test = train_test_split(max_temp, rain, test_size=0.30, random_state=42)\n",
    "max_temp_val, max_temp_test, rain_val, rain_test = train_test_split(max_temp_test, rain_test, test_size=0.50, random_state=42)\n",
    "\n",
    "width_bin = 0.5\n",
    "max_val = np.max(max_temp)\n",
    "grid = np.arange(0, max_val + 1,width_bin)\n",
    "\n",
    "# for a in np.arange(4, 25, 4):\n",
    "#     split_and_plot(a, max_temp_train, rain_train, max_temp_val, rain_val)"
   ]
  },
  {
   "cell_type": "code",
   "execution_count": 76,
   "metadata": {},
   "outputs": [
    {
     "name": "stdout",
     "output_type": "stream",
     "text": [
      "(1360,) (1360,) (292,) (292,)\n"
     ]
    }
   ],
   "source": [
    "print(max_temp_train.shape, rain_train.shape, max_temp_val.shape, rain_val.shape)"
   ]
  },
  {
   "cell_type": "code",
   "execution_count": 77,
   "metadata": {},
   "outputs": [],
   "source": [
    "max_temp_train_less_a = max_temp_train[max_temp_train<a]#.reshape(-1, 1)\n",
    "max_temp_train_greater_a = max_temp_train[max_temp_train>=a]#.reshape(-1, 1)\n",
    "max_temp_val_less_a = max_temp_val[max_temp_val<=a]#.reshape(-1, 1)\n",
    "max_temp_val_greater_a = max_temp_val[max_temp_val>a]#.reshape(-1, 1)"
   ]
  },
  {
   "cell_type": "code",
   "execution_count": 88,
   "metadata": {},
   "outputs": [
    {
     "data": {
      "text/plain": [
       "(33,)"
      ]
     },
     "execution_count": 88,
     "metadata": {},
     "output_type": "execute_result"
    }
   ],
   "source": [
    "max_temp_train_less_a = max_temp_train[np.where(max_temp_train < a)]\n",
    "rain_train_less_a[np.where(max_temp_train < a)]\n",
    "max_temp_train_greater_a = max_temp_train[np.where(max_temp_train >= a)]\n",
    "rain_train_greater_a[np.where(max_temp_train >= a)]"
   ]
  },
  {
   "cell_type": "code",
   "execution_count": 89,
   "metadata": {},
   "outputs": [
    {
     "data": {
      "text/plain": [
       "(33,)"
      ]
     },
     "execution_count": 89,
     "metadata": {},
     "output_type": "execute_result"
    }
   ],
   "source": [
    "rain_train_less_a[np.where(max_temp_train_less_a <= a)].shape"
   ]
  },
  {
   "cell_type": "code",
   "execution_count": 78,
   "metadata": {},
   "outputs": [
    {
     "name": "stdout",
     "output_type": "stream",
     "text": [
      "(33,) (1328,) (3,) (289,)\n"
     ]
    }
   ],
   "source": [
    "print(max_temp_train_less_a.shape, max_temp_greater_a.shape, max_temp_val_less_a.shape, max_temp_val_greater_a.shape)"
   ]
  },
  {
   "cell_type": "code",
   "execution_count": 79,
   "metadata": {},
   "outputs": [
    {
     "data": {
      "text/plain": [
       "array([-0.2, -0.2,  0.2,  1. ,  1.6,  1.7,  1.7,  1.8,  1.8,  1.9,  2.7,\n",
       "        2.7,  2.8,  3. ,  3.1,  3.2,  3.2,  3.2,  3.2,  3.3,  3.3,  3.5,\n",
       "        3.5,  3.6,  3.7,  3.7,  3.7,  3.7,  3.8,  3.8,  3.9,  3.9,  4. ])"
      ]
     },
     "execution_count": 79,
     "metadata": {},
     "output_type": "execute_result"
    }
   ],
   "source": [
    "np.sort(max_temp_train_less_a)"
   ]
  },
  {
   "cell_type": "code",
   "execution_count": 80,
   "metadata": {},
   "outputs": [
    {
     "data": {
      "text/plain": [
       "array([ 4. ,  4.1,  4.2, ..., 26.1, 26.4, 27.1])"
      ]
     },
     "execution_count": 80,
     "metadata": {},
     "output_type": "execute_result"
    }
   ],
   "source": [
    "np.sort(max_temp_greater_a)"
   ]
  },
  {
   "cell_type": "code",
   "execution_count": 64,
   "metadata": {},
   "outputs": [
    {
     "data": {
      "text/plain": [
       "array([-0.2,  1.7,  1.8,  2.7,  3.2,  3.2,  3.2,  3.3,  3.5,  3.7,  3.7,\n",
       "        3.7,  3.8,  3.9])"
      ]
     },
     "execution_count": 64,
     "metadata": {},
     "output_type": "execute_result"
    }
   ],
   "source": [
    "s = np.sort(max_temp_train_less_a, axis=None)\n",
    "s[:-1][s[1:] == s[:-1]]"
   ]
  },
  {
   "cell_type": "code",
   "execution_count": 65,
   "metadata": {},
   "outputs": [
    {
     "data": {
      "text/plain": [
       "array([ 4.3,  4.3,  4.4, ..., 25.5, 25.8, 26.1])"
      ]
     },
     "execution_count": 65,
     "metadata": {},
     "output_type": "execute_result"
    }
   ],
   "source": [
    "s = np.sort(max_temp_greater_a, axis=None)\n",
    "s[:-1][s[1:] == s[:-1]]"
   ]
  },
  {
   "cell_type": "code",
   "execution_count": 47,
   "metadata": {},
   "outputs": [],
   "source": [
    "rain_train_less_a = rain_train[:np.size(max_temp_train_less_a, 0)]\n",
    "rain_train_greater_a = rain_train[np.size(max_temp_train_less_a, 0):]\n",
    "rain_val_less_a = rain_val[:np.size(max_temp_val_less_a, 0)]\n",
    "rain_val_greater_a = rain_val[np.size(max_temp_train_less_a, 0):]"
   ]
  },
  {
   "cell_type": "code",
   "execution_count": 58,
   "metadata": {},
   "outputs": [
    {
     "data": {
      "text/plain": [
       "(259,)"
      ]
     },
     "execution_count": 58,
     "metadata": {},
     "output_type": "execute_result"
    }
   ],
   "source": [
    "rain_val_greater_a.shape"
   ]
  },
  {
   "cell_type": "code",
   "execution_count": 48,
   "metadata": {},
   "outputs": [],
   "source": [
    "max_temp_train_less_a = max_temp_train_less_a.reshape(-1, 1)\n",
    "max_temp_train_greater_a = max_temp_train_greater_a.reshape(-1, 1)\n",
    "max_temp_val_less_a = max_temp_val_less_a.reshape(-1, 1)\n",
    "max_temp_val_greater_a = max_temp_val_greater_a.reshape(-1, 1)"
   ]
  },
  {
   "cell_type": "code",
   "execution_count": 49,
   "metadata": {},
   "outputs": [],
   "source": [
    "a = 4"
   ]
  },
  {
   "cell_type": "code",
   "execution_count": 81,
   "metadata": {},
   "outputs": [],
   "source": [
    "grid_less_a = grid[grid<=a]#.reshape(-1,1)\n",
    "grid_greater_a = grid[grid>=a]#.reshape(-1,1)"
   ]
  },
  {
   "cell_type": "code",
   "execution_count": 82,
   "metadata": {},
   "outputs": [
    {
     "data": {
      "text/plain": [
       "array([0. , 0.5, 1. , 1.5, 2. , 2.5, 3. , 3.5, 4. ])"
      ]
     },
     "execution_count": 82,
     "metadata": {},
     "output_type": "execute_result"
    }
   ],
   "source": [
    "grid_less_a"
   ]
  },
  {
   "cell_type": "code",
   "execution_count": 84,
   "metadata": {},
   "outputs": [
    {
     "data": {
      "text/plain": [
       "array([ 4. ,  4.5,  5. ,  5.5,  6. ,  6.5,  7. ,  7.5,  8. ,  8.5,  9. ,\n",
       "        9.5, 10. , 10.5, 11. , 11.5, 12. , 12.5, 13. , 13.5, 14. , 14.5,\n",
       "       15. , 15.5, 16. , 16.5, 17. , 17.5, 18. , 18.5, 19. , 19.5, 20. ,\n",
       "       20.5, 21. , 21.5, 22. , 22.5, 23. , 23.5, 24. , 24.5, 25. , 25.5,\n",
       "       26. , 26.5, 27. , 27.5, 28. ])"
      ]
     },
     "execution_count": 84,
     "metadata": {},
     "output_type": "execute_result"
    }
   ],
   "source": [
    "grid_greater_a"
   ]
  },
  {
   "cell_type": "code",
   "execution_count": 53,
   "metadata": {},
   "outputs": [],
   "source": [
    "reg = LinearRegression()"
   ]
  },
  {
   "cell_type": "code",
   "execution_count": 56,
   "metadata": {},
   "outputs": [
    {
     "data": {
      "text/plain": [
       "LinearRegression(copy_X=True, fit_intercept=True, n_jobs=None, normalize=False)"
      ]
     },
     "execution_count": 56,
     "metadata": {},
     "output_type": "execute_result"
    }
   ],
   "source": [
    "reg.fit(max_temp_train_greater_a[:-1], rain_train_greater_a)"
   ]
  },
  {
   "cell_type": "code",
   "execution_count": 57,
   "metadata": {},
   "outputs": [
    {
     "data": {
      "text/plain": [
       "array([54.54011379, 54.57421048, 54.60830718, 54.64240387, 54.67650056,\n",
       "       54.71059726, 54.74469395, 54.77879064, 54.81288734])"
      ]
     },
     "execution_count": 57,
     "metadata": {},
     "output_type": "execute_result"
    }
   ],
   "source": [
    "reg.predict(grid_less_a)"
   ]
  },
  {
   "cell_type": "code",
   "execution_count": null,
   "metadata": {},
   "outputs": [],
   "source": [
    "reg.fit(max_temp_train_greater_a[:-1], rain_train_greater_a)"
   ]
  }
 ],
 "metadata": {
  "kernelspec": {
   "display_name": "Python [conda env:mathds] *",
   "language": "python",
   "name": "conda-env-mathds-py"
  },
  "language_info": {
   "codemirror_mode": {
    "name": "ipython",
    "version": 3
   },
   "file_extension": ".py",
   "mimetype": "text/x-python",
   "name": "python",
   "nbconvert_exporter": "python",
   "pygments_lexer": "ipython3",
   "version": "3.7.3"
  }
 },
 "nbformat": 4,
 "nbformat_minor": 4
}
