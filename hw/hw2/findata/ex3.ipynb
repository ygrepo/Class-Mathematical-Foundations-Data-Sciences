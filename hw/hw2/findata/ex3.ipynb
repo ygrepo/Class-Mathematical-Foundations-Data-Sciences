{
 "cells": [
  {
   "cell_type": "code",
   "execution_count": 1,
   "metadata": {},
   "outputs": [],
   "source": [
    "from findata_tools import *"
   ]
  },
  {
   "cell_type": "code",
   "execution_count": 2,
   "metadata": {},
   "outputs": [],
   "source": [
    "import numpy as np\n",
    "import pandas as pd"
   ]
  },
  {
   "cell_type": "code",
   "execution_count": 3,
   "metadata": {},
   "outputs": [
    {
     "data": {
      "text/plain": [
       "'/Users/yg/code/github/DS-GA-1013/hw/hw2/findata'"
      ]
     },
     "execution_count": 3,
     "metadata": {},
     "output_type": "execute_result"
    }
   ],
   "source": [
    "%pwd"
   ]
  },
  {
   "cell_type": "code",
   "execution_count": 4,
   "metadata": {},
   "outputs": [
    {
     "name": "stdout",
     "output_type": "stream",
     "text": [
      "(433, 18)\n",
      "(432, 18) [[ -2.550804  -3.200012   0.239204 ...   0.26794   -0.239998  -0.32    ]\n",
      " [ -1.942085  -1.139954  -0.956821 ...  -1.63744    2.079994  -0.55    ]\n",
      " [ -4.106422 -24.710022  -1.798817 ...  -2.828319   4.040001  -0.21    ]\n",
      " ...\n",
      " [ -1.210007 -12.599976  -0.149994 ...   0.369995  -0.159999  -0.03    ]\n",
      " [  0.059998  -4.330017   0.279998 ...   0.139999  -0.090001  -0.06    ]\n",
      " [ -2.659989   3.350037  -0.5      ...   0.080002  -0.039997   0.13    ]]\n"
     ]
    },
    {
     "name": "stderr",
     "output_type": "stream",
     "text": [
      "/Users/yg/code/github/DS-GA-1013/hw/hw2/findata/findata_tools.py:26: FutureWarning: Method .as_matrix will be removed in a future version. Use .values instead.\n",
      "  data = df.as_matrix()\n"
     ]
    }
   ],
   "source": [
    "names, days = load_data('stockprices.csv')\n",
    "(n_days, n_stocks) = days.shape\n",
    "print(days.shape)\n",
    "n_returns = n_days - 1\n",
    "returns = days[1:] - days[:-1]\n",
    "print(returns.shape, returns)"
   ]
  },
  {
   "cell_type": "code",
   "execution_count": 5,
   "metadata": {},
   "outputs": [
    {
     "name": "stdout",
     "output_type": "stream",
     "text": [
      "['amzn', 'goog']\n",
      "       aapl         amzn        msft         goog         xom         apc  \\\n",
      "  454.14342  3423.779352  208.844523  2799.940424  258.501684  388.899131   \n",
      "\n",
      "         cvx           c          gs       jpm         aet         jnj  \\\n",
      "  381.849154  247.140956  901.311051  277.9143  505.556593  275.823333   \n",
      "\n",
      "         dgx         spy        xlf         sso         sds    uso  \n",
      "  257.409551  424.583189  64.368439  277.841774  276.939997  77.16  \n"
     ]
    }
   ],
   "source": [
    "centered_returns = returns - np.mean(returns, axis=0)\n",
    "cov = np.cov(centered_returns,rowvar=False)\n",
    "U, S, principal_directions = np.linalg.svd(cov)\n",
    "max_coeff_stocks_index = [np.argmax(np.abs(principal_directions[k])) for k in range(2)]\n",
    "max_coeff_stocks = [names[k] for k in max_coeff_stocks_index]\n",
    "\n",
    "print(max_coeff_stocks)\n",
    "pretty_print(np.sum(np.abs(returns),axis = 0),names)"
   ]
  },
  {
   "cell_type": "code",
   "execution_count": 6,
   "metadata": {},
   "outputs": [
    {
     "name": "stdout",
     "output_type": "stream",
     "text": [
      "['aapl', 'amzn', 'msft', 'goog', 'xom', 'apc', 'cvx', 'c', 'gs', 'jpm', 'aet', 'jnj', 'dgx', 'spy', 'xlf', 'sso', 'sds', 'uso']\n"
     ]
    }
   ],
   "source": [
    "print(names)"
   ]
  },
  {
   "cell_type": "code",
   "execution_count": 7,
   "metadata": {},
   "outputs": [
    {
     "data": {
      "text/html": [
       "<div>\n",
       "<style scoped>\n",
       "    .dataframe tbody tr th:only-of-type {\n",
       "        vertical-align: middle;\n",
       "    }\n",
       "\n",
       "    .dataframe tbody tr th {\n",
       "        vertical-align: top;\n",
       "    }\n",
       "\n",
       "    .dataframe thead th {\n",
       "        text-align: right;\n",
       "    }\n",
       "</style>\n",
       "<table border=\"1\" class=\"dataframe\">\n",
       "  <thead>\n",
       "    <tr style=\"text-align: right;\">\n",
       "      <th></th>\n",
       "      <th>return</th>\n",
       "      <th>stock</th>\n",
       "    </tr>\n",
       "  </thead>\n",
       "  <tbody>\n",
       "    <tr>\n",
       "      <td>14</td>\n",
       "      <td>64.368439</td>\n",
       "      <td>xlf</td>\n",
       "    </tr>\n",
       "    <tr>\n",
       "      <td>17</td>\n",
       "      <td>77.160000</td>\n",
       "      <td>uso</td>\n",
       "    </tr>\n",
       "    <tr>\n",
       "      <td>2</td>\n",
       "      <td>208.844523</td>\n",
       "      <td>msft</td>\n",
       "    </tr>\n",
       "    <tr>\n",
       "      <td>7</td>\n",
       "      <td>247.140956</td>\n",
       "      <td>c</td>\n",
       "    </tr>\n",
       "    <tr>\n",
       "      <td>12</td>\n",
       "      <td>257.409551</td>\n",
       "      <td>dgx</td>\n",
       "    </tr>\n",
       "    <tr>\n",
       "      <td>4</td>\n",
       "      <td>258.501684</td>\n",
       "      <td>xom</td>\n",
       "    </tr>\n",
       "    <tr>\n",
       "      <td>11</td>\n",
       "      <td>275.823333</td>\n",
       "      <td>jnj</td>\n",
       "    </tr>\n",
       "    <tr>\n",
       "      <td>16</td>\n",
       "      <td>276.939997</td>\n",
       "      <td>sds</td>\n",
       "    </tr>\n",
       "    <tr>\n",
       "      <td>15</td>\n",
       "      <td>277.841774</td>\n",
       "      <td>sso</td>\n",
       "    </tr>\n",
       "    <tr>\n",
       "      <td>9</td>\n",
       "      <td>277.914300</td>\n",
       "      <td>jpm</td>\n",
       "    </tr>\n",
       "    <tr>\n",
       "      <td>6</td>\n",
       "      <td>381.849154</td>\n",
       "      <td>cvx</td>\n",
       "    </tr>\n",
       "    <tr>\n",
       "      <td>5</td>\n",
       "      <td>388.899131</td>\n",
       "      <td>apc</td>\n",
       "    </tr>\n",
       "    <tr>\n",
       "      <td>13</td>\n",
       "      <td>424.583189</td>\n",
       "      <td>spy</td>\n",
       "    </tr>\n",
       "    <tr>\n",
       "      <td>0</td>\n",
       "      <td>454.143420</td>\n",
       "      <td>aapl</td>\n",
       "    </tr>\n",
       "    <tr>\n",
       "      <td>10</td>\n",
       "      <td>505.556593</td>\n",
       "      <td>aet</td>\n",
       "    </tr>\n",
       "    <tr>\n",
       "      <td>8</td>\n",
       "      <td>901.311051</td>\n",
       "      <td>gs</td>\n",
       "    </tr>\n",
       "    <tr>\n",
       "      <td>3</td>\n",
       "      <td>2799.940424</td>\n",
       "      <td>goog</td>\n",
       "    </tr>\n",
       "    <tr>\n",
       "      <td>1</td>\n",
       "      <td>3423.779352</td>\n",
       "      <td>amzn</td>\n",
       "    </tr>\n",
       "  </tbody>\n",
       "</table>\n",
       "</div>"
      ],
      "text/plain": [
       "         return stock\n",
       "14    64.368439   xlf\n",
       "17    77.160000   uso\n",
       "2    208.844523  msft\n",
       "7    247.140956     c\n",
       "12   257.409551   dgx\n",
       "4    258.501684   xom\n",
       "11   275.823333   jnj\n",
       "16   276.939997   sds\n",
       "15   277.841774   sso\n",
       "9    277.914300   jpm\n",
       "6    381.849154   cvx\n",
       "5    388.899131   apc\n",
       "13   424.583189   spy\n",
       "0    454.143420  aapl\n",
       "10   505.556593   aet\n",
       "8    901.311051    gs\n",
       "3   2799.940424  goog\n",
       "1   3423.779352  amzn"
      ]
     },
     "execution_count": 7,
     "metadata": {},
     "output_type": "execute_result"
    }
   ],
   "source": [
    "df = pd.DataFrame(list(np.sum(np.abs(returns),axis = 0)))\n",
    "df = df.rename(columns={0: \"return\"})\n",
    "df[\"stock\"] = names\n",
    "df.sort_values(\"return\", inplace=True)\n",
    "df"
   ]
  },
  {
   "cell_type": "code",
   "execution_count": 8,
   "metadata": {},
   "outputs": [
    {
     "name": "stdout",
     "output_type": "stream",
     "text": [
      "3.798665675075585, 53.19034304995341, 3.106519576003734, 43.49865349383415\n"
     ]
    }
   ],
   "source": [
    "print(\"{}, {}, {}, {}\"\n",
    "      .format(3423.779352/901.311051, 3423.779352/64.368439 , 2799.940424 / 901.311051, 2799.940424 /64.368439 ))"
   ]
  },
  {
   "cell_type": "markdown",
   "metadata": {},
   "source": [
    "# 3 - B Question"
   ]
  },
  {
   "cell_type": "code",
   "execution_count": 9,
   "metadata": {},
   "outputs": [],
   "source": [
    "# for k in range(2):\n",
    "#     print(\"PD\")\n",
    "#     pretty_print(v2[:, k],names)"
   ]
  },
  {
   "cell_type": "code",
   "execution_count": 10,
   "metadata": {},
   "outputs": [
    {
     "name": "stdout",
     "output_type": "stream",
     "text": [
      "PD0\n",
      "      aapl      amzn      msft      goog       xom       apc       cvx  \\\n",
      " -0.184648 -0.168095 -0.227645 -0.197887 -0.208861 -0.194808 -0.223865   \n",
      "\n",
      "         c        gs      jpm       aet       jnj       dgx       spy  \\\n",
      " -0.280147 -0.260443 -0.27294 -0.188555 -0.150783 -0.196612 -0.336632   \n",
      "\n",
      "       xlf       sso       sds       uso  \n",
      " -0.198364 -0.334826  0.327259 -0.159213  \n",
      "PD1\n",
      "      aapl    amzn      msft      goog       xom       apc       cvx  \\\n",
      "  0.285821  0.3302  0.302005  0.389346 -0.293444 -0.329116 -0.308272   \n",
      "\n",
      "         c        gs       jpm       aet       jnj       dgx       spy  \\\n",
      " -0.133288 -0.137664 -0.155599  0.071286  0.108239  0.165412  0.084872   \n",
      "\n",
      "       xlf       sso       sds       uso  \n",
      " -0.124933  0.091568 -0.056002 -0.370943  \n"
     ]
    }
   ],
   "source": [
    "U, S, principal_directions_stand = np.linalg.svd(np.corrcoef(centered_returns,rowvar=False))\n",
    "for k in range(2):\n",
    "    print(\"PD{}\".format(k))\n",
    "    pretty_print(principal_directions_stand[k],names)"
   ]
  },
  {
   "cell_type": "code",
   "execution_count": 11,
   "metadata": {},
   "outputs": [],
   "source": [
    "def extract_stock_price(index_day, prices, index_stock, names):\n",
    "    stock_name = names[index_stock]\n",
    "    daily_price = prices[index_day,:]\n",
    "    stock_price = daily_price[index_stock]\n",
    "    return stock_price, [stock_name]\n",
    "\n",
    "def extract_stock_weights(index_stock_end, principal_direction, principal_direction_index, \n",
    "                          index_day, prices, names, index_stock_start=None):\n",
    "    if index_stock_start:\n",
    "        weigth_stocks = principal_direction[principal_direction_index, index_stock_start:index_stock_end]\n",
    "        stock_names = names[index_stock_start:index_stock_end]\n",
    "        daily_prices = prices[index_day,:]\n",
    "        stock_prices = daily_prices[index_stock_start:index_stock_end]\n",
    "    else:\n",
    "        weigth_stocks = principal_direction[principal_direction_index, :index_stock_end]\n",
    "        stock_names = names[:index_stock_end]\n",
    "        daily_prices = prices[index_day,:]\n",
    "        stock_prices = daily_prices[:index_stock_end]\n",
    "    return daily_prices, weigth_stocks, stock_prices, stock_names\n",
    "\n",
    "def compute_weighted_average(weigth_stocks, price_stocks):\n",
    "    return np.sum(np.multiply(weigth_stocks, price_stocks), axis=0)/ np.sum(weigth_stocks, axis=0)"
   ]
  },
  {
   "cell_type": "markdown",
   "metadata": {},
   "source": [
    "# SPY"
   ]
  },
  {
   "cell_type": "markdown",
   "metadata": {},
   "source": [
    "State Street's SPDR S&P 500 ETF.  A security that roughly tracks the S&P 500, a weighted average of the stock prices of 500 top US companies."
   ]
  },
  {
   "cell_type": "code",
   "execution_count": 12,
   "metadata": {},
   "outputs": [
    {
     "name": "stdout",
     "output_type": "stream",
     "text": [
      "--------------------------------------------------------------------------------\n",
      "Weights for the first 13 stock prices using PD0\n",
      "      aapl      amzn      msft      goog       xom       apc       cvx  \\\n",
      " -0.184648 -0.168095 -0.227645 -0.197887 -0.208861 -0.194808 -0.223865   \n",
      "\n",
      "         c        gs      jpm       aet       jnj       dgx  \n",
      " -0.280147 -0.260443 -0.27294 -0.188555 -0.150783 -0.196612  \n",
      "--------------------------------------------------------------------------------\n",
      "Absolute values of weights for the first 13 stock prices using PD0\n",
      "      aapl      amzn      msft      goog       xom       apc       cvx  \\\n",
      "  0.184648  0.168095  0.227645  0.197887  0.208861  0.194808  0.223865   \n",
      "\n",
      "         c        gs      jpm       aet       jnj       dgx  \n",
      "  0.280147  0.260443  0.27294  0.188555  0.150783  0.196612  \n",
      "--------------------------------------------------------------------------------\n",
      "Day0 prices\n",
      "        aapl       amzn       msft        goog        xom        apc  \\\n",
      "  101.790649  636.98999  52.433533  741.840027  72.740799  48.801582   \n",
      "\n",
      "        cvx          c          gs       jpm         aet        jnj        dgx  \n",
      "  82.577927  50.149845  172.800156  61.18005  107.291946  95.826782  68.369064  \n",
      "--------------------------------------------------------------------------------\n",
      "Day0, computed SPY weighted average prices:163.92740408192958\n",
      "--------------------------------------------------------------------------------\n",
      "Day0 SPY price\n",
      "SPY weight:-0.336631824619049\n",
      "         spy\n",
      "  194.027725\n"
     ]
    }
   ],
   "source": [
    "index_day = 0\n",
    "index_stock = 13\n",
    "index_stock_end = index_stock\n",
    "principal_direction_index = 0\n",
    "daily_prices, weigth_stocks, stock_prices, stock_names = extract_stock_weights(index_stock_end, principal_directions_stand, principal_direction_index,\n",
    "                                                                                index_day, days, names)\n",
    "print(80*\"-\")\n",
    "print(\"Weights for the first 13 stock prices using PD{}\".format(principal_direction_index))\n",
    "pretty_print(weigth_stocks, stock_names)\n",
    "print(80*\"-\")\n",
    "print(\"Absolute values of weights for the first 13 stock prices using PD{}\".format(principal_direction_index))\n",
    "pretty_print(np.abs(weigth_stocks), stock_names)\n",
    "print(80*\"-\")\n",
    "print(\"Day{} prices\".format(index_day))\n",
    "pretty_print(stock_prices, stock_names)\n",
    "print(80*\"-\")\n",
    "print(\"Day{}, computed SPY weighted average prices:{}\".format(index_day, compute_weighted_average(np.abs(weigth_stocks), stock_prices)))\n",
    "print(80*\"-\")\n",
    "print(\"Day{} SPY price\".format(index_day))\n",
    "spy_weight = principal_directions_stand[principal_direction_index, index_stock]\n",
    "print(\"SPY weight:{}\".format(spy_weight))\n",
    "spy_return, spy_name = extract_stock_price(index_day, days, index_stock, names)\n",
    "pretty_print(spy_return, spy_name)"
   ]
  },
  {
   "cell_type": "markdown",
   "metadata": {},
   "source": [
    "# XLF: State Street's SPDR Financials ETF.  A security that tracks a weighted average of top US financial companies."
   ]
  },
  {
   "cell_type": "code",
   "execution_count": 13,
   "metadata": {},
   "outputs": [
    {
     "name": "stdout",
     "output_type": "stream",
     "text": [
      "1 PD\n",
      "      aapl      amzn      msft      goog       xom       apc       cvx  \\\n",
      " -0.184648 -0.168095 -0.227645 -0.197887 -0.208861 -0.194808 -0.223865   \n",
      "\n",
      "         c        gs      jpm       aet       jnj       dgx       spy  \\\n",
      " -0.280147 -0.260443 -0.27294 -0.188555 -0.150783 -0.196612 -0.336632   \n",
      "\n",
      "       xlf       sso       sds       uso  \n",
      " -0.198364 -0.334826  0.327259 -0.159213  \n",
      "2 PD\n",
      "      aapl    amzn      msft      goog       xom       apc       cvx  \\\n",
      "  0.285821  0.3302  0.302005  0.389346 -0.293444 -0.329116 -0.308272   \n",
      "\n",
      "         c        gs       jpm       aet       jnj       dgx       spy  \\\n",
      " -0.133288 -0.137664 -0.155599  0.071286  0.108239  0.165412  0.084872   \n",
      "\n",
      "       xlf       sso       sds       uso  \n",
      " -0.124933  0.091568 -0.056002 -0.370943  \n"
     ]
    }
   ],
   "source": [
    "for k in range(2):\n",
    "    print(\"{} PD\".format(k+1))\n",
    "    pretty_print(principal_directions_stand[k],names)"
   ]
  },
  {
   "cell_type": "code",
   "execution_count": 14,
   "metadata": {},
   "outputs": [
    {
     "name": "stdout",
     "output_type": "stream",
     "text": [
      "--------------------------------------------------------------------------------\n",
      "Weights for the 3 financial stock prices using PD0\n",
      "         c        gs      jpm\n",
      " -0.280147 -0.260443 -0.27294\n",
      "--------------------------------------------------------------------------------\n",
      "Absolute values of weights for the 3 financial stock prices using PD0\n",
      "         c        gs      jpm\n",
      "  0.280147  0.260443  0.27294\n",
      "--------------------------------------------------------------------------------\n",
      "Day100 prices\n",
      "          c          gs        jpm\n",
      "  45.329781  155.994034  62.998978\n",
      "--------------------------------------------------------------------------------\n",
      "Day100, computed XLF weighted average prices:86.68575537909776\n",
      "--------------------------------------------------------------------------------\n",
      "Day100 XLF price\n",
      "XLF weight:-0.1983641702424083\n",
      "Day100 XLF price\n",
      "        xlf\n",
      "  14.347868\n"
     ]
    }
   ],
   "source": [
    "index_day = 100\n",
    "index_stock = 14\n",
    "index_stocks_start = 7\n",
    "index_stocks_end = 10\n",
    "principal_direction_index = 0\n",
    "daily_prices, weigth_stocks, stock_prices, stock_names = extract_stock_weights(index_stocks_end, principal_directions_stand, principal_direction_index,\n",
    "                                                                                index_day, days, names,index_stocks_start)\n",
    "print(80*\"-\")\n",
    "print(\"Weights for the 3 financial stock prices using PD{}\".format(principal_direction_index))\n",
    "pretty_print(weigth_stocks, stock_names)\n",
    "print(80*\"-\")\n",
    "print(\"Absolute values of weights for the 3 financial stock prices using PD{}\".format(principal_direction_index))\n",
    "pretty_print(np.abs(weigth_stocks), stock_names)\n",
    "print(80*\"-\")\n",
    "print(\"Day{} prices\".format(index_day))\n",
    "pretty_print(stock_prices, stock_names)\n",
    "print(80*\"-\")\n",
    "print(\"Day{}, computed XLF weighted average prices:{}\".format(index_day, compute_weighted_average(weigth_stocks, stock_prices)))\n",
    "print(80*\"-\")\n",
    "print(\"Day{} XLF price\".format(index_day))\n",
    "xlf_weight = principal_directions_stand[principal_direction_index, index_stock]\n",
    "print(\"XLF weight:{}\".format(xlf_weight))\n",
    "stock_price, stock_name = extract_stock_price(index_day, days, index_stock, names)\n",
    "print(\"Day{} XLF price\".format(index_day))\n",
    "pretty_print(stock_price, stock_name)"
   ]
  },
  {
   "cell_type": "markdown",
   "metadata": {},
   "source": [
    "# SSO ProShares levered ETF that roughly corresponds to twice the daily performance of the S&P 500."
   ]
  },
  {
   "cell_type": "code",
   "execution_count": 15,
   "metadata": {},
   "outputs": [
    {
     "name": "stdout",
     "output_type": "stream",
     "text": [
      "      aapl      amzn      msft     goog       xom       apc       cvx  \\\n",
      " -0.343941  0.039978 -0.126941  6.23999  0.385491  0.956391  0.461364   \n",
      "\n",
      "         c        gs       jpm       aet       jnj      dgx       spy  \\\n",
      "  0.483455  1.856705  0.639229 -0.366638 -0.798614 -0.71032  0.558686   \n",
      "\n",
      "       xlf      sso       sds   uso  \n",
      "  0.167292  0.33892 -0.240006  0.21  \n"
     ]
    }
   ],
   "source": [
    "index_day=200\n",
    "index_stock = -1\n",
    "daily_return = returns[index_day,:]\n",
    "stock_returns = daily_return[:]\n",
    "pretty_print(stock_returns, names)"
   ]
  },
  {
   "cell_type": "code",
   "execution_count": 16,
   "metadata": {},
   "outputs": [
    {
     "name": "stdout",
     "output_type": "stream",
     "text": [
      "     aapl      amzn      msft      goog       xom       apc       cvx  \\\n",
      " -0.05896 -7.369995 -0.273407 -4.530029  0.038551 -0.169361 -0.384475   \n",
      "\n",
      "         c   gs       jpm       aet       jnj       dgx      spy  xlf  \\\n",
      "  0.098664  0.0 -0.088517 -0.128807  0.272697  1.568627 -0.39206  0.0   \n",
      "\n",
      "       sso       sds   uso  \n",
      " -0.199363  0.200005 -0.23  \n"
     ]
    }
   ],
   "source": [
    "index_day=201\n",
    "daily_return = returns[index_day,:]\n",
    "stock_returns = daily_return[:]\n",
    "pretty_print(stock_returns, names)"
   ]
  },
  {
   "cell_type": "markdown",
   "metadata": {},
   "source": [
    "# SSO ProShares levered ETF that roughly corresponds to twice the daily performance of the S&P 500."
   ]
  },
  {
   "cell_type": "code",
   "execution_count": 21,
   "metadata": {},
   "outputs": [
    {
     "name": "stdout",
     "output_type": "stream",
     "text": [
      "SSO roughly twice daily performance of SPY\n",
      "First PD, SSO:-0.3348264259722335, SPY:-0.336631824619049\n",
      "Second PD, SSO:0.0915676628910389, SPY:0.08487248667261033\n"
     ]
    }
   ],
   "source": [
    "print(\"SSO roughly twice daily performance of SPY\") \n",
    "print(\"First PD, SSO:{}, SPY:{}\".format(principal_directions_stand[0, 15], principal_directions_stand[0, 13]))\n",
    "print(\"Second PD, SSO:{}, SPY:{}\".format(principal_directions_stand[1, 15], principal_directions_stand[1, 13]))"
   ]
  },
  {
   "cell_type": "markdown",
   "metadata": {},
   "source": [
    "# SDS ProShares inverse levered ETF that roughly corresponds to \n",
    "    twice the negative daily performance of the S&P 500.  That is,\n",
    "    when the S&P 500 goes up by a dollar, this roughly goes down by 2."
   ]
  },
  {
   "cell_type": "code",
   "execution_count": 24,
   "metadata": {},
   "outputs": [
    {
     "name": "stdout",
     "output_type": "stream",
     "text": [
      "1 PD\n",
      "      aapl      amzn      msft      goog       xom       apc       cvx  \\\n",
      " -0.184648 -0.168095 -0.227645 -0.197887 -0.208861 -0.194808 -0.223865   \n",
      "\n",
      "         c        gs      jpm       aet       jnj       dgx       spy  \\\n",
      " -0.280147 -0.260443 -0.27294 -0.188555 -0.150783 -0.196612 -0.336632   \n",
      "\n",
      "       xlf       sso       sds       uso  \n",
      " -0.198364 -0.334826  0.327259 -0.159213  \n",
      "2 PD\n",
      "      aapl    amzn      msft      goog       xom       apc       cvx  \\\n",
      "  0.285821  0.3302  0.302005  0.389346 -0.293444 -0.329116 -0.308272   \n",
      "\n",
      "         c        gs       jpm       aet       jnj       dgx       spy  \\\n",
      " -0.133288 -0.137664 -0.155599  0.071286  0.108239  0.165412  0.084872   \n",
      "\n",
      "       xlf       sso       sds       uso  \n",
      " -0.124933  0.091568 -0.056002 -0.370943  \n"
     ]
    }
   ],
   "source": [
    "for k in range(2):\n",
    "    print(\"{} PD\".format(k+1))\n",
    "    pretty_print(principal_directions_stand[k],names)"
   ]
  },
  {
   "cell_type": "code",
   "execution_count": 25,
   "metadata": {},
   "outputs": [
    {
     "name": "stdout",
     "output_type": "stream",
     "text": [
      "SDS roughly twice daily the negative daily performance of SPY\n",
      "First PD, SSO:0.32725941343597814, SPY:-0.336631824619049\n",
      "Second PD, SSO:-0.05600186500392546, SPY:0.08487248667261033\n"
     ]
    }
   ],
   "source": [
    "print(\"SDS roughly twice daily the negative daily performance of SPY\") \n",
    "print(\"First PD, SSO:{}, SPY:{}\".format(principal_directions_stand[0, 16], principal_directions_stand[0, 13]))\n",
    "print(\"Second PD, SSO:{}, SPY:{}\".format(principal_directions_stand[1, 16], principal_directions_stand[1, 13]))"
   ]
  },
  {
   "cell_type": "markdown",
   "metadata": {},
   "source": [
    "# USO Exchange traded product that tracks the price of oil in the US."
   ]
  },
  {
   "cell_type": "code",
   "execution_count": 26,
   "metadata": {},
   "outputs": [
    {
     "name": "stdout",
     "output_type": "stream",
     "text": [
      "      aapl      amzn      msft     goog       xom       apc       cvx  \\\n",
      " -0.343941  0.039978 -0.126941  6.23999  0.385491  0.956391  0.461364   \n",
      "\n",
      "         c        gs       jpm       aet       jnj      dgx       spy  \\\n",
      "  0.483455  1.856705  0.639229 -0.366638 -0.798614 -0.71032  0.558686   \n",
      "\n",
      "       xlf      sso       sds   uso  \n",
      "  0.167292  0.33892 -0.240006  0.21  \n"
     ]
    }
   ],
   "source": [
    "index_day=200\n",
    "index_stock = -1\n",
    "daily_return = returns[index_day,:]\n",
    "stock_returns = daily_return[:]\n",
    "pretty_print(stock_returns, names)"
   ]
  },
  {
   "cell_type": "code",
   "execution_count": null,
   "metadata": {},
   "outputs": [],
   "source": [
    "for k in range(2):\n",
    "    print(\"{} PD\".format(k+1))\n",
    "    pretty_print(principal_directions_stand[k],names)"
   ]
  },
  {
   "cell_type": "code",
   "execution_count": 27,
   "metadata": {},
   "outputs": [
    {
     "name": "stdout",
     "output_type": "stream",
     "text": [
      "Rough correlation of USO that tracks price of US oil with the mean of the US oil companies among 18 stocks\n",
      "First PD, USO:-0.15921267314694082, rough average:-0.20917793731888332\n",
      "Second PD, USO:-0.3709433376773426, rough average:-0.31027749841006097\n"
     ]
    }
   ],
   "source": [
    "print(\"Rough correlation of USO that tracks price of US oil with the mean of the US oil companies among 18 stocks\") \n",
    "print(\"First PD, USO:{}, rough average:{}\".format(principal_directions_stand[0, -1], principal_directions_stand[0, 4:7].mean()))\n",
    "print(\"Second PD, USO:{}, rough average:{}\".format(principal_directions_stand[1, -1], principal_directions_stand[1, 4:7].mean()))"
   ]
  },
  {
   "cell_type": "markdown",
   "metadata": {},
   "source": [
    "# Q3 - C"
   ]
  },
  {
   "cell_type": "code",
   "execution_count": 30,
   "metadata": {},
   "outputs": [
    {
     "data": {
      "text/plain": [
       "4309.949525975801"
      ]
     },
     "execution_count": 30,
     "metadata": {},
     "output_type": "execute_result"
    }
   ],
   "source": [
    "shares = [100 for _ in range(n_stocks)]\n",
    "double_shares_stocks = [\"aapl\",\"amzn\",\"msft\",\"goog\"]\n",
    "shares = np.array([2 * shares[i] if names[i] in double_shares_stocks else shares[i] for i in range(n_stocks)]).reshape(-1,1)\n",
    "np.sqrt(np.dot(shares.T, np.matmul(cov, shares))).item()"
   ]
  },
  {
   "cell_type": "markdown",
   "metadata": {},
   "source": [
    "# Q4 - d"
   ]
  },
  {
   "cell_type": "code",
   "execution_count": 31,
   "metadata": {},
   "outputs": [
    {
     "name": "stdout",
     "output_type": "stream",
     "text": [
      "0.3425925925925926\n"
     ]
    }
   ],
   "source": [
    "daily_portfolio_returns = np.dot(returns, shares) \n",
    "p = sum([daily_portfolio_returns[i] <= -1000 for i in range(n_returns)])/n_returns\n",
    "print(p.item())"
   ]
  },
  {
   "cell_type": "code",
   "execution_count": null,
   "metadata": {},
   "outputs": [],
   "source": [
    "daily_portfolio_returns.shape"
   ]
  },
  {
   "cell_type": "code",
   "execution_count": null,
   "metadata": {},
   "outputs": [],
   "source": [
    "n_returns"
   ]
  },
  {
   "cell_type": "code",
   "execution_count": null,
   "metadata": {},
   "outputs": [],
   "source": [
    "np.std(daily_portfolio_returns)"
   ]
  },
  {
   "cell_type": "code",
   "execution_count": null,
   "metadata": {},
   "outputs": [],
   "source": []
  }
 ],
 "metadata": {
  "kernelspec": {
   "display_name": "Python [conda env:mathds] *",
   "language": "python",
   "name": "conda-env-mathds-py"
  },
  "language_info": {
   "codemirror_mode": {
    "name": "ipython",
    "version": 3
   },
   "file_extension": ".py",
   "mimetype": "text/x-python",
   "name": "python",
   "nbconvert_exporter": "python",
   "pygments_lexer": "ipython3",
   "version": "3.7.3"
  }
 },
 "nbformat": 4,
 "nbformat_minor": 4
}
