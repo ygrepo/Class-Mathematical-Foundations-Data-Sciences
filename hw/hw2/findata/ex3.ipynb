{
 "cells": [
  {
   "cell_type": "code",
   "execution_count": 1,
   "metadata": {},
   "outputs": [],
   "source": [
    "from findata_tools import *"
   ]
  },
  {
   "cell_type": "code",
   "execution_count": 2,
   "metadata": {},
   "outputs": [],
   "source": [
    "import numpy as np\n",
    "import pandas as pd"
   ]
  },
  {
   "cell_type": "code",
   "execution_count": 3,
   "metadata": {},
   "outputs": [
    {
     "data": {
      "text/plain": [
       "'/Users/yg/code/github/DS-GA-1013/hw/hw2/findata'"
      ]
     },
     "execution_count": 3,
     "metadata": {},
     "output_type": "execute_result"
    }
   ],
   "source": [
    "%pwd"
   ]
  },
  {
   "cell_type": "code",
   "execution_count": 4,
   "metadata": {},
   "outputs": [
    {
     "name": "stdout",
     "output_type": "stream",
     "text": [
      "(433, 18)\n",
      "(432, 18) [[ -2.550804  -3.200012   0.239204 ...   0.26794   -0.239998  -0.32    ]\n",
      " [ -1.942085  -1.139954  -0.956821 ...  -1.63744    2.079994  -0.55    ]\n",
      " [ -4.106422 -24.710022  -1.798817 ...  -2.828319   4.040001  -0.21    ]\n",
      " ...\n",
      " [ -1.210007 -12.599976  -0.149994 ...   0.369995  -0.159999  -0.03    ]\n",
      " [  0.059998  -4.330017   0.279998 ...   0.139999  -0.090001  -0.06    ]\n",
      " [ -2.659989   3.350037  -0.5      ...   0.080002  -0.039997   0.13    ]]\n"
     ]
    },
    {
     "name": "stderr",
     "output_type": "stream",
     "text": [
      "/Users/yg/code/github/DS-GA-1013/hw/hw2/findata/findata_tools.py:26: FutureWarning: Method .as_matrix will be removed in a future version. Use .values instead.\n",
      "  data = df.as_matrix()\n"
     ]
    }
   ],
   "source": [
    "names, days = load_data('stockprices.csv')\n",
    "(n_days, n_stocks) = days.shape\n",
    "print(days.shape)\n",
    "n_returns = n_days - 1\n",
    "returns = days[1:] - days[:-1]\n",
    "print(returns.shape, returns)"
   ]
  },
  {
   "cell_type": "code",
   "execution_count": 5,
   "metadata": {},
   "outputs": [
    {
     "name": "stdout",
     "output_type": "stream",
     "text": [
      "['amzn', 'goog']\n",
      "       aapl         amzn        msft         goog         xom         apc  \\\n",
      "  454.14342  3423.779352  208.844523  2799.940424  258.501684  388.899131   \n",
      "\n",
      "         cvx           c          gs       jpm         aet         jnj  \\\n",
      "  381.849154  247.140956  901.311051  277.9143  505.556593  275.823333   \n",
      "\n",
      "         dgx         spy        xlf         sso         sds    uso  \n",
      "  257.409551  424.583189  64.368439  277.841774  276.939997  77.16  \n"
     ]
    }
   ],
   "source": [
    "centered_returns = returns - np.mean(returns, axis=0)\n",
    "cov = np.cov(centered_returns,rowvar=False)\n",
    "U, S, principal_directions = np.linalg.svd(cov)\n",
    "max_coeff_stocks_index = [np.argmax(np.abs(principal_directions[k])) for k in range(2)]\n",
    "max_coeff_stocks = [names[k] for k in max_coeff_stocks_index]\n",
    "\n",
    "print(max_coeff_stocks)\n",
    "pretty_print(np.sum(np.abs(returns),axis = 0),names)"
   ]
  },
  {
   "cell_type": "code",
   "execution_count": 6,
   "metadata": {},
   "outputs": [
    {
     "name": "stdout",
     "output_type": "stream",
     "text": [
      "['aapl', 'amzn', 'msft', 'goog', 'xom', 'apc', 'cvx', 'c', 'gs', 'jpm', 'aet', 'jnj', 'dgx', 'spy', 'xlf', 'sso', 'sds', 'uso']\n"
     ]
    }
   ],
   "source": [
    "print(names)"
   ]
  },
  {
   "cell_type": "code",
   "execution_count": 7,
   "metadata": {},
   "outputs": [
    {
     "data": {
      "text/html": [
       "<div>\n",
       "<style scoped>\n",
       "    .dataframe tbody tr th:only-of-type {\n",
       "        vertical-align: middle;\n",
       "    }\n",
       "\n",
       "    .dataframe tbody tr th {\n",
       "        vertical-align: top;\n",
       "    }\n",
       "\n",
       "    .dataframe thead th {\n",
       "        text-align: right;\n",
       "    }\n",
       "</style>\n",
       "<table border=\"1\" class=\"dataframe\">\n",
       "  <thead>\n",
       "    <tr style=\"text-align: right;\">\n",
       "      <th></th>\n",
       "      <th>return</th>\n",
       "      <th>stock</th>\n",
       "    </tr>\n",
       "  </thead>\n",
       "  <tbody>\n",
       "    <tr>\n",
       "      <td>14</td>\n",
       "      <td>64.368439</td>\n",
       "      <td>xlf</td>\n",
       "    </tr>\n",
       "    <tr>\n",
       "      <td>17</td>\n",
       "      <td>77.160000</td>\n",
       "      <td>uso</td>\n",
       "    </tr>\n",
       "    <tr>\n",
       "      <td>2</td>\n",
       "      <td>208.844523</td>\n",
       "      <td>msft</td>\n",
       "    </tr>\n",
       "    <tr>\n",
       "      <td>7</td>\n",
       "      <td>247.140956</td>\n",
       "      <td>c</td>\n",
       "    </tr>\n",
       "    <tr>\n",
       "      <td>12</td>\n",
       "      <td>257.409551</td>\n",
       "      <td>dgx</td>\n",
       "    </tr>\n",
       "    <tr>\n",
       "      <td>4</td>\n",
       "      <td>258.501684</td>\n",
       "      <td>xom</td>\n",
       "    </tr>\n",
       "    <tr>\n",
       "      <td>11</td>\n",
       "      <td>275.823333</td>\n",
       "      <td>jnj</td>\n",
       "    </tr>\n",
       "    <tr>\n",
       "      <td>16</td>\n",
       "      <td>276.939997</td>\n",
       "      <td>sds</td>\n",
       "    </tr>\n",
       "    <tr>\n",
       "      <td>15</td>\n",
       "      <td>277.841774</td>\n",
       "      <td>sso</td>\n",
       "    </tr>\n",
       "    <tr>\n",
       "      <td>9</td>\n",
       "      <td>277.914300</td>\n",
       "      <td>jpm</td>\n",
       "    </tr>\n",
       "    <tr>\n",
       "      <td>6</td>\n",
       "      <td>381.849154</td>\n",
       "      <td>cvx</td>\n",
       "    </tr>\n",
       "    <tr>\n",
       "      <td>5</td>\n",
       "      <td>388.899131</td>\n",
       "      <td>apc</td>\n",
       "    </tr>\n",
       "    <tr>\n",
       "      <td>13</td>\n",
       "      <td>424.583189</td>\n",
       "      <td>spy</td>\n",
       "    </tr>\n",
       "    <tr>\n",
       "      <td>0</td>\n",
       "      <td>454.143420</td>\n",
       "      <td>aapl</td>\n",
       "    </tr>\n",
       "    <tr>\n",
       "      <td>10</td>\n",
       "      <td>505.556593</td>\n",
       "      <td>aet</td>\n",
       "    </tr>\n",
       "    <tr>\n",
       "      <td>8</td>\n",
       "      <td>901.311051</td>\n",
       "      <td>gs</td>\n",
       "    </tr>\n",
       "    <tr>\n",
       "      <td>3</td>\n",
       "      <td>2799.940424</td>\n",
       "      <td>goog</td>\n",
       "    </tr>\n",
       "    <tr>\n",
       "      <td>1</td>\n",
       "      <td>3423.779352</td>\n",
       "      <td>amzn</td>\n",
       "    </tr>\n",
       "  </tbody>\n",
       "</table>\n",
       "</div>"
      ],
      "text/plain": [
       "         return stock\n",
       "14    64.368439   xlf\n",
       "17    77.160000   uso\n",
       "2    208.844523  msft\n",
       "7    247.140956     c\n",
       "12   257.409551   dgx\n",
       "4    258.501684   xom\n",
       "11   275.823333   jnj\n",
       "16   276.939997   sds\n",
       "15   277.841774   sso\n",
       "9    277.914300   jpm\n",
       "6    381.849154   cvx\n",
       "5    388.899131   apc\n",
       "13   424.583189   spy\n",
       "0    454.143420  aapl\n",
       "10   505.556593   aet\n",
       "8    901.311051    gs\n",
       "3   2799.940424  goog\n",
       "1   3423.779352  amzn"
      ]
     },
     "execution_count": 7,
     "metadata": {},
     "output_type": "execute_result"
    }
   ],
   "source": [
    "df = pd.DataFrame(list(np.sum(np.abs(returns),axis = 0)))\n",
    "df = df.rename(columns={0: \"return\"})\n",
    "df[\"stock\"] = names\n",
    "df.sort_values(\"return\", inplace=True)\n",
    "df"
   ]
  },
  {
   "cell_type": "code",
   "execution_count": 8,
   "metadata": {},
   "outputs": [
    {
     "name": "stdout",
     "output_type": "stream",
     "text": [
      "3.798665675075585, 53.19034304995341, 3.106519576003734, 43.49865349383415\n"
     ]
    }
   ],
   "source": [
    "print(\"{}, {}, {}, {}\"\n",
    "      .format(3423.779352/901.311051, 3423.779352/64.368439 , 2799.940424 / 901.311051, 2799.940424 /64.368439 ))"
   ]
  },
  {
   "cell_type": "code",
   "execution_count": 9,
   "metadata": {},
   "outputs": [],
   "source": [
    "cov2 = np.matmul(centered_returns.T, centered_returns)/431"
   ]
  },
  {
   "cell_type": "code",
   "execution_count": 10,
   "metadata": {},
   "outputs": [
    {
     "name": "stdout",
     "output_type": "stream",
     "text": [
      "True\n"
     ]
    },
    {
     "data": {
      "text/plain": [
       "array([ 2.32677149,  7.25243643,  0.48646541,  6.53157405,  0.21110301,\n",
       "        0.25967979,  0.30900248,  0.37293323,  1.27976813,  0.41644247,\n",
       "        0.60466426,  0.24751404,  0.40789532,  1.15290292,  0.07012189,\n",
       "        0.75382492, -0.79060188,  0.04372071])"
      ]
     },
     "execution_count": 10,
     "metadata": {},
     "output_type": "execute_result"
    }
   ],
   "source": [
    "print(np.allclose(cov, cov2))\n",
    "cov[0,:]"
   ]
  },
  {
   "cell_type": "code",
   "execution_count": 11,
   "metadata": {},
   "outputs": [
    {
     "data": {
      "text/plain": [
       "array([ 2.32677149,  7.25243643,  0.48646541,  6.53157405,  0.21110301,\n",
       "        0.25967979,  0.30900248,  0.37293323,  1.27976813,  0.41644247,\n",
       "        0.60466426,  0.24751404,  0.40789532,  1.15290292,  0.07012189,\n",
       "        0.75382492, -0.79060188,  0.04372071])"
      ]
     },
     "execution_count": 11,
     "metadata": {},
     "output_type": "execute_result"
    }
   ],
   "source": [
    "cov2[0,:]"
   ]
  },
  {
   "cell_type": "code",
   "execution_count": 12,
   "metadata": {},
   "outputs": [],
   "source": [
    "u, s, v = np.linalg.svd(centered_returns)"
   ]
  },
  {
   "cell_type": "code",
   "execution_count": 13,
   "metadata": {},
   "outputs": [],
   "source": [
    "w, v2 = np.linalg.eigh(cov2)"
   ]
  },
  {
   "cell_type": "code",
   "execution_count": 14,
   "metadata": {},
   "outputs": [
    {
     "data": {
      "text/plain": [
       "array([1.40417957e-03, 2.33558560e-02, 4.57528978e-02, 6.67684969e-02,\n",
       "       8.75528773e-02, 1.56047940e-01, 2.29071780e-01, 2.48852621e-01,\n",
       "       3.95630157e-01, 5.02951878e-01, 6.45762928e-01, 8.77622561e-01,\n",
       "       1.58665419e+00, 2.08250145e+00, 2.48052451e+00, 1.09623482e+01,\n",
       "       3.83867869e+01, 1.69479899e+02])"
      ]
     },
     "execution_count": 14,
     "metadata": {},
     "output_type": "execute_result"
    }
   ],
   "source": [
    "w"
   ]
  },
  {
   "cell_type": "code",
   "execution_count": 15,
   "metadata": {},
   "outputs": [
    {
     "data": {
      "text/plain": [
       "array([1.69479899e+02, 3.83867869e+01, 1.09623482e+01, 2.48052451e+00,\n",
       "       2.08250145e+00, 1.58665419e+00, 8.77622561e-01, 6.45762928e-01,\n",
       "       5.02951878e-01, 3.95630157e-01, 2.48852621e-01, 2.29071780e-01,\n",
       "       1.56047940e-01, 8.75528773e-02, 6.67684969e-02, 4.57528978e-02,\n",
       "       2.33558560e-02, 1.40417957e-03])"
      ]
     },
     "execution_count": 15,
     "metadata": {},
     "output_type": "execute_result"
    }
   ],
   "source": [
    "np.power(s,2)/431"
   ]
  },
  {
   "cell_type": "code",
   "execution_count": 16,
   "metadata": {},
   "outputs": [
    {
     "name": "stdout",
     "output_type": "stream",
     "text": [
      "False\n"
     ]
    }
   ],
   "source": [
    "print(np.allclose(w[:2], (np.power(s,2)/431)[:2]))"
   ]
  },
  {
   "cell_type": "code",
   "execution_count": 17,
   "metadata": {},
   "outputs": [
    {
     "data": {
      "text/plain": [
       "False"
      ]
     },
     "execution_count": 17,
     "metadata": {},
     "output_type": "execute_result"
    }
   ],
   "source": [
    "np.allclose(v.T[:,0], v2[:,0])\n",
    "np.allclose(v.T[:,1], v2[:,1])"
   ]
  },
  {
   "cell_type": "code",
   "execution_count": 18,
   "metadata": {},
   "outputs": [
    {
     "name": "stdout",
     "output_type": "stream",
     "text": [
      "['sso', 'uso']\n",
      "       aapl         amzn        msft         goog         xom         apc  \\\n",
      "  454.14342  3423.779352  208.844523  2799.940424  258.501684  388.899131   \n",
      "\n",
      "         cvx           c          gs       jpm         aet         jnj  \\\n",
      "  381.849154  247.140956  901.311051  277.9143  505.556593  275.823333   \n",
      "\n",
      "         dgx         spy        xlf         sso         sds    uso  \n",
      "  257.409551  424.583189  64.368439  277.841774  276.939997  77.16  \n"
     ]
    }
   ],
   "source": [
    "max_coeff_stocks_index = [np.argmax(np.abs(v2[:, k])) for k in range(2)]\n",
    "max_coeff_stocks = [names[k] for k in max_coeff_stocks_index]\n",
    "\n",
    "print(max_coeff_stocks)\n",
    "pretty_print(np.sum(np.abs(returns),axis = 0),names)"
   ]
  },
  {
   "cell_type": "markdown",
   "metadata": {},
   "source": [
    "# 3 - B Question"
   ]
  },
  {
   "cell_type": "code",
   "execution_count": 19,
   "metadata": {},
   "outputs": [],
   "source": [
    "normed_returns = centered_returns / returns.std(axis=0)"
   ]
  },
  {
   "cell_type": "code",
   "execution_count": 20,
   "metadata": {},
   "outputs": [
    {
     "data": {
      "text/plain": [
       "array([1., 1., 1., 1., 1., 1., 1., 1., 1., 1., 1., 1., 1., 1., 1., 1., 1.,\n",
       "       1.])"
      ]
     },
     "execution_count": 20,
     "metadata": {},
     "output_type": "execute_result"
    }
   ],
   "source": [
    "normed_returns.std(axis=0)"
   ]
  },
  {
   "cell_type": "code",
   "execution_count": 21,
   "metadata": {},
   "outputs": [],
   "source": [
    "cov3 = np.matmul(normed_returns.T, normed_returns)/431\n",
    "w, v2 = np.linalg.eig(cov3)"
   ]
  },
  {
   "cell_type": "code",
   "execution_count": 32,
   "metadata": {},
   "outputs": [],
   "source": [
    "# for k in range(2):\n",
    "#     print(\"PD\")\n",
    "#     pretty_print(v2[:, k],names)"
   ]
  },
  {
   "cell_type": "code",
   "execution_count": 24,
   "metadata": {},
   "outputs": [
    {
     "name": "stdout",
     "output_type": "stream",
     "text": [
      "PD\n",
      "      aapl      amzn      msft      goog       xom       apc       cvx  \\\n",
      " -0.184648 -0.168095 -0.227645 -0.197887 -0.208861 -0.194808 -0.223865   \n",
      "\n",
      "         c        gs      jpm       aet       jnj       dgx       spy  \\\n",
      " -0.280147 -0.260443 -0.27294 -0.188555 -0.150783 -0.196612 -0.336632   \n",
      "\n",
      "       xlf       sso       sds       uso  \n",
      " -0.198364 -0.334826  0.327259 -0.159213  \n",
      "PD\n",
      "      aapl    amzn      msft      goog       xom       apc       cvx  \\\n",
      "  0.285821  0.3302  0.302005  0.389346 -0.293444 -0.329116 -0.308272   \n",
      "\n",
      "         c        gs       jpm       aet       jnj       dgx       spy  \\\n",
      " -0.133288 -0.137664 -0.155599  0.071286  0.108239  0.165412  0.084872   \n",
      "\n",
      "       xlf       sso       sds       uso  \n",
      " -0.124933  0.091568 -0.056002 -0.370943  \n"
     ]
    }
   ],
   "source": [
    "U, S, principal_directions_stand = np.linalg.svd(np.corrcoef(centered_returns,rowvar=False))\n",
    "for k in range(2):\n",
    "    print(\"PD\")\n",
    "    pretty_print(principal_directions_stand[k],names)"
   ]
  },
  {
   "cell_type": "code",
   "execution_count": 156,
   "metadata": {},
   "outputs": [],
   "source": [
    "def extract_stock_price(index_day, prices, index_stock, names):\n",
    "    stock_name = names[index_stock]\n",
    "    daily_price = prices[index_day,:]\n",
    "    stock_price = daily_price[index_stock]\n",
    "    return stock_price, [stock_name]\n",
    "\n",
    "def extract_stock_weights(index_stock_end, principal_direction, principal_direction_index, \n",
    "                          index_day, prices, names, index_stock_start=None):\n",
    "    if index_stock_start:\n",
    "        weigth_stocks = principal_direction[index_stock_start:index_stock_end, principal_direction_index]\n",
    "        stock_names = names[index_stock_start:index_stock_end]\n",
    "        daily_prices = prices[index_day,:]\n",
    "        stock_prices = daily_prices[index_stock_start:index_stock_end]\n",
    "    else:\n",
    "        weigth_stocks = principal_direction[:index_stock, principal_direction_index]\n",
    "        stock_names = names[:index_stock]\n",
    "        daily_prices = prices[index_day,:]\n",
    "        stock_prices = daily_prices[:index_stock]\n",
    "    return daily_prices, weigth_stocks, stock_prices, stock_names\n",
    "\n",
    "def compute_weighted_average(weigth_stocks, price_stocks):\n",
    "    return np.sum(np.multiply(weigth_stocks, price_stocks), axis=0)/ np.sum(weigth_stocks, axis=0)"
   ]
  },
  {
   "cell_type": "markdown",
   "metadata": {},
   "source": [
    "# SPY"
   ]
  },
  {
   "cell_type": "markdown",
   "metadata": {},
   "source": [
    "State Street's SPDR S&P 500 ETF.  A security that roughly tracks the S&P 500, a weighted average of the stock prices of 500 top US companies."
   ]
  },
  {
   "cell_type": "code",
   "execution_count": 145,
   "metadata": {},
   "outputs": [
    {
     "name": "stdout",
     "output_type": "stream",
     "text": [
      "--------------------------------------------------------------------------------\n",
      "Weights coefficients for the first 13 stock prices using PD0\n",
      "      aapl      amzn      msft      goog       xom       apc       cvx  \\\n",
      " -0.184648 -0.168095 -0.227645 -0.197887 -0.208861 -0.194808 -0.223865   \n",
      "\n",
      "         c        gs      jpm       aet       jnj       dgx       spy  \\\n",
      " -0.280147 -0.260443 -0.27294 -0.188555 -0.150783 -0.196612 -0.336632   \n",
      "\n",
      "       xlf       sso       sds  \n",
      " -0.198364 -0.334826  0.327259  \n",
      "--------------------------------------------------------------------------------\n",
      "Day0 prices\n",
      "        aapl       amzn       msft        goog        xom        apc  \\\n",
      "  101.790649  636.98999  52.433533  741.840027  72.740799  48.801582   \n",
      "\n",
      "        cvx          c          gs       jpm         aet        jnj  \\\n",
      "  82.577927  50.149845  172.800156  61.18005  107.291946  95.826782   \n",
      "\n",
      "        dgx         spy        xlf        sso   sds  \n",
      "  68.369064  194.027725  14.100877  60.724442  82.0  \n",
      "--------------------------------------------------------------------------------\n",
      "Day0, computed SPY weighted average prices:155.63987057982837\n",
      "--------------------------------------------------------------------------------\n",
      "Day0 SPY price\n",
      "         spy\n",
      "  194.027725\n"
     ]
    }
   ],
   "source": [
    "index_day = 0\n",
    "index_stock_end = 13\n",
    "principal_direction_index = 0\n",
    "daily_prices, weigth_stocks, stock_prices, stock_names = extract_stock_weights(index_stock_end, v2, principal_direction_index,\n",
    "                                                                                index_day, days, names)\n",
    "print(80*\"-\")\n",
    "print(\"Weights coefficients for the first 13 stock prices using PD{}\".format(principal_direction_index))\n",
    "pretty_print(weigth_stocks, stock_names)\n",
    "print(80*\"-\")\n",
    "print(\"Day{} prices\".format(index_day))\n",
    "pretty_print(stock_prices, stock_names)\n",
    "print(80*\"-\")\n",
    "print(\"Day{}, computed SPY weighted average prices:{}\".format(index_day, compute_weighted_average(weigth_stocks, stock_prices)))\n",
    "print(80*\"-\")\n",
    "print(\"Day{} SPY price\".format(index_day))\n",
    "spy_return, spy_name = extract_stock_price(index_day, days, index_stock_end, names)\n",
    "pretty_print(spy_return, spy_name)"
   ]
  },
  {
   "cell_type": "code",
   "execution_count": 146,
   "metadata": {},
   "outputs": [
    {
     "name": "stdout",
     "output_type": "stream",
     "text": [
      "--------------------------------------------------------------------------------\n",
      "Weights coefficients for the first 13 stock prices using PD0\n",
      "      aapl      amzn      msft      goog       xom       apc       cvx  \\\n",
      " -0.184648 -0.168095 -0.227645 -0.197887 -0.208861 -0.194808 -0.223865   \n",
      "\n",
      "         c        gs      jpm       aet       jnj       dgx       spy  \\\n",
      " -0.280147 -0.260443 -0.27294 -0.188555 -0.150783 -0.196612 -0.336632   \n",
      "\n",
      "       xlf       sso       sds  \n",
      " -0.198364 -0.334826  0.327259  \n",
      "--------------------------------------------------------------------------------\n",
      "Day100 prices\n",
      "       aapl        amzn       msft        goog        xom        apc  \\\n",
      "  98.137901  714.909973  50.355423  724.119995  85.809525  51.987953   \n",
      "\n",
      "        cvx          c          gs        jpm         aet         jnj  \\\n",
      "  96.541328  45.329781  155.994034  62.998978  111.555122  109.226227   \n",
      "\n",
      "        dgx         spy        xlf        sso        sds  \n",
      "  75.464516  203.100464  14.347868  65.536652  72.559998  \n",
      "--------------------------------------------------------------------------------\n",
      "Day100, computed SPY weighted average prices:162.22361640610174\n",
      "--------------------------------------------------------------------------------\n",
      "Day100 SPY price\n",
      "         spy\n",
      "  203.100464\n"
     ]
    }
   ],
   "source": [
    "index_day = 100\n",
    "index_stock_end = 13\n",
    "principal_direction_index = 0\n",
    "daily_prices, weigth_stocks, stock_prices, stock_names = extract_stock_weights(index_stock_end, v2, principal_direction_index,\n",
    "                                                                                index_day, days, names)\n",
    "print(80*\"-\")\n",
    "print(\"Weights coefficients for the first 13 stock prices using PD{}\".format(principal_direction_index))\n",
    "pretty_print(weigth_stocks, stock_names)\n",
    "print(80*\"-\")\n",
    "print(\"Day{} prices\".format(index_day))\n",
    "pretty_print(stock_prices, stock_names)\n",
    "print(80*\"-\")\n",
    "print(\"Day{}, computed SPY weighted average prices:{}\".format(index_day, compute_weighted_average(weigth_stocks, stock_prices)))\n",
    "print(80*\"-\")\n",
    "print(\"Day{} SPY price\".format(index_day))\n",
    "spy_return, spy_name = extract_stock_price(index_day, days, index_stock_end, names)\n",
    "pretty_print(spy_return, spy_name)"
   ]
  },
  {
   "cell_type": "code",
   "execution_count": 147,
   "metadata": {},
   "outputs": [
    {
     "name": "stdout",
     "output_type": "stream",
     "text": [
      "--------------------------------------------------------------------------------\n",
      "Weights coefficients for the first 13 stock prices using PD1\n",
      "      aapl    amzn      msft      goog       xom       apc       cvx  \\\n",
      "  0.285821  0.3302  0.302005  0.389346 -0.293444 -0.329116 -0.308272   \n",
      "\n",
      "         c        gs       jpm       aet       jnj       dgx       spy  \\\n",
      " -0.133288 -0.137664 -0.155599  0.071286  0.108239  0.165412  0.084872   \n",
      "\n",
      "       xlf       sso       sds  \n",
      " -0.124933  0.091568 -0.056002  \n",
      "--------------------------------------------------------------------------------\n",
      "Day0 prices\n",
      "        aapl       amzn       msft        goog        xom        apc  \\\n",
      "  101.790649  636.98999  52.433533  741.840027  72.740799  48.801582   \n",
      "\n",
      "        cvx          c          gs       jpm         aet        jnj  \\\n",
      "  82.577927  50.149845  172.800156  61.18005  107.291946  95.826782   \n",
      "\n",
      "        dgx         spy        xlf        sso   sds  \n",
      "  68.369064  194.027725  14.100877  60.724442  82.0  \n",
      "--------------------------------------------------------------------------------\n",
      "Day0, computed SPY weighted average prices:1674.2139367259144\n",
      "--------------------------------------------------------------------------------\n",
      "Day0 SPY price\n",
      "         spy\n",
      "  194.027725\n"
     ]
    }
   ],
   "source": [
    "index_day = 0\n",
    "index_stock_end = 13\n",
    "principal_direction_index = 1\n",
    "daily_prices, weigth_stocks, stock_prices, stock_names = extract_stock_weights(index_stock_end, v2, principal_direction_index,\n",
    "                                                                                index_day, days, names)\n",
    "print(80*\"-\")\n",
    "print(\"Weights coefficients for the first 13 stock prices using PD{}\".format(principal_direction_index))\n",
    "pretty_print(weigth_stocks, stock_names)\n",
    "print(80*\"-\")\n",
    "print(\"Day{} prices\".format(index_day))\n",
    "pretty_print(stock_prices, stock_names)\n",
    "print(80*\"-\")\n",
    "print(\"Day{}, computed SPY weighted average prices:{}\".format(index_day, compute_weighted_average(weigth_stocks, stock_prices)))\n",
    "print(80*\"-\")\n",
    "print(\"Day{} SPY price\".format(index_day))\n",
    "spy_return, spy_name = extract_stock_price(index_day, days, index_stock_end, names)\n",
    "pretty_print(spy_return, spy_name)"
   ]
  },
  {
   "cell_type": "code",
   "execution_count": 148,
   "metadata": {},
   "outputs": [
    {
     "name": "stdout",
     "output_type": "stream",
     "text": [
      "--------------------------------------------------------------------------------\n",
      "Weights coefficients for the first 13 stock prices using PD1\n",
      "      aapl    amzn      msft      goog       xom       apc       cvx  \\\n",
      "  0.285821  0.3302  0.302005  0.389346 -0.293444 -0.329116 -0.308272   \n",
      "\n",
      "         c        gs       jpm       aet       jnj       dgx       spy  \\\n",
      " -0.133288 -0.137664 -0.155599  0.071286  0.108239  0.165412  0.084872   \n",
      "\n",
      "       xlf       sso       sds  \n",
      " -0.124933  0.091568 -0.056002  \n",
      "--------------------------------------------------------------------------------\n",
      "Day100 prices\n",
      "       aapl        amzn       msft        goog        xom        apc  \\\n",
      "  98.137901  714.909973  50.355423  724.119995  85.809525  51.987953   \n",
      "\n",
      "        cvx          c          gs        jpm         aet         jnj  \\\n",
      "  96.541328  45.329781  155.994034  62.998978  111.555122  109.226227   \n",
      "\n",
      "        dgx         spy        xlf        sso        sds  \n",
      "  75.464516  203.100464  14.347868  65.536652  72.559998  \n",
      "--------------------------------------------------------------------------------\n",
      "Day100, computed SPY weighted average prices:1726.8239746636139\n",
      "--------------------------------------------------------------------------------\n",
      "Day100 SPY price\n",
      "         spy\n",
      "  203.100464\n"
     ]
    }
   ],
   "source": [
    "index_day = 100\n",
    "index_stock_end = 13\n",
    "principal_direction_index = 1\n",
    "daily_prices, weigth_stocks, stock_prices, stock_names = extract_stock_weights(index_stock_end, v2, principal_direction_index,\n",
    "                                                                                index_day, days, names)\n",
    "print(80*\"-\")\n",
    "print(\"Weights coefficients for the first 13 stock prices using PD{}\".format(principal_direction_index))\n",
    "pretty_print(weigth_stocks, stock_names)\n",
    "print(80*\"-\")\n",
    "print(\"Day{} prices\".format(index_day))\n",
    "pretty_print(stock_prices, stock_names)\n",
    "print(80*\"-\")\n",
    "print(\"Day{}, computed SPY weighted average prices:{}\".format(index_day, compute_weighted_average(weigth_stocks, stock_prices)))\n",
    "print(80*\"-\")\n",
    "print(\"Day{} SPY price\".format(index_day))\n",
    "spy_return, spy_name = extract_stock_price(index_day, days, index_stock_end, names)\n",
    "pretty_print(spy_return, spy_name)"
   ]
  },
  {
   "cell_type": "markdown",
   "metadata": {},
   "source": [
    "# XLF: State Street's SPDR Financials ETF.  A security that tracks a weighted average of top US financial companies."
   ]
  },
  {
   "cell_type": "code",
   "execution_count": 149,
   "metadata": {},
   "outputs": [
    {
     "name": "stdout",
     "output_type": "stream",
     "text": [
      "1 PD\n",
      "      aapl      amzn      msft      goog       xom       apc       cvx  \\\n",
      " -0.184648 -0.168095 -0.227645 -0.197887 -0.208861 -0.194808 -0.223865   \n",
      "\n",
      "         c        gs      jpm       aet       jnj       dgx       spy  \\\n",
      " -0.280147 -0.260443 -0.27294 -0.188555 -0.150783 -0.196612 -0.336632   \n",
      "\n",
      "       xlf       sso       sds       uso  \n",
      " -0.198364 -0.334826  0.327259 -0.159213  \n",
      "2 PD\n",
      "      aapl    amzn      msft      goog       xom       apc       cvx  \\\n",
      "  0.285821  0.3302  0.302005  0.389346 -0.293444 -0.329116 -0.308272   \n",
      "\n",
      "         c        gs       jpm       aet       jnj       dgx       spy  \\\n",
      " -0.133288 -0.137664 -0.155599  0.071286  0.108239  0.165412  0.084872   \n",
      "\n",
      "       xlf       sso       sds       uso  \n",
      " -0.124933  0.091568 -0.056002 -0.370943  \n"
     ]
    }
   ],
   "source": [
    "for k in range(2):\n",
    "    print(\"{} PD\".format(k+1))\n",
    "    pretty_print(principal_directions_stand[k],names)"
   ]
  },
  {
   "cell_type": "code",
   "execution_count": 160,
   "metadata": {},
   "outputs": [
    {
     "name": "stdout",
     "output_type": "stream",
     "text": [
      "--------------------------------------------------------------------------------\n",
      "Weights coefficients for the first 3 financial stock prices using PD0\n",
      "         c        gs      jpm\n",
      " -0.280147 -0.260443 -0.27294\n",
      "--------------------------------------------------------------------------------\n",
      "Day100 prices\n",
      "          c          gs        jpm\n",
      "  45.329781  155.994034  62.998978\n",
      "--------------------------------------------------------------------------------\n",
      "Day100, computed XLF weighted average price:86.68575537909774\n",
      "--------------------------------------------------------------------------------\n",
      "Day100 XLF return\n",
      "        xlf\n",
      "  14.347868\n"
     ]
    }
   ],
   "source": [
    "index_day = 100\n",
    "index_stock = 14\n",
    "index_stocks_start = 7\n",
    "index_stocks_end = 10\n",
    "principal_direction_index = 0\n",
    "daily_prices, weigth_stocks, stock_prices, stock_names = extract_stock_weights(index_stocks_end, v2, principal_direction_index,\n",
    "                                                                                index_day, days, names, index_stocks_start)\n",
    "print(80*\"-\")\n",
    "print(\"Weights coefficients for the first 3 financial stock prices using PD{}\".format(principal_direction_index))\n",
    "pretty_print(weigth_stocks, stock_names)\n",
    "print(80*\"-\")\n",
    "print(\"Day{} prices\".format(index_day))\n",
    "pretty_print(stock_prices, stock_names)\n",
    "print(80*\"-\")\n",
    "print(\"Day{}, computed XLF weighted average price:{}\".format(index_day, compute_weighted_average(weigth_stocks, stock_prices)))\n",
    "print(80*\"-\")\n",
    "print(\"Day{} XLF return\".format(index_day))\n",
    "stock_price, stock_name = extract_stock_price(index_day, days, index_stock, names)\n",
    "pretty_print(stock_price, stock_name)"
   ]
  },
  {
   "cell_type": "code",
   "execution_count": 118,
   "metadata": {},
   "outputs": [
    {
     "name": "stdout",
     "output_type": "stream",
     "text": [
      "--------------------------------------------------------------------------------\n",
      "Weights coefficients for the first 13 stock prices using PD0\n",
      "         c        gs      jpm\n",
      " -0.280147 -0.260443 -0.27294\n",
      "--------------------------------------------------------------------------------\n",
      "Day100 returns\n",
      "          c          gs        jpm\n",
      "  45.329781  155.994034  62.998978\n",
      "--------------------------------------------------------------------------------\n",
      "Day100, computed XLF weighted average:86.68575537909774\n",
      "--------------------------------------------------------------------------------\n",
      "Day100 XLF return\n",
      "        xlf\n",
      "  14.347868\n"
     ]
    }
   ],
   "source": [
    "index_day = 100\n",
    "index_stocks_start = 7\n",
    "index_stocks_end = 10\n",
    "principal_direction_index = 0\n",
    "daily_return, weigth_stocks, stock_returns, stock_names = extract_stock_weights(index_stocks_end, v2, principal_direction_index,\n",
    "                                                                                index_day, days, names, index_stocks_start)\n",
    "print(80*\"-\")\n",
    "print(\"Weights coefficients for the first 13 stock prices using PD{}\".format(principal_direction_index))\n",
    "pretty_print(weigth_stocks, stock_names)\n",
    "print(80*\"-\")\n",
    "print(\"Day{} returns\".format(index_day))\n",
    "pretty_print(stock_returns, stock_names)\n",
    "print(80*\"-\")\n",
    "print(\"Day{}, computed XLF weighted average:{}\".format(index_day, compute_weighted_average(weigth_stocks, stock_returns)))\n",
    "print(80*\"-\")\n",
    "print(\"Day{} XLF return\".format(index_day))\n",
    "spy_return, spy_name = extract_stock_return(index_day, days, index_stock, names)\n",
    "pretty_print(spy_return, spy_name)"
   ]
  },
  {
   "cell_type": "code",
   "execution_count": 161,
   "metadata": {},
   "outputs": [
    {
     "name": "stdout",
     "output_type": "stream",
     "text": [
      "--------------------------------------------------------------------------------\n",
      "Weights coefficients for the first 3 financial stock prices using PD1\n",
      "         c        gs       jpm\n",
      " -0.133288 -0.137664 -0.155599\n",
      "--------------------------------------------------------------------------------\n",
      "Day0 prices\n",
      "          c          gs       jpm\n",
      "  50.149845  172.800156  61.18005\n",
      "--------------------------------------------------------------------------------\n",
      "Day0, computed XLF weighted average price:93.75722485348642\n",
      "--------------------------------------------------------------------------------\n",
      "Day0 XLF return\n",
      "        xlf\n",
      "  14.100877\n"
     ]
    }
   ],
   "source": [
    "index_day = 0\n",
    "index_stock = 14\n",
    "index_stocks_start = 7\n",
    "index_stocks_end = 10\n",
    "principal_direction_index = 1\n",
    "daily_prices, weigth_stocks, stock_prices, stock_names = extract_stock_weights(index_stocks_end, v2, principal_direction_index,\n",
    "                                                                                index_day, days, names, index_stocks_start)\n",
    "print(80*\"-\")\n",
    "print(\"Weights coefficients for the first 3 financial stock prices using PD{}\".format(principal_direction_index))\n",
    "pretty_print(weigth_stocks, stock_names)\n",
    "print(80*\"-\")\n",
    "print(\"Day{} prices\".format(index_day))\n",
    "pretty_print(stock_prices, stock_names)\n",
    "print(80*\"-\")\n",
    "print(\"Day{}, computed XLF weighted average price:{}\".format(index_day, compute_weighted_average(weigth_stocks, stock_prices)))\n",
    "print(80*\"-\")\n",
    "print(\"Day{} XLF return\".format(index_day))\n",
    "stock_price, stock_name = extract_stock_price(index_day, days, index_stock, names)\n",
    "pretty_print(stock_price, stock_name)"
   ]
  },
  {
   "cell_type": "code",
   "execution_count": 162,
   "metadata": {},
   "outputs": [
    {
     "name": "stdout",
     "output_type": "stream",
     "text": [
      "--------------------------------------------------------------------------------\n",
      "Weights coefficients for the first 3 financial stock prices using PD1\n",
      "         c        gs       jpm\n",
      " -0.133288 -0.137664 -0.155599\n",
      "--------------------------------------------------------------------------------\n",
      "Day100 prices\n",
      "          c          gs        jpm\n",
      "  45.329781  155.994034  62.998978\n",
      "--------------------------------------------------------------------------------\n",
      "Day100, computed XLF weighted average price:87.49062672340933\n",
      "--------------------------------------------------------------------------------\n",
      "Day100 XLF return\n",
      "        xlf\n",
      "  14.347868\n"
     ]
    }
   ],
   "source": [
    "index_day = 100\n",
    "index_stock = 14\n",
    "index_stocks_start = 7\n",
    "index_stocks_end = 10\n",
    "principal_direction_index = 1\n",
    "daily_prices, weigth_stocks, stock_prices, stock_names = extract_stock_weights(index_stocks_end, v2, principal_direction_index,\n",
    "                                                                                index_day, days, names, index_stocks_start)\n",
    "print(80*\"-\")\n",
    "print(\"Weights coefficients for the first 3 financial stock prices using PD{}\".format(principal_direction_index))\n",
    "pretty_print(weigth_stocks, stock_names)\n",
    "print(80*\"-\")\n",
    "print(\"Day{} prices\".format(index_day))\n",
    "pretty_print(stock_prices, stock_names)\n",
    "print(80*\"-\")\n",
    "print(\"Day{}, computed XLF weighted average price:{}\".format(index_day, compute_weighted_average(weigth_stocks, stock_prices)))\n",
    "print(80*\"-\")\n",
    "print(\"Day{} XLF return\".format(index_day))\n",
    "stock_price, stock_name = extract_stock_price(index_day, days, index_stock, names)\n",
    "pretty_print(stock_price, stock_name)"
   ]
  },
  {
   "cell_type": "markdown",
   "metadata": {},
   "source": [
    "# SSO ProShares levered ETF that roughly corresponds to twice the daily performance of the S&P 500."
   ]
  },
  {
   "cell_type": "code",
   "execution_count": 125,
   "metadata": {},
   "outputs": [
    {
     "name": "stdout",
     "output_type": "stream",
     "text": [
      "      aapl      amzn      msft     goog       xom       apc       cvx  \\\n",
      " -0.343941  0.039978 -0.126941  6.23999  0.385491  0.956391  0.461364   \n",
      "\n",
      "         c        gs       jpm       aet       jnj      dgx       spy  \\\n",
      "  0.483455  1.856705  0.639229 -0.366638 -0.798614 -0.71032  0.558686   \n",
      "\n",
      "       xlf      sso       sds   uso  \n",
      "  0.167292  0.33892 -0.240006  0.21  \n"
     ]
    }
   ],
   "source": [
    "index_day=200\n",
    "index_stock = -1\n",
    "daily_return = returns[index_day,:]\n",
    "stock_returns = daily_return[:]\n",
    "pretty_print(stock_returns, names)"
   ]
  },
  {
   "cell_type": "code",
   "execution_count": 123,
   "metadata": {},
   "outputs": [
    {
     "name": "stdout",
     "output_type": "stream",
     "text": [
      "Rough correlation of SPY with the mean of the first 12 stocks among 18 stocks\n",
      "First PD, SPY:-0.3366318246190488, rough average:-0.21194525678931014\n",
      "Second PD, SPY:0.08487248667261116, rough average:0.022686615723236207\n"
     ]
    }
   ],
   "source": [
    "print(\"Rough correlation of SPY with the mean of the first 12 stocks among 18 stocks\") \n",
    "print(\"First PD, SPY:{}, rough average:{}\".format(v2[13, 0], v2[:13, 0].mean()))\n",
    "print(\"Second PD, SPY:{}, rough average:{}\".format(v2[13, 1], v2[:13,1].mean()))"
   ]
  },
  {
   "cell_type": "code",
   "execution_count": 125,
   "metadata": {},
   "outputs": [
    {
     "name": "stdout",
     "output_type": "stream",
     "text": [
      "Rough correlation of XLF with the mean of the US financial companies among 18 stocks\n",
      "First PD, XLF:-0.19836417024240857, rough average:-0.27117654947312425\n",
      "Second PD, XLF:-0.12493297939512506, rough average:-0.14218371263817778\n"
     ]
    }
   ],
   "source": [
    "print(\"Rough correlation of XLF with the mean of the US financial companies among 18 stocks\") \n",
    "print(\"First PD, XLF:{}, rough average:{}\".format(v2[14, 0], v2[7:10, 0].mean()))\n",
    "print(\"Second PD, XLF:{}, rough average:{}\".format(v2[14,1], v2[7:10, 1].mean()))"
   ]
  },
  {
   "cell_type": "markdown",
   "metadata": {},
   "source": [
    "# SSO ProShares levered ETF that roughly corresponds to twice the daily performance of the S&P 500."
   ]
  },
  {
   "cell_type": "code",
   "execution_count": null,
   "metadata": {},
   "outputs": [],
   "source": [
    "ProShares levered ETF that roughly corresponds to twice\n",
    "    # the daily performance of the S&P 500."
   ]
  },
  {
   "cell_type": "code",
   "execution_count": 163,
   "metadata": {},
   "outputs": [
    {
     "name": "stdout",
     "output_type": "stream",
     "text": [
      "SSO roughly twice daily performance of SPY\n",
      "First PD, SSO:-0.33482642597223305, 2 x SPY:-0.3366318246190488\n",
      "Second PD, SSO:-0.33482642597223305, 2 x SPY:0.08487248667261116\n"
     ]
    }
   ],
   "source": [
    "print(\"SSO roughly twice daily performance of SPY\") \n",
    "print(\"First PD, SSO:{}, 2 x SPY:{}\".format(v2[15, 0], v2[13, 0]))\n",
    "print(\"Second PD, SSO:{}, 2 x SPY:{}\".format(v2[15, 0], v2[13, 1]))"
   ]
  },
  {
   "cell_type": "code",
   "execution_count": 129,
   "metadata": {},
   "outputs": [
    {
     "name": "stdout",
     "output_type": "stream",
     "text": [
      "1 PD\n",
      "      aapl      amzn      msft      goog       xom       apc       cvx  \\\n",
      " -0.184648 -0.168095 -0.227645 -0.197887 -0.208861 -0.194808 -0.223865   \n",
      "\n",
      "         c        gs      jpm       aet       jnj       dgx       spy  \\\n",
      " -0.280147 -0.260443 -0.27294 -0.188555 -0.150783 -0.196612 -0.336632   \n",
      "\n",
      "       xlf       sso       sds       uso  \n",
      " -0.198364 -0.334826  0.327259 -0.159213  \n",
      "2 PD\n",
      "      aapl    amzn      msft      goog       xom       apc       cvx  \\\n",
      "  0.285821  0.3302  0.302005  0.389346 -0.293444 -0.329116 -0.308272   \n",
      "\n",
      "         c        gs       jpm       aet       jnj       dgx       spy  \\\n",
      " -0.133288 -0.137664 -0.155599  0.071286  0.108239  0.165412  0.084872   \n",
      "\n",
      "       xlf       sso       sds       uso  \n",
      " -0.124933  0.091568 -0.056002 -0.370943  \n"
     ]
    }
   ],
   "source": [
    "for k in range(2):\n",
    "    print(\"{} PD\".format(k+1))\n",
    "    pretty_print(principal_directions_stand[k],names)"
   ]
  },
  {
   "cell_type": "markdown",
   "metadata": {},
   "source": [
    "# SDS ProShares inverse levered ETF that roughly corresponds to \n",
    "    twice the negative daily performance of the S&P 500.  That is,\n",
    "    when the S&P 500 goes up by a dollar, this roughly goes down by 2."
   ]
  },
  {
   "cell_type": "code",
   "execution_count": 130,
   "metadata": {},
   "outputs": [
    {
     "name": "stdout",
     "output_type": "stream",
     "text": [
      "1 PD\n",
      "      aapl      amzn      msft      goog       xom       apc       cvx  \\\n",
      " -0.184648 -0.168095 -0.227645 -0.197887 -0.208861 -0.194808 -0.223865   \n",
      "\n",
      "         c        gs      jpm       aet       jnj       dgx       spy  \\\n",
      " -0.280147 -0.260443 -0.27294 -0.188555 -0.150783 -0.196612 -0.336632   \n",
      "\n",
      "       xlf       sso       sds       uso  \n",
      " -0.198364 -0.334826  0.327259 -0.159213  \n",
      "2 PD\n",
      "      aapl    amzn      msft      goog       xom       apc       cvx  \\\n",
      "  0.285821  0.3302  0.302005  0.389346 -0.293444 -0.329116 -0.308272   \n",
      "\n",
      "         c        gs       jpm       aet       jnj       dgx       spy  \\\n",
      " -0.133288 -0.137664 -0.155599  0.071286  0.108239  0.165412  0.084872   \n",
      "\n",
      "       xlf       sso       sds       uso  \n",
      " -0.124933  0.091568 -0.056002 -0.370943  \n"
     ]
    }
   ],
   "source": [
    "for k in range(2):\n",
    "    print(\"{} PD\".format(k+1))\n",
    "    pretty_print(principal_directions_stand[k],names)"
   ]
  },
  {
   "cell_type": "code",
   "execution_count": 128,
   "metadata": {},
   "outputs": [
    {
     "name": "stdout",
     "output_type": "stream",
     "text": [
      "SDS roughly twice daily the negative daily performance of SPY\n",
      "First PD, SSO:-0.33482642597223305, 2 x SPY:-0.6732636492380976\n",
      "Second PD, SSO:0.09156766289103946, 2 x SPY:0.16974497334522232\n"
     ]
    }
   ],
   "source": [
    "print(\"SDS roughly twice daily the negative daily performance of SPY\") \n",
    "print(\"First PD, SSO:{}, 2 x SPY:{}\".format(v2[15, 0], 2 * v2[13, 0]))\n",
    "print(\"Second PD, SSO:{}, 2 x SPY:{}\".format(v2[15, 1], 2 * v2[13, 1]))"
   ]
  },
  {
   "cell_type": "markdown",
   "metadata": {},
   "source": [
    "# USO Exchange traded product that tracks the price of oil in the US."
   ]
  },
  {
   "cell_type": "code",
   "execution_count": 127,
   "metadata": {},
   "outputs": [
    {
     "name": "stdout",
     "output_type": "stream",
     "text": [
      "      aapl      amzn      msft     goog       xom       apc       cvx  \\\n",
      " -0.343941  0.039978 -0.126941  6.23999  0.385491  0.956391  0.461364   \n",
      "\n",
      "         c        gs       jpm       aet       jnj      dgx       spy  \\\n",
      "  0.483455  1.856705  0.639229 -0.366638 -0.798614 -0.71032  0.558686   \n",
      "\n",
      "       xlf      sso       sds   uso  \n",
      "  0.167292  0.33892 -0.240006  0.21  \n"
     ]
    }
   ],
   "source": [
    "index_day=200\n",
    "index_stock = -1\n",
    "daily_return = returns[index_day,:]\n",
    "stock_returns = daily_return[:]\n",
    "pretty_print(stock_returns, names)"
   ]
  },
  {
   "cell_type": "code",
   "execution_count": 128,
   "metadata": {},
   "outputs": [
    {
     "name": "stdout",
     "output_type": "stream",
     "text": [
      "1 PD\n",
      "      aapl      amzn      msft      goog       xom       apc       cvx  \\\n",
      " -0.184648 -0.168095 -0.227645 -0.197887 -0.208861 -0.194808 -0.223865   \n",
      "\n",
      "         c        gs      jpm       aet       jnj       dgx       spy  \\\n",
      " -0.280147 -0.260443 -0.27294 -0.188555 -0.150783 -0.196612 -0.336632   \n",
      "\n",
      "       xlf       sso       sds       uso  \n",
      " -0.198364 -0.334826  0.327259 -0.159213  \n",
      "2 PD\n",
      "      aapl    amzn      msft      goog       xom       apc       cvx  \\\n",
      "  0.285821  0.3302  0.302005  0.389346 -0.293444 -0.329116 -0.308272   \n",
      "\n",
      "         c        gs       jpm       aet       jnj       dgx       spy  \\\n",
      " -0.133288 -0.137664 -0.155599  0.071286  0.108239  0.165412  0.084872   \n",
      "\n",
      "       xlf       sso       sds       uso  \n",
      " -0.124933  0.091568 -0.056002 -0.370943  \n"
     ]
    }
   ],
   "source": [
    "for k in range(2):\n",
    "    print(\"{} PD\".format(k+1))\n",
    "    pretty_print(principal_directions_stand[k],names)"
   ]
  },
  {
   "cell_type": "code",
   "execution_count": 130,
   "metadata": {},
   "outputs": [
    {
     "name": "stdout",
     "output_type": "stream",
     "text": [
      "Rough correlation of USO that tracks price of US oil with the mean of the US oil companies among 18 stocks\n",
      "First PD, USO:-0.1592126731469417, rough average:-0.2091779373188841\n",
      "Second PD, USO:-0.3709433376773427, rough average:-0.3102774984100604\n"
     ]
    }
   ],
   "source": [
    "print(\"Rough correlation of USO that tracks price of US oil with the mean of the US oil companies among 18 stocks\") \n",
    "print(\"First PD, USO:{}, rough average:{}\".format(v2[-1, 0], v2[4:7, 0].mean()))\n",
    "print(\"Second PD, USO:{}, rough average:{}\".format(v2[-1, 1], v2[4:7, 1].mean()))"
   ]
  },
  {
   "cell_type": "markdown",
   "metadata": {},
   "source": [
    "# Q3 - C"
   ]
  },
  {
   "cell_type": "code",
   "execution_count": 154,
   "metadata": {},
   "outputs": [
    {
     "data": {
      "text/plain": [
       "(18, 18)"
      ]
     },
     "execution_count": 154,
     "metadata": {},
     "output_type": "execute_result"
    }
   ],
   "source": [
    "cov2.shape"
   ]
  },
  {
   "cell_type": "code",
   "execution_count": 164,
   "metadata": {},
   "outputs": [
    {
     "data": {
      "text/plain": [
       "4309.949525975801"
      ]
     },
     "execution_count": 164,
     "metadata": {},
     "output_type": "execute_result"
    }
   ],
   "source": [
    "shares = [100 for _ in range(n_stocks)]\n",
    "double_shares_stocks = [\"aapl\",\"amzn\",\"msft\",\"goog\"]\n",
    "shares = np.array([2 * shares[i] if names[i] in double_shares_stocks else shares[i] for i in range(n_stocks)]).reshape(-1,1)\n",
    "np.sqrt(np.dot(shares.T, np.matmul(cov, shares))).item()"
   ]
  },
  {
   "cell_type": "markdown",
   "metadata": {},
   "source": [
    "# Q4 - d"
   ]
  },
  {
   "cell_type": "code",
   "execution_count": 166,
   "metadata": {},
   "outputs": [
    {
     "name": "stdout",
     "output_type": "stream",
     "text": [
      "0.3425925925925926\n"
     ]
    }
   ],
   "source": [
    "daily_portfolio_returns = np.dot(returns, shares) \n",
    "p = sum([daily_portfolio_returns[i] <= -1000 for i in range(n_returns)])/n_returns\n",
    "print(p.item())"
   ]
  },
  {
   "cell_type": "code",
   "execution_count": 167,
   "metadata": {},
   "outputs": [
    {
     "data": {
      "text/plain": [
       "(432, 1)"
      ]
     },
     "execution_count": 167,
     "metadata": {},
     "output_type": "execute_result"
    }
   ],
   "source": [
    "daily_portfolio_returns.shape"
   ]
  },
  {
   "cell_type": "code",
   "execution_count": 168,
   "metadata": {},
   "outputs": [
    {
     "data": {
      "text/plain": [
       "432"
      ]
     },
     "execution_count": 168,
     "metadata": {},
     "output_type": "execute_result"
    }
   ],
   "source": [
    "n_returns"
   ]
  },
  {
   "cell_type": "code",
   "execution_count": 169,
   "metadata": {},
   "outputs": [
    {
     "data": {
      "text/plain": [
       "4304.958268336103"
      ]
     },
     "execution_count": 169,
     "metadata": {},
     "output_type": "execute_result"
    }
   ],
   "source": [
    "np.std(daily_portfolio_returns)"
   ]
  },
  {
   "cell_type": "code",
   "execution_count": null,
   "metadata": {},
   "outputs": [],
   "source": []
  }
 ],
 "metadata": {
  "kernelspec": {
   "display_name": "Python [conda env:mathds] *",
   "language": "python",
   "name": "conda-env-mathds-py"
  },
  "language_info": {
   "codemirror_mode": {
    "name": "ipython",
    "version": 3
   },
   "file_extension": ".py",
   "mimetype": "text/x-python",
   "name": "python",
   "nbconvert_exporter": "python",
   "pygments_lexer": "ipython3",
   "version": "3.7.3"
  }
 },
 "nbformat": 4,
 "nbformat_minor": 4
}
