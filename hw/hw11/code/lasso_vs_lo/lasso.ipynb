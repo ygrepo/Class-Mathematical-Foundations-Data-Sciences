{
 "cells": [
  {
   "cell_type": "code",
   "execution_count": 15,
   "metadata": {},
   "outputs": [],
   "source": [
    "import numpy as np\n",
    "import pandas as pd\n",
    "from sklearn.linear_model import Lasso\n",
    "from sklearn.preprocessing import scale \n",
    "from sklearn.linear_model import lasso_path\n",
    "from sklearn.linear_model import orthogonal_mp as sklearn_orthogonal_mp\n",
    "\n",
    "from itertools import cycle\n",
    "\n",
    "import matplotlib.pyplot as plt"
   ]
  },
  {
   "cell_type": "code",
   "execution_count": 2,
   "metadata": {},
   "outputs": [],
   "source": [
    "X = pd.read_csv(\"X.txt\", delimiter=\" \", header=None)"
   ]
  },
  {
   "cell_type": "code",
   "execution_count": 3,
   "metadata": {},
   "outputs": [
    {
     "data": {
      "text/html": [
       "<div>\n",
       "<style scoped>\n",
       "    .dataframe tbody tr th:only-of-type {\n",
       "        vertical-align: middle;\n",
       "    }\n",
       "\n",
       "    .dataframe tbody tr th {\n",
       "        vertical-align: top;\n",
       "    }\n",
       "\n",
       "    .dataframe thead th {\n",
       "        text-align: right;\n",
       "    }\n",
       "</style>\n",
       "<table border=\"1\" class=\"dataframe\">\n",
       "  <thead>\n",
       "    <tr style=\"text-align: right;\">\n",
       "      <th></th>\n",
       "      <th>0</th>\n",
       "      <th>1</th>\n",
       "      <th>2</th>\n",
       "      <th>3</th>\n",
       "      <th>4</th>\n",
       "      <th>5</th>\n",
       "      <th>6</th>\n",
       "      <th>7</th>\n",
       "      <th>8</th>\n",
       "      <th>9</th>\n",
       "      <th>...</th>\n",
       "      <th>290</th>\n",
       "      <th>291</th>\n",
       "      <th>292</th>\n",
       "      <th>293</th>\n",
       "      <th>294</th>\n",
       "      <th>295</th>\n",
       "      <th>296</th>\n",
       "      <th>297</th>\n",
       "      <th>298</th>\n",
       "      <th>299</th>\n",
       "    </tr>\n",
       "  </thead>\n",
       "  <tbody>\n",
       "    <tr>\n",
       "      <td>0</td>\n",
       "      <td>1.980177</td>\n",
       "      <td>0.628058</td>\n",
       "      <td>0.288046</td>\n",
       "      <td>-1.671945</td>\n",
       "      <td>-0.085840</td>\n",
       "      <td>-0.163211</td>\n",
       "      <td>0.108807</td>\n",
       "      <td>-0.435453</td>\n",
       "      <td>0.147730</td>\n",
       "      <td>-0.285670</td>\n",
       "      <td>...</td>\n",
       "      <td>2.088449</td>\n",
       "      <td>-1.014255</td>\n",
       "      <td>-0.423560</td>\n",
       "      <td>-0.870608</td>\n",
       "      <td>-0.921233</td>\n",
       "      <td>-1.447748</td>\n",
       "      <td>0.554352</td>\n",
       "      <td>-0.967488</td>\n",
       "      <td>1.694810</td>\n",
       "      <td>1.099867</td>\n",
       "    </tr>\n",
       "    <tr>\n",
       "      <td>1</td>\n",
       "      <td>-1.722960</td>\n",
       "      <td>-1.723460</td>\n",
       "      <td>-1.305635</td>\n",
       "      <td>0.706715</td>\n",
       "      <td>-1.542858</td>\n",
       "      <td>-2.186801</td>\n",
       "      <td>-0.742675</td>\n",
       "      <td>-0.319861</td>\n",
       "      <td>-1.350508</td>\n",
       "      <td>0.926180</td>\n",
       "      <td>...</td>\n",
       "      <td>-0.439705</td>\n",
       "      <td>-0.197959</td>\n",
       "      <td>0.314291</td>\n",
       "      <td>-2.054907</td>\n",
       "      <td>0.072413</td>\n",
       "      <td>-1.934991</td>\n",
       "      <td>0.935861</td>\n",
       "      <td>0.750241</td>\n",
       "      <td>-0.191711</td>\n",
       "      <td>-1.499949</td>\n",
       "    </tr>\n",
       "    <tr>\n",
       "      <td>2</td>\n",
       "      <td>1.172566</td>\n",
       "      <td>-0.235771</td>\n",
       "      <td>-0.385216</td>\n",
       "      <td>0.084084</td>\n",
       "      <td>-2.207806</td>\n",
       "      <td>-0.066960</td>\n",
       "      <td>0.500649</td>\n",
       "      <td>-0.156459</td>\n",
       "      <td>-0.350201</td>\n",
       "      <td>-1.449118</td>\n",
       "      <td>...</td>\n",
       "      <td>-1.243935</td>\n",
       "      <td>0.869907</td>\n",
       "      <td>-1.293595</td>\n",
       "      <td>-0.406142</td>\n",
       "      <td>-0.754354</td>\n",
       "      <td>-0.442438</td>\n",
       "      <td>0.600910</td>\n",
       "      <td>-1.034253</td>\n",
       "      <td>-1.905852</td>\n",
       "      <td>0.956277</td>\n",
       "    </tr>\n",
       "    <tr>\n",
       "      <td>3</td>\n",
       "      <td>0.490787</td>\n",
       "      <td>0.993502</td>\n",
       "      <td>0.248395</td>\n",
       "      <td>1.045396</td>\n",
       "      <td>1.532511</td>\n",
       "      <td>1.634100</td>\n",
       "      <td>-0.005681</td>\n",
       "      <td>-0.084379</td>\n",
       "      <td>0.662641</td>\n",
       "      <td>0.474945</td>\n",
       "      <td>...</td>\n",
       "      <td>1.488665</td>\n",
       "      <td>-1.743821</td>\n",
       "      <td>-1.236939</td>\n",
       "      <td>0.117837</td>\n",
       "      <td>0.295043</td>\n",
       "      <td>-1.336598</td>\n",
       "      <td>-0.406536</td>\n",
       "      <td>-0.187841</td>\n",
       "      <td>-0.229590</td>\n",
       "      <td>-0.250259</td>\n",
       "    </tr>\n",
       "    <tr>\n",
       "      <td>4</td>\n",
       "      <td>-1.277386</td>\n",
       "      <td>-0.307068</td>\n",
       "      <td>-0.450868</td>\n",
       "      <td>-0.598372</td>\n",
       "      <td>-0.915832</td>\n",
       "      <td>-1.907487</td>\n",
       "      <td>-1.674766</td>\n",
       "      <td>-0.498261</td>\n",
       "      <td>-1.076544</td>\n",
       "      <td>-0.391446</td>\n",
       "      <td>...</td>\n",
       "      <td>-2.332443</td>\n",
       "      <td>-1.012189</td>\n",
       "      <td>-1.621601</td>\n",
       "      <td>-0.592864</td>\n",
       "      <td>-1.912750</td>\n",
       "      <td>0.160692</td>\n",
       "      <td>-0.386495</td>\n",
       "      <td>-1.646662</td>\n",
       "      <td>-2.829093</td>\n",
       "      <td>-2.327198</td>\n",
       "    </tr>\n",
       "  </tbody>\n",
       "</table>\n",
       "<p>5 rows × 300 columns</p>\n",
       "</div>"
      ],
      "text/plain": [
       "        0         1         2         3         4         5         6    \\\n",
       "0  1.980177  0.628058  0.288046 -1.671945 -0.085840 -0.163211  0.108807   \n",
       "1 -1.722960 -1.723460 -1.305635  0.706715 -1.542858 -2.186801 -0.742675   \n",
       "2  1.172566 -0.235771 -0.385216  0.084084 -2.207806 -0.066960  0.500649   \n",
       "3  0.490787  0.993502  0.248395  1.045396  1.532511  1.634100 -0.005681   \n",
       "4 -1.277386 -0.307068 -0.450868 -0.598372 -0.915832 -1.907487 -1.674766   \n",
       "\n",
       "        7         8         9    ...       290       291       292       293  \\\n",
       "0 -0.435453  0.147730 -0.285670  ...  2.088449 -1.014255 -0.423560 -0.870608   \n",
       "1 -0.319861 -1.350508  0.926180  ... -0.439705 -0.197959  0.314291 -2.054907   \n",
       "2 -0.156459 -0.350201 -1.449118  ... -1.243935  0.869907 -1.293595 -0.406142   \n",
       "3 -0.084379  0.662641  0.474945  ...  1.488665 -1.743821 -1.236939  0.117837   \n",
       "4 -0.498261 -1.076544 -0.391446  ... -2.332443 -1.012189 -1.621601 -0.592864   \n",
       "\n",
       "        294       295       296       297       298       299  \n",
       "0 -0.921233 -1.447748  0.554352 -0.967488  1.694810  1.099867  \n",
       "1  0.072413 -1.934991  0.935861  0.750241 -0.191711 -1.499949  \n",
       "2 -0.754354 -0.442438  0.600910 -1.034253 -1.905852  0.956277  \n",
       "3  0.295043 -1.336598 -0.406536 -0.187841 -0.229590 -0.250259  \n",
       "4 -1.912750  0.160692 -0.386495 -1.646662 -2.829093 -2.327198  \n",
       "\n",
       "[5 rows x 300 columns]"
      ]
     },
     "execution_count": 3,
     "metadata": {},
     "output_type": "execute_result"
    }
   ],
   "source": [
    "X.head()"
   ]
  },
  {
   "cell_type": "code",
   "execution_count": 4,
   "metadata": {},
   "outputs": [
    {
     "data": {
      "text/plain": [
       "(50, 300)"
      ]
     },
     "execution_count": 4,
     "metadata": {},
     "output_type": "execute_result"
    }
   ],
   "source": [
    "X.shape"
   ]
  },
  {
   "cell_type": "code",
   "execution_count": 5,
   "metadata": {},
   "outputs": [],
   "source": [
    "y = pd.read_csv(\"y.txt\", delimiter=\" \", header=None)"
   ]
  },
  {
   "cell_type": "code",
   "execution_count": 6,
   "metadata": {},
   "outputs": [
    {
     "data": {
      "text/html": [
       "<div>\n",
       "<style scoped>\n",
       "    .dataframe tbody tr th:only-of-type {\n",
       "        vertical-align: middle;\n",
       "    }\n",
       "\n",
       "    .dataframe tbody tr th {\n",
       "        vertical-align: top;\n",
       "    }\n",
       "\n",
       "    .dataframe thead th {\n",
       "        text-align: right;\n",
       "    }\n",
       "</style>\n",
       "<table border=\"1\" class=\"dataframe\">\n",
       "  <thead>\n",
       "    <tr style=\"text-align: right;\">\n",
       "      <th></th>\n",
       "      <th>0</th>\n",
       "    </tr>\n",
       "  </thead>\n",
       "  <tbody>\n",
       "    <tr>\n",
       "      <td>0</td>\n",
       "      <td>-0.759361</td>\n",
       "    </tr>\n",
       "    <tr>\n",
       "      <td>1</td>\n",
       "      <td>-2.101183</td>\n",
       "    </tr>\n",
       "    <tr>\n",
       "      <td>2</td>\n",
       "      <td>-0.896895</td>\n",
       "    </tr>\n",
       "    <tr>\n",
       "      <td>3</td>\n",
       "      <td>1.374790</td>\n",
       "    </tr>\n",
       "    <tr>\n",
       "      <td>4</td>\n",
       "      <td>-0.711535</td>\n",
       "    </tr>\n",
       "  </tbody>\n",
       "</table>\n",
       "</div>"
      ],
      "text/plain": [
       "          0\n",
       "0 -0.759361\n",
       "1 -2.101183\n",
       "2 -0.896895\n",
       "3  1.374790\n",
       "4 -0.711535"
      ]
     },
     "execution_count": 6,
     "metadata": {},
     "output_type": "execute_result"
    }
   ],
   "source": [
    "y.head()"
   ]
  },
  {
   "cell_type": "code",
   "execution_count": 7,
   "metadata": {},
   "outputs": [],
   "source": [
    "N=100\n",
    "alphas = np.geomspace(0.001, 2, N)"
   ]
  },
  {
   "cell_type": "code",
   "execution_count": 8,
   "metadata": {},
   "outputs": [
    {
     "data": {
      "text/plain": [
       "Lasso(alpha=0.0147, copy_X=True, fit_intercept=False, max_iter=1000,\n",
       "      normalize=False, positive=False, precompute=False, random_state=None,\n",
       "      selection='cyclic', tol=0.0001, warm_start=False)"
      ]
     },
     "execution_count": 8,
     "metadata": {},
     "output_type": "execute_result"
    }
   ],
   "source": [
    "lasso =  Lasso(alpha=1.47e-2, fit_intercept=False)\n",
    "lasso.fit(X,y)\n",
    "#print(lasso.coef_)"
   ]
  },
  {
   "cell_type": "code",
   "execution_count": 9,
   "metadata": {},
   "outputs": [],
   "source": [
    "coefs = []\n",
    "for a in alphas:\n",
    "    lasso =  Lasso(alpha=a, normalize = False, fit_intercept=False)\n",
    "    lasso.fit(X, y)\n",
    "    coefs.append(lasso.coef_)\n",
    "    #print(lasso.coef_)"
   ]
  },
  {
   "cell_type": "code",
   "execution_count": 13,
   "metadata": {},
   "outputs": [],
   "source": [
    "alpha_array = alphas[:10]"
   ]
  },
  {
   "cell_type": "code",
   "execution_count": 14,
   "metadata": {},
   "outputs": [
    {
     "data": {
      "image/png": "[encoded data removed]",
      "text/plain": [
       "<Figure size 720x504 with 1 Axes>"
      ]
     },
     "metadata": {
      "needs_background": "light"
     },
     "output_type": "display_data"
    }
   ],
   "source": [
    "plt.figure(figsize=(10, 7))\n",
    "plt.semilogx(alphas, coefs)\n",
    "#plt.semilogx(lambdas[1], coefs[1], label = \"lambda 1\")\n",
    "plt.title(f\"Coefficients of the lasso estimates \\n for different values of the regularization parameter $\\lambda$\", fontsize=18)\n",
    "plt.ylabel(\"Coefficients\", fontsize=15, labelpad=10)\n",
    "plt.xlabel(r\"$\\lambda$\", fontsize=15, labelpad=10)\n",
    "plt.legend(['$\\lambda$: '+'{:.2e}'.format(i) for i in alpha_array])\n",
    "#plt.legend(fontsize=18)\n",
    "plt.xticks(fontsize=18)\n",
    "plt.yticks(fontsize=18)\n",
    "plt.axis('tight')\n",
    "#plt.savefig(\"lasso.pdf\", bbox_inches='tight')\n",
    "plt.show()\n",
    "plt.close()"
   ]
  },
  {
   "cell_type": "code",
   "execution_count": 17,
   "metadata": {},
   "outputs": [],
   "source": [
    "alphas, coef_path, _ = lasso_path(X, y, alphas=alphas)"
   ]
  },
  {
   "cell_type": "code",
   "execution_count": 20,
   "metadata": {},
   "outputs": [],
   "source": [
    "coef, n_iter = sklearn_orthogonal_mp(X, y, n_nonzero_coefs= 1, tol=1e-4, return_n_iter=True)"
   ]
  },
  {
   "cell_type": "code",
   "execution_count": 21,
   "metadata": {},
   "outputs": [
    {
     "data": {
      "text/plain": [
       "array([ 5.55140921e-03,  8.87337569e-03, -1.03234421e-03,  1.34267980e+00,\n",
       "        1.22043505e-03,  1.08038599e-03,  4.44806107e-03,  6.67717407e-03,\n",
       "        1.63440733e-03,  9.11582313e-03, -4.01817454e-03,  5.49327931e-03,\n",
       "        3.84181781e-03,  2.69420428e-03,  6.39530861e-03,  4.02215824e-03,\n",
       "        3.65802606e-03, -2.59477902e-03,  7.22508686e-03, -4.17866922e-03,\n",
       "        8.21426568e-03,  3.92431356e-03,  3.31430741e-03,  1.94975924e-03,\n",
       "        5.57322861e-03,  7.08666549e-03,  1.23227633e-03,  8.10551570e-03,\n",
       "       -1.22712344e-03])"
      ]
     },
     "execution_count": 21,
     "metadata": {},
     "output_type": "execute_result"
    }
   ],
   "source": [
    "coef[np.nonzero(coef)]"
   ]
  },
  {
   "cell_type": "code",
   "execution_count": 22,
   "metadata": {},
   "outputs": [
    {
     "data": {
      "text/plain": [
       "(300,)"
      ]
     },
     "execution_count": 22,
     "metadata": {},
     "output_type": "execute_result"
    }
   ],
   "source": [
    "coef.shape"
   ]
  },
  {
   "cell_type": "code",
   "execution_count": 56,
   "metadata": {},
   "outputs": [],
   "source": [
    "def orthogonal_mp(X:np.ndarray, y:np.ndarray, n_nonzero_coefs,  eps_min: np.float64 = 1e-3,\n",
    "                     iter_max: int = 1000):\n",
    "\n",
    "    def stopping_condition(coef, n_nonzero_coefs):\n",
    "        \n",
    "        for i in range(len(coef)):\n",
    "            if coef[i].shape[0] == n_nonzero_coefs:\n",
    "                return True\n",
    "        return False\n",
    "        \n",
    "    col_idx = list()\n",
    "    coefs = list()\n",
    "    residual = y   \n",
    "    \n",
    "    for _ in range(iter_max):\n",
    "        i = np.abs(np.dot(X.T, residual)).argmax()\n",
    "        if i not in col_idx:\n",
    "            col_idx.append(i)\n",
    "        \n",
    "        coefi, _, _, _ = np.linalg.lstsq(X[:, col_idx], y)\n",
    "        coefs.append(coefi)\n",
    "        residual = y - (X[:,col_idx] @ coefi)\n",
    "        #print(residual.T @ X[:,i])\n",
    "        \n",
    "        if stopping_condition(coefs, n_nonzero_coefs):\n",
    "            print(f\"Found required number of non-zero coefficients:{n_nonzero_coefs}\")\n",
    "            break\n",
    "            \n",
    "        #print(np.inner(residual, residual))\n",
    "        if np.linalg.norm(residual) <= eps_min:\n",
    "            print(f\"Residual too small, less than {eps_min}\")\n",
    "            break\n",
    "            \n",
    "    return coefs, col_idx"
   ]
  },
  {
   "cell_type": "code",
   "execution_count": 57,
   "metadata": {},
   "outputs": [
    {
     "name": "stdout",
     "output_type": "stream",
     "text": [
      "(50, 1) (1, 1)\n",
      "[-7.10542736e-15]\n",
      "(50, 2) (2, 1)\n",
      "[2.17603713e-14]\n",
      "Found required number of non-zero coefficients:2\n"
     ]
    },
    {
     "name": "stderr",
     "output_type": "stream",
     "text": [
      "/Users/yg/anaconda3/envs/mathds/lib/python3.7/site-packages/ipykernel_launcher.py:20: FutureWarning: `rcond` parameter will change to the default of machine precision times ``max(M, N)`` where M and N are the input matrix dimensions.\n",
      "To use the future default and silence this warning we advise to pass `rcond=None`, to keep using the old, explicitly pass `rcond=-1`.\n"
     ]
    }
   ],
   "source": [
    "coef, idx = orthogonal_mp(X.values,y.values,2)"
   ]
  },
  {
   "cell_type": "code",
   "execution_count": 58,
   "metadata": {},
   "outputs": [
    {
     "data": {
      "text/plain": [
       "[array([[0.52850665]]), array([[0.33641899],\n",
       "        [0.51962402]])]"
      ]
     },
     "execution_count": 58,
     "metadata": {},
     "output_type": "execute_result"
    }
   ],
   "source": [
    "coef"
   ]
  },
  {
   "cell_type": "code",
   "execution_count": 59,
   "metadata": {},
   "outputs": [
    {
     "data": {
      "text/plain": [
       "[117, 239]"
      ]
     },
     "execution_count": 59,
     "metadata": {},
     "output_type": "execute_result"
    }
   ],
   "source": [
    "idx"
   ]
  },
  {
   "cell_type": "code",
   "execution_count": 60,
   "metadata": {},
   "outputs": [
    {
     "data": {
      "text/plain": [
       "array([[0.33641899],\n",
       "       [0.51962402]])"
      ]
     },
     "execution_count": 60,
     "metadata": {},
     "output_type": "execute_result"
    }
   ],
   "source": [
    "coef[-1]"
   ]
  },
  {
   "cell_type": "code",
   "execution_count": null,
   "metadata": {},
   "outputs": [],
   "source": []
  }
 ],
 "metadata": {
  "kernelspec": {
   "display_name": "mathds",
   "language": "python",
   "name": "mathds"
  },
  "language_info": {
   "codemirror_mode": {
    "name": "ipython",
    "version": 3
   },
   "file_extension": ".py",
   "mimetype": "text/x-python",
   "name": "python",
   "nbconvert_exporter": "python",
   "pygments_lexer": "ipython3",
   "version": "3.7.3"
  }
 },
 "nbformat": 4,
 "nbformat_minor": 4
}
