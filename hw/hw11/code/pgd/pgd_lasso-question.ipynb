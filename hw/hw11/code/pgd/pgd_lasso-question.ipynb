{
 "cells": [
  {
   "cell_type": "code",
   "execution_count": null,
   "metadata": {},
   "outputs": [],
   "source": [
    "%matplotlib inline \n",
    "import numpy as np\n",
    "from matplotlib import pyplot as plt"
   ]
  },
  {
   "cell_type": "markdown",
   "metadata": {},
   "source": [
    "### Utility functions"
   ]
  },
  {
   "cell_type": "code",
   "execution_count": null,
   "metadata": {},
   "outputs": [],
   "source": [
    "\n",
    "def obj(w):\n",
    "    ## calculates the obj functions\n",
    "    r = X*w-y;\n",
    "    return np.sum(np.multiply(r,r))/2 +  lamda * np.sum(np.abs(w))\n"
   ]
  },
  {
   "cell_type": "markdown",
   "metadata": {},
   "source": [
    "## Data"
   ]
  },
  {
   "cell_type": "code",
   "execution_count": null,
   "metadata": {},
   "outputs": [],
   "source": [
    "np.random.seed(50)\n",
    "\n",
    "N = 100\n",
    "dim = 30\n",
    "lamda = 1/np.sqrt(N);\n",
    "\n",
    "w = np.zeros(dim)\n",
    "n_nonzero = 15\n",
    "w[np.random.choice(range(dim), n_nonzero, False)] = np.random.randn(n_nonzero)\n",
    "w = np.matrix(w.reshape(-1, 1))\n",
    "\n",
    "X = np.matrix(np.random.multivariate_normal([0.0]*dim, np.eye(dim), size = N))\n",
    "y = X*w"
   ]
  },
  {
   "cell_type": "markdown",
   "metadata": {},
   "source": [
    "Our objective function of interest is:\n",
    "$$\\frac{1}{2} \\| Xw - y \\|^2 + \\lambda |w|_1 $$\n",
    "\n",
    "In the cell above, the variables X, y, w and lamda corresponds to $X, y, w$ and $\\lambda$ in the equation above."
   ]
  },
  {
   "cell_type": "code",
   "execution_count": null,
   "metadata": {},
   "outputs": [],
   "source": [
    "opt = obj(w)\n",
    "print('Optimal Objective Function Value: ', opt)"
   ]
  },
  {
   "cell_type": "markdown",
   "metadata": {},
   "source": [
    "## Optimal Value using SKLearn"
   ]
  },
  {
   "cell_type": "code",
   "execution_count": null,
   "metadata": {},
   "outputs": [],
   "source": [
    "from sklearn import linear_model\n",
    "clf = linear_model.Lasso(alpha=lamda / N, fit_intercept = False)\n",
    "clf.fit(X, y)"
   ]
  },
  {
   "cell_type": "code",
   "execution_count": null,
   "metadata": {},
   "outputs": [],
   "source": [
    "print('SKLearn obj val: ', obj(clf.coef_.reshape(-1, 1)) )"
   ]
  },
  {
   "cell_type": "markdown",
   "metadata": {},
   "source": [
    "## Proximal Gradient"
   ]
  },
  {
   "cell_type": "code",
   "execution_count": null,
   "metadata": {},
   "outputs": [],
   "source": [
    "max_iter = 100 # max number of iterations of proximal gradient method"
   ]
  },
  {
   "cell_type": "code",
   "execution_count": null,
   "metadata": {},
   "outputs": [],
   "source": [
    "alpha_array = np.logspace(-5, -2, num = 10, base = 10.0) #range over which you search hyperparam"
   ]
  },
  {
   "cell_type": "code",
   "execution_count": null,
   "metadata": {},
   "outputs": [],
   "source": [
    "## Proximal Gadient \n",
    "\n",
    "obj_pg = {} #stores obj function value as a function of iteration for each alpha\n",
    "w_pg = {} #stores the final weight vector learned for each alpha\n",
    "\n",
    "for alpha in alpha_array:\n",
    "    print('Alpha: ', alpha)\n",
    "    \n",
    "    w_pg[alpha] = np.matrix([0.0]*dim).T\n",
    "    obj_pg[alpha] = []\n",
    "    \n",
    "    \n",
    "    for t in range(0, max_iter):\n",
    "        obj_val = obj(w_pg[alpha])\n",
    "        obj_pg[alpha].append(obj_val.item())\n",
    "        \n",
    "        ## fill in your code\n",
    "        ## be sure to include your stopping condition\n",
    "\n",
    "        if (t%5==0):\n",
    "            print('iter= {},\\tobjective= {:3f}'.format(t, obj_val.item()))"
   ]
  },
  {
   "cell_type": "code",
   "execution_count": null,
   "metadata": {},
   "outputs": [],
   "source": [
    "## Plot objective error vs. iteration (log scale)\n",
    "\n",
    "fig, ax = plt.subplots(figsize = (9, 6))\n",
    "\n",
    "for alpha in alpha_array:\n",
    "    plt.semilogy(np.array(obj_pg[alpha])-opt,  linewidth = 2, label = 'alpha: '+'{:.2e}'.format(alpha) )\n",
    "plt.legend(prop={'size':12})\n",
    "plt.xlabel('Iteration')\n",
    "plt.ylabel('Objective error')"
   ]
  },
  {
   "cell_type": "markdown",
   "metadata": {},
   "source": [
    "## Visualize Coefficients"
   ]
  },
  {
   "cell_type": "markdown",
   "metadata": {},
   "source": [
    "pick the coefficient corresponding to alpha value with the minimum objective function value"
   ]
  },
  {
   "cell_type": "code",
   "execution_count": null,
   "metadata": {},
   "outputs": [],
   "source": [
    "min_obj= np.inf\n",
    "min_alpha = None"
   ]
  },
  {
   "cell_type": "code",
   "execution_count": null,
   "metadata": {},
   "outputs": [],
   "source": [
    "for alpha in alpha_array:\n",
    "    if obj_pg[alpha][-1] < min_obj:\n",
    "        min_alpha = alpha\n",
    "        min_obj = obj_pg[alpha][-1]"
   ]
  },
  {
   "cell_type": "code",
   "execution_count": null,
   "metadata": {},
   "outputs": [],
   "source": [
    "plt.figure(figsize = (10, 5))\n",
    "\n",
    "ax = plt.subplot(111)\n",
    "\n",
    "x = np.arange(1, dim+1)\n",
    "\n",
    "ax.bar(x-0.3, clf.coef_, width=0.2, color='r', align='center', label = 'sklearn')\n",
    "ax.bar(x, np.ravel(np.array(w_pg[min_alpha])), width=0.2, color='g', align='center', label = 'Proximal Descent')\n",
    "ax.bar(x+0.3, np.ravel(np.array(w)), width=0.2, color='b', align='center', label = 'Ground Truth')\n",
    "\n",
    "plt.legend()\n",
    "\n",
    "plt.show()"
   ]
  },
  {
   "cell_type": "code",
   "execution_count": null,
   "metadata": {},
   "outputs": [],
   "source": []
  }
 ],
 "metadata": {
  "kernelspec": {
   "display_name": "Python 3",
   "language": "python",
   "name": "python3"
  },
  "language_info": {
   "codemirror_mode": {
    "name": "ipython",
    "version": 3
   },
   "file_extension": ".py",
   "mimetype": "text/x-python",
   "name": "python",
   "nbconvert_exporter": "python",
   "pygments_lexer": "ipython3",
   "version": "3.7.0"
  }
 },
 "nbformat": 4,
 "nbformat_minor": 2
}
