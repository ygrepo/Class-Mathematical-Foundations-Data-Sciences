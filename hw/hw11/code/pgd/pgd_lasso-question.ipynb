{
 "cells": [
  {
   "cell_type": "code",
   "execution_count": 1,
   "metadata": {},
   "outputs": [],
   "source": [
    "%matplotlib inline \n",
    "import numpy as np\n",
    "from matplotlib import pyplot as plt"
   ]
  },
  {
   "cell_type": "markdown",
   "metadata": {},
   "source": [
    "### Utility functions"
   ]
  },
  {
   "cell_type": "code",
   "execution_count": 2,
   "metadata": {},
   "outputs": [],
   "source": [
    "\n",
    "def obj(w):\n",
    "    ## calculates the obj functions\n",
    "    r = X*w-y;\n",
    "    return np.sum(np.multiply(r,r))/2 +  lamda * np.sum(np.abs(w))\n"
   ]
  },
  {
   "cell_type": "markdown",
   "metadata": {},
   "source": [
    "## Data"
   ]
  },
  {
   "cell_type": "code",
   "execution_count": 3,
   "metadata": {},
   "outputs": [],
   "source": [
    "np.random.seed(50)\n",
    "\n",
    "N = 100\n",
    "dim = 30\n",
    "lamda = 1/np.sqrt(N);\n",
    "\n",
    "w = np.zeros(dim)\n",
    "n_nonzero = 15\n",
    "w[np.random.choice(range(dim), n_nonzero, False)] = np.random.randn(n_nonzero)\n",
    "w = np.matrix(w.reshape(-1, 1))\n",
    "\n",
    "X = np.matrix(np.random.multivariate_normal([0.0]*dim, np.eye(dim), size = N))\n",
    "y = X*w"
   ]
  },
  {
   "cell_type": "markdown",
   "metadata": {},
   "source": [
    "Our objective function of interest is:\n",
    "$$\\frac{1}{2} \\| Xw - y \\|^2 + \\lambda |w|_1 $$\n",
    "\n",
    "In the cell above, the variables X, y, w and lamda corresponds to $X, y, w$ and $\\lambda$ in the equation above."
   ]
  },
  {
   "cell_type": "code",
   "execution_count": 4,
   "metadata": {},
   "outputs": [
    {
     "name": "stdout",
     "output_type": "stream",
     "text": [
      "Optimal Objective Function Value:  1.3043384900597284\n"
     ]
    }
   ],
   "source": [
    "opt = obj(w)\n",
    "print('Optimal Objective Function Value: ', opt)"
   ]
  },
  {
   "cell_type": "markdown",
   "metadata": {},
   "source": [
    "## Optimal Value using SKLearn"
   ]
  },
  {
   "cell_type": "code",
   "execution_count": 5,
   "metadata": {},
   "outputs": [
    {
     "data": {
      "text/plain": [
       "Lasso(alpha=0.001, copy_X=True, fit_intercept=False, max_iter=1000,\n",
       "      normalize=False, positive=False, precompute=False, random_state=None,\n",
       "      selection='cyclic', tol=0.0001, warm_start=False)"
      ]
     },
     "execution_count": 5,
     "metadata": {},
     "output_type": "execute_result"
    }
   ],
   "source": [
    "from sklearn import linear_model\n",
    "clf = linear_model.Lasso(alpha=lamda / N, fit_intercept = False)\n",
    "clf.fit(X, y)"
   ]
  },
  {
   "cell_type": "code",
   "execution_count": 6,
   "metadata": {},
   "outputs": [
    {
     "name": "stdout",
     "output_type": "stream",
     "text": [
      "SKLearn obj val:  1.303641803846212\n"
     ]
    }
   ],
   "source": [
    "print('SKLearn obj val: ', obj(clf.coef_.reshape(-1, 1)) )"
   ]
  },
  {
   "cell_type": "markdown",
   "metadata": {},
   "source": [
    "## Proximal Gradient"
   ]
  },
  {
   "cell_type": "code",
   "execution_count": 7,
   "metadata": {},
   "outputs": [],
   "source": [
    "max_iter = 100 # max number of iterations of proximal gradient method"
   ]
  },
  {
   "cell_type": "code",
   "execution_count": 8,
   "metadata": {},
   "outputs": [],
   "source": [
    "alpha_array = np.logspace(-5, -2, num = 10, base = 10.0) #range over which you search hyperparam"
   ]
  },
  {
   "cell_type": "code",
   "execution_count": 61,
   "metadata": {},
   "outputs": [],
   "source": [
    "def soft_thresh(x, alpha):\n",
    "    return np.multiply(np.sign(x), np.maximum(np.abs(x) - alpha, 0.))"
   ]
  },
  {
   "cell_type": "code",
   "execution_count": 62,
   "metadata": {},
   "outputs": [],
   "source": [
    "def f(X, w, y):\n",
    "    ## calculates the first term \n",
    "    r = X*w-y;\n",
    "    return np.sum(np.multiply(r,r))/2 "
   ]
  },
  {
   "cell_type": "code",
   "execution_count": 63,
   "metadata": {},
   "outputs": [],
   "source": [
    "def sum_square(x,y,alpha):\n",
    "    r = x - y\n",
    "    return np.sum(np.multiply(r,r))/2/alpha "
   ]
  },
  {
   "cell_type": "code",
   "execution_count": 70,
   "metadata": {},
   "outputs": [],
   "source": [
    "ABSTOL   = 1e-4;"
   ]
  },
  {
   "cell_type": "code",
   "execution_count": 112,
   "metadata": {},
   "outputs": [
    {
     "name": "stdout",
     "output_type": "stream",
     "text": [
      "Alpha:  1e-05\n",
      "iter= 0,\tobjective= 831.575313\n",
      "iter= 5,\tobjective= 819.613092\n",
      "iter= 10,\tobjective= 807.848566\n",
      "iter= 15,\tobjective= 796.278237\n",
      "iter= 20,\tobjective= 784.898667\n",
      "iter= 25,\tobjective= 773.706484\n",
      "iter= 30,\tobjective= 762.698378\n",
      "iter= 35,\tobjective= 751.871097\n",
      "iter= 40,\tobjective= 741.221453\n",
      "iter= 45,\tobjective= 730.746312\n",
      "iter= 50,\tobjective= 720.442600\n",
      "iter= 55,\tobjective= 710.307299\n",
      "iter= 60,\tobjective= 700.337446\n",
      "iter= 65,\tobjective= 690.530131\n",
      "iter= 70,\tobjective= 680.882500\n",
      "iter= 75,\tobjective= 671.391748\n",
      "iter= 80,\tobjective= 662.055124\n",
      "iter= 85,\tobjective= 652.869926\n",
      "iter= 90,\tobjective= 643.833500\n",
      "iter= 95,\tobjective= 634.943244\n",
      "Alpha:  2.1544346900318823e-05\n",
      "iter= 0,\tobjective= 831.575313\n",
      "iter= 5,\tobjective= 806.024984\n",
      "iter= 10,\tobjective= 781.375461\n",
      "iter= 15,\tobjective= 757.592735\n",
      "iter= 20,\tobjective= 734.644131\n",
      "iter= 25,\tobjective= 712.498252\n",
      "iter= 30,\tobjective= 691.124926\n",
      "iter= 35,\tobjective= 670.495164\n",
      "iter= 40,\tobjective= 650.581102\n",
      "iter= 45,\tobjective= 631.355969\n",
      "iter= 50,\tobjective= 612.794030\n",
      "iter= 55,\tobjective= 594.870556\n",
      "iter= 60,\tobjective= 577.561777\n",
      "iter= 65,\tobjective= 560.844846\n",
      "iter= 70,\tobjective= 544.697802\n",
      "iter= 75,\tobjective= 529.099536\n",
      "iter= 80,\tobjective= 514.029754\n",
      "iter= 85,\tobjective= 499.468949\n",
      "iter= 90,\tobjective= 485.398365\n",
      "iter= 95,\tobjective= 471.799973\n",
      "Alpha:  4.641588833612782e-05\n",
      "iter= 0,\tobjective= 831.575313\n",
      "iter= 5,\tobjective= 777.539237\n",
      "iter= 10,\tobjective= 727.521622\n",
      "iter= 15,\tobjective= 681.202767\n",
      "iter= 20,\tobjective= 638.289343\n",
      "iter= 25,\tobjective= 598.512173\n",
      "iter= 30,\tobjective= 561.624200\n",
      "iter= 35,\tobjective= 527.398621\n",
      "iter= 40,\tobjective= 495.627190\n",
      "iter= 45,\tobjective= 466.118659\n",
      "iter= 50,\tobjective= 438.697357\n",
      "iter= 55,\tobjective= 413.201889\n",
      "iter= 60,\tobjective= 389.484327\n",
      "iter= 65,\tobjective= 367.408070\n",
      "iter= 70,\tobjective= 346.847743\n",
      "iter= 75,\tobjective= 327.688087\n",
      "iter= 80,\tobjective= 309.823088\n",
      "iter= 85,\tobjective= 293.155215\n",
      "iter= 90,\tobjective= 277.594720\n",
      "iter= 95,\tobjective= 263.058992\n",
      "Alpha:  0.0001\n",
      "iter= 0,\tobjective= 831.575313\n",
      "iter= 5,\tobjective= 719.676709\n",
      "iter= 10,\tobjective= 624.914247\n",
      "iter= 15,\tobjective= 544.486075\n",
      "iter= 20,\tobjective= 476.065013\n",
      "iter= 25,\tobjective= 417.716373\n",
      "iter= 30,\tobjective= 367.830995\n",
      "iter= 35,\tobjective= 325.067565\n",
      "iter= 40,\tobjective= 288.307526\n",
      "iter= 45,\tobjective= 256.617281\n",
      "iter= 50,\tobjective= 229.216564\n",
      "iter= 55,\tobjective= 205.452453\n",
      "iter= 60,\tobjective= 184.777877\n",
      "iter= 65,\tobjective= 166.733822\n",
      "iter= 70,\tobjective= 150.934612\n",
      "iter= 75,\tobjective= 137.055694\n",
      "iter= 80,\tobjective= 124.823520\n",
      "iter= 85,\tobjective= 114.007150\n",
      "iter= 90,\tobjective= 104.411271\n",
      "iter= 95,\tobjective= 95.870400\n",
      "Alpha:  0.00021544346900318823\n",
      "iter= 0,\tobjective= 831.575313\n",
      "iter= 5,\tobjective= 609.860429\n",
      "iter= 10,\tobjective= 454.644612\n",
      "iter= 15,\tobjective= 344.725303\n",
      "iter= 20,\tobjective= 265.891819\n",
      "iter= 25,\tobjective= 208.569869\n",
      "iter= 30,\tobjective= 166.274566\n",
      "iter= 35,\tobjective= 134.585614\n",
      "iter= 40,\tobjective= 110.468846\n",
      "iter= 45,\tobjective= 91.825292\n",
      "iter= 50,\tobjective= 77.190376\n",
      "iter= 55,\tobjective= 65.532456\n",
      "iter= 60,\tobjective= 56.117303\n",
      "iter= 65,\tobjective= 48.416493\n",
      "iter= 70,\tobjective= 42.045161\n",
      "iter= 75,\tobjective= 36.719455\n",
      "iter= 80,\tobjective= 32.227274\n",
      "iter= 85,\tobjective= 28.408004\n",
      "iter= 90,\tobjective= 25.138375\n",
      "iter= 95,\tobjective= 22.322513\n",
      "Alpha:  0.00046415888336127773\n",
      "iter= 0,\tobjective= 831.575313\n",
      "iter= 5,\tobjective= 429.713617\n",
      "iter= 10,\tobjective= 241.404954\n",
      "iter= 15,\tobjective= 147.093031\n",
      "iter= 20,\tobjective= 96.172993\n",
      "iter= 25,\tobjective= 66.491625\n",
      "iter= 30,\tobjective= 47.929709\n",
      "iter= 35,\tobjective= 35.619323\n",
      "iter= 40,\tobjective= 27.073858\n",
      "iter= 45,\tobjective= 20.937697\n",
      "iter= 50,\tobjective= 16.421933\n",
      "iter= 55,\tobjective= 13.038851\n",
      "iter= 60,\tobjective= 10.470824\n",
      "iter= 65,\tobjective= 8.502053\n",
      "iter= 70,\tobjective= 6.981279\n",
      "iter= 75,\tobjective= 5.799631\n",
      "iter= 80,\tobjective= 4.876377\n",
      "iter= 85,\tobjective= 4.151815\n",
      "iter= 90,\tobjective= 3.580965\n",
      "iter= 95,\tobjective= 3.130082\n",
      "Alpha:  0.001\n",
      "iter= 0,\tobjective= 831.575313\n",
      "iter= 5,\tobjective= 212.240340\n",
      "iter= 10,\tobjective= 81.204986\n",
      "iter= 15,\tobjective= 39.864126\n",
      "iter= 20,\tobjective= 22.144332\n",
      "iter= 25,\tobjective= 13.191095\n",
      "iter= 30,\tobjective= 8.292510\n",
      "iter= 35,\tobjective= 5.498502\n",
      "iter= 40,\tobjective= 3.862737\n",
      "iter= 45,\tobjective= 2.887315\n",
      "iter= 50,\tobjective= 2.295871\n",
      "iter= 55,\tobjective= 1.932385\n",
      "iter= 60,\tobjective= 1.706286\n",
      "iter= 65,\tobjective= 1.564067\n",
      "iter= 70,\tobjective= 1.473809\n",
      "iter= 75,\tobjective= 1.415957\n",
      "iter= 80,\tobjective= 1.378511\n",
      "iter= 85,\tobjective= 1.354058\n",
      "iter= 90,\tobjective= 1.337799\n",
      "iter= 95,\tobjective= 1.326886\n",
      "Alpha:  0.002154434690031882\n",
      "iter= 0,\tobjective= 831.575313\n",
      "iter= 5,\tobjective= 64.575760\n",
      "iter= 10,\tobjective= 17.182419\n",
      "iter= 15,\tobjective= 6.240016\n",
      "iter= 20,\tobjective= 2.979018\n",
      "iter= 25,\tobjective= 1.909403\n",
      "iter= 30,\tobjective= 1.534706\n",
      "iter= 35,\tobjective= 1.396339\n",
      "iter= 40,\tobjective= 1.342633\n",
      "iter= 45,\tobjective= 1.320451\n",
      "iter= 50,\tobjective= 1.310930\n",
      "iter= 55,\tobjective= 1.306722\n",
      "iter= 60,\tobjective= 1.304864\n",
      "Alpha:  0.004641588833612777\n",
      "iter= 0,\tobjective= 831.575313\n",
      "iter= 5,\tobjective= 11.856156\n",
      "iter= 10,\tobjective= 2.199656\n",
      "iter= 15,\tobjective= 1.409310\n",
      "iter= 20,\tobjective= 1.319303\n",
      "iter= 25,\tobjective= 1.305967\n",
      "iter= 30,\tobjective= 1.303872\n",
      "Alpha:  0.01\n",
      "iter= 0,\tobjective= 831.575313\n",
      "iter= 5,\tobjective= 394.540987\n",
      "iter= 10,\tobjective= 884.441080\n",
      "iter= 15,\tobjective= 3166.898303\n",
      "iter= 20,\tobjective= 13436.715575\n",
      "iter= 25,\tobjective= 59606.874196\n",
      "iter= 30,\tobjective= 267262.532044\n",
      "iter= 35,\tobjective= 1201588.502893\n",
      "iter= 40,\tobjective= 5406283.545581\n",
      "iter= 45,\tobjective= 24330284.188057\n",
      "iter= 50,\tobjective= 109505138.985328\n",
      "iter= 55,\tobjective= 492876320.226837\n",
      "iter= 60,\tobjective= 2218444198.129278\n",
      "iter= 65,\tobjective= 9985327412.626923\n",
      "iter= 70,\tobjective= 44944610015.875427\n",
      "iter= 75,\tobjective= 202298949833.236664\n",
      "iter= 80,\tobjective= 910562941976.539185\n",
      "iter= 85,\tobjective= 4098514449425.252441\n",
      "iter= 90,\tobjective= 18447734647025.667969\n",
      "iter= 95,\tobjective= 83034705605376.609375\n"
     ]
    }
   ],
   "source": [
    "## Proximal Gadient \n",
    "\n",
    "obj_pg = {} #stores obj function value as a function of iteration for each alpha\n",
    "w_pg = {} #stores the final weight vector learned for each alpha\n",
    "\n",
    "for alpha in alpha_array:\n",
    "    print('Alpha: ', alpha)\n",
    "    \n",
    "    w_pg[alpha] = np.matrix([0.0]*dim).T\n",
    "    obj_pg[alpha] = []\n",
    "    \n",
    "    \n",
    "    for t in range(0, max_iter):\n",
    "        obj_val = obj(w_pg[alpha])\n",
    "        obj_pg[alpha].append(obj_val.item())\n",
    "        \n",
    "        ## fill in your code\n",
    "        ## be sure to include your stopping condition\n",
    "        grad_beta = X.T @ (X @ w_pg[alpha]) - (X.T @ y)\n",
    "#        z = soft_thresh(w_pg[alpha] - alpha * grad_beta, lamda * alpha)\n",
    "\n",
    "        z = soft_thresh(w_pg[alpha] + alpha * np.dot(X.T, y - X.dot(w_pg[alpha])), alpha * lamda)\n",
    "        d = np.abs(obj(z) - obj(w_pg[alpha]))\n",
    "        if d.item() < ABSTOL:\n",
    "            break\n",
    "        w_pg[alpha] = z\n",
    "         \n",
    "\n",
    "        if (t%5==0):\n",
    "            print('iter= {},\\tobjective= {:3f}'.format(t, obj_val.item()))"
   ]
  },
  {
   "cell_type": "code",
   "execution_count": 113,
   "metadata": {},
   "outputs": [
    {
     "data": {
      "image/png": "[encoded data removed]",
      "text/plain": [
       "<Figure size 648x432 with 1 Axes>"
      ]
     },
     "metadata": {
      "needs_background": "light"
     },
     "output_type": "display_data"
    }
   ],
   "source": [
    "## Plot objective error vs. iteration (log scale)\n",
    "\n",
    "fig, ax = plt.subplots(figsize = (9, 6))\n",
    "\n",
    "for alpha in alpha_array:\n",
    "    plt.semilogy(np.array(obj_pg[alpha])-opt,  linewidth = 2, label = 'alpha: '+'{:.2e}'.format(alpha) )\n",
    "plt.legend(prop={'size':12})\n",
    "plt.xlabel('Iteration')\n",
    "plt.ylabel('Objective error')\n",
    "plt.savefig(\"objective_error.pdf\", bbox_inches='tight')"
   ]
  },
  {
   "cell_type": "markdown",
   "metadata": {},
   "source": [
    "## Visualize Coefficients"
   ]
  },
  {
   "cell_type": "markdown",
   "metadata": {},
   "source": [
    "pick the coefficient corresponding to alpha value with the minimum objective function value"
   ]
  },
  {
   "cell_type": "code",
   "execution_count": 108,
   "metadata": {},
   "outputs": [],
   "source": [
    "min_obj= np.inf\n",
    "min_alpha = None"
   ]
  },
  {
   "cell_type": "code",
   "execution_count": 109,
   "metadata": {},
   "outputs": [],
   "source": [
    "for alpha in alpha_array:\n",
    "    if obj_pg[alpha][-1] < min_obj:\n",
    "        min_alpha = alpha\n",
    "        min_obj = obj_pg[alpha][-1]"
   ]
  },
  {
   "cell_type": "code",
   "execution_count": 117,
   "metadata": {},
   "outputs": [
    {
     "data": {
      "image/png": "[encoded data removed]",
      "text/plain": [
       "<Figure size 720x360 with 1 Axes>"
      ]
     },
     "metadata": {
      "needs_background": "light"
     },
     "output_type": "display_data"
    }
   ],
   "source": [
    "plt.figure(figsize = (10, 5))\n",
    "\n",
    "ax = plt.subplot(111)\n",
    "\n",
    "x = np.arange(1, dim+1)\n",
    "\n",
    "ax.bar(x-0.3, clf.coef_, width=0.2, color='r', align='center', label = 'sklearn')\n",
    "ax.bar(x, np.ravel(np.array(w_pg[min_alpha])), width=0.2, color='g', align='center', label = 'Proximal Descent')\n",
    "ax.bar(x+0.3, np.ravel(np.array(w)), width=0.2, color='b', align='center', label = 'Ground Truth')\n",
    "\n",
    "plt.legend()\n",
    "plt.savefig(\"compare_models.pdf\", bbox_inches='tight')\n",
    "plt.show()\n"
   ]
  },
  {
   "cell_type": "code",
   "execution_count": null,
   "metadata": {},
   "outputs": [],
   "source": []
  }
 ],
 "metadata": {
  "kernelspec": {
   "display_name": "mathds",
   "language": "python",
   "name": "mathds"
  },
  "language_info": {
   "codemirror_mode": {
    "name": "ipython",
    "version": 3
   },
   "file_extension": ".py",
   "mimetype": "text/x-python",
   "name": "python",
   "nbconvert_exporter": "python",
   "pygments_lexer": "ipython3",
   "version": "3.7.3"
  }
 },
 "nbformat": 4,
 "nbformat_minor": 4
}
